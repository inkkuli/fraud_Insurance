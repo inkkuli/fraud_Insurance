{
 "cells": [
  {
   "cell_type": "code",
   "execution_count": 495,
   "metadata": {},
   "outputs": [],
   "source": [
    "import numpy as np\n",
    "import pandas as pd \n",
    "import matplotlib.pyplot as plt\n",
    "import seaborn as sns\n",
    "import plotly.express as px  \n",
    "import plotly.graph_objects as go  \n"
   ]
  },
  {
   "cell_type": "code",
   "execution_count": 496,
   "metadata": {},
   "outputs": [
    {
     "data": {
      "text/html": [
       "<div>\n",
       "<style scoped>\n",
       "    .dataframe tbody tr th:only-of-type {\n",
       "        vertical-align: middle;\n",
       "    }\n",
       "\n",
       "    .dataframe tbody tr th {\n",
       "        vertical-align: top;\n",
       "    }\n",
       "\n",
       "    .dataframe thead th {\n",
       "        text-align: right;\n",
       "    }\n",
       "</style>\n",
       "<table border=\"1\" class=\"dataframe\">\n",
       "  <thead>\n",
       "    <tr style=\"text-align: right;\">\n",
       "      <th></th>\n",
       "      <th>months_as_customer</th>\n",
       "      <th>age</th>\n",
       "      <th>policy_number</th>\n",
       "      <th>policy_bind_date</th>\n",
       "      <th>policy_state</th>\n",
       "      <th>policy_csl</th>\n",
       "      <th>policy_deductable</th>\n",
       "      <th>policy_annual_premium</th>\n",
       "      <th>umbrella_limit</th>\n",
       "      <th>insured_zip</th>\n",
       "      <th>...</th>\n",
       "      <th>witnesses</th>\n",
       "      <th>police_report_available</th>\n",
       "      <th>total_claim_amount</th>\n",
       "      <th>injury_claim</th>\n",
       "      <th>property_claim</th>\n",
       "      <th>vehicle_claim</th>\n",
       "      <th>auto_make</th>\n",
       "      <th>auto_model</th>\n",
       "      <th>auto_year</th>\n",
       "      <th>fraud_reported</th>\n",
       "    </tr>\n",
       "  </thead>\n",
       "  <tbody>\n",
       "    <tr>\n",
       "      <th>0</th>\n",
       "      <td>328</td>\n",
       "      <td>48</td>\n",
       "      <td>521585</td>\n",
       "      <td>2014-10-17</td>\n",
       "      <td>OH</td>\n",
       "      <td>250/500</td>\n",
       "      <td>1000</td>\n",
       "      <td>1406.91</td>\n",
       "      <td>0</td>\n",
       "      <td>466132</td>\n",
       "      <td>...</td>\n",
       "      <td>2</td>\n",
       "      <td>YES</td>\n",
       "      <td>71610</td>\n",
       "      <td>6510</td>\n",
       "      <td>13020</td>\n",
       "      <td>52080</td>\n",
       "      <td>Saab</td>\n",
       "      <td>92x</td>\n",
       "      <td>2004</td>\n",
       "      <td>Y</td>\n",
       "    </tr>\n",
       "    <tr>\n",
       "      <th>1</th>\n",
       "      <td>228</td>\n",
       "      <td>42</td>\n",
       "      <td>342868</td>\n",
       "      <td>2006-06-27</td>\n",
       "      <td>IN</td>\n",
       "      <td>250/500</td>\n",
       "      <td>2000</td>\n",
       "      <td>1197.22</td>\n",
       "      <td>5000000</td>\n",
       "      <td>468176</td>\n",
       "      <td>...</td>\n",
       "      <td>0</td>\n",
       "      <td>?</td>\n",
       "      <td>5070</td>\n",
       "      <td>780</td>\n",
       "      <td>780</td>\n",
       "      <td>3510</td>\n",
       "      <td>Mercedes</td>\n",
       "      <td>E400</td>\n",
       "      <td>2007</td>\n",
       "      <td>Y</td>\n",
       "    </tr>\n",
       "    <tr>\n",
       "      <th>2</th>\n",
       "      <td>134</td>\n",
       "      <td>29</td>\n",
       "      <td>687698</td>\n",
       "      <td>2000-09-06</td>\n",
       "      <td>OH</td>\n",
       "      <td>100/300</td>\n",
       "      <td>2000</td>\n",
       "      <td>1413.14</td>\n",
       "      <td>5000000</td>\n",
       "      <td>430632</td>\n",
       "      <td>...</td>\n",
       "      <td>3</td>\n",
       "      <td>NO</td>\n",
       "      <td>34650</td>\n",
       "      <td>7700</td>\n",
       "      <td>3850</td>\n",
       "      <td>23100</td>\n",
       "      <td>Dodge</td>\n",
       "      <td>RAM</td>\n",
       "      <td>2007</td>\n",
       "      <td>N</td>\n",
       "    </tr>\n",
       "    <tr>\n",
       "      <th>3</th>\n",
       "      <td>256</td>\n",
       "      <td>41</td>\n",
       "      <td>227811</td>\n",
       "      <td>1990-05-25</td>\n",
       "      <td>IL</td>\n",
       "      <td>250/500</td>\n",
       "      <td>2000</td>\n",
       "      <td>1415.74</td>\n",
       "      <td>6000000</td>\n",
       "      <td>608117</td>\n",
       "      <td>...</td>\n",
       "      <td>2</td>\n",
       "      <td>NO</td>\n",
       "      <td>63400</td>\n",
       "      <td>6340</td>\n",
       "      <td>6340</td>\n",
       "      <td>50720</td>\n",
       "      <td>Chevrolet</td>\n",
       "      <td>Tahoe</td>\n",
       "      <td>2014</td>\n",
       "      <td>Y</td>\n",
       "    </tr>\n",
       "    <tr>\n",
       "      <th>4</th>\n",
       "      <td>228</td>\n",
       "      <td>44</td>\n",
       "      <td>367455</td>\n",
       "      <td>2014-06-06</td>\n",
       "      <td>IL</td>\n",
       "      <td>500/1000</td>\n",
       "      <td>1000</td>\n",
       "      <td>1583.91</td>\n",
       "      <td>6000000</td>\n",
       "      <td>610706</td>\n",
       "      <td>...</td>\n",
       "      <td>1</td>\n",
       "      <td>NO</td>\n",
       "      <td>6500</td>\n",
       "      <td>1300</td>\n",
       "      <td>650</td>\n",
       "      <td>4550</td>\n",
       "      <td>Accura</td>\n",
       "      <td>RSX</td>\n",
       "      <td>2009</td>\n",
       "      <td>N</td>\n",
       "    </tr>\n",
       "  </tbody>\n",
       "</table>\n",
       "<p>5 rows × 39 columns</p>\n",
       "</div>"
      ],
      "text/plain": [
       "   months_as_customer  age  policy_number policy_bind_date policy_state  \\\n",
       "0                 328   48         521585       2014-10-17           OH   \n",
       "1                 228   42         342868       2006-06-27           IN   \n",
       "2                 134   29         687698       2000-09-06           OH   \n",
       "3                 256   41         227811       1990-05-25           IL   \n",
       "4                 228   44         367455       2014-06-06           IL   \n",
       "\n",
       "  policy_csl  policy_deductable  policy_annual_premium  umbrella_limit  \\\n",
       "0    250/500               1000                1406.91               0   \n",
       "1    250/500               2000                1197.22         5000000   \n",
       "2    100/300               2000                1413.14         5000000   \n",
       "3    250/500               2000                1415.74         6000000   \n",
       "4   500/1000               1000                1583.91         6000000   \n",
       "\n",
       "   insured_zip  ... witnesses police_report_available total_claim_amount  \\\n",
       "0       466132  ...         2                     YES              71610   \n",
       "1       468176  ...         0                       ?               5070   \n",
       "2       430632  ...         3                      NO              34650   \n",
       "3       608117  ...         2                      NO              63400   \n",
       "4       610706  ...         1                      NO               6500   \n",
       "\n",
       "  injury_claim property_claim  vehicle_claim  auto_make auto_model auto_year  \\\n",
       "0         6510          13020          52080       Saab        92x      2004   \n",
       "1          780            780           3510   Mercedes       E400      2007   \n",
       "2         7700           3850          23100      Dodge        RAM      2007   \n",
       "3         6340           6340          50720  Chevrolet      Tahoe      2014   \n",
       "4         1300            650           4550     Accura        RSX      2009   \n",
       "\n",
       "  fraud_reported  \n",
       "0              Y  \n",
       "1              Y  \n",
       "2              N  \n",
       "3              Y  \n",
       "4              N  \n",
       "\n",
       "[5 rows x 39 columns]"
      ]
     },
     "execution_count": 496,
     "metadata": {},
     "output_type": "execute_result"
    }
   ],
   "source": [
    "df = pd.read_excel(\"Worksheet in Case Study question 2.xlsx\")\n",
    "\n",
    "df.head()"
   ]
  },
  {
   "cell_type": "code",
   "execution_count": 497,
   "metadata": {},
   "outputs": [
    {
     "name": "stdout",
     "output_type": "stream",
     "text": [
      "<class 'pandas.core.frame.DataFrame'>\n",
      "RangeIndex: 1000 entries, 0 to 999\n",
      "Data columns (total 39 columns):\n",
      " #   Column                       Non-Null Count  Dtype         \n",
      "---  ------                       --------------  -----         \n",
      " 0   months_as_customer           1000 non-null   int64         \n",
      " 1   age                          1000 non-null   int64         \n",
      " 2   policy_number                1000 non-null   int64         \n",
      " 3   policy_bind_date             1000 non-null   datetime64[ns]\n",
      " 4   policy_state                 1000 non-null   object        \n",
      " 5   policy_csl                   1000 non-null   object        \n",
      " 6   policy_deductable            1000 non-null   int64         \n",
      " 7   policy_annual_premium        1000 non-null   float64       \n",
      " 8   umbrella_limit               1000 non-null   int64         \n",
      " 9   insured_zip                  1000 non-null   int64         \n",
      " 10  insured_sex                  1000 non-null   object        \n",
      " 11  insured_education_level      1000 non-null   object        \n",
      " 12  insured_occupation           1000 non-null   object        \n",
      " 13  insured_hobbies              1000 non-null   object        \n",
      " 14  insured_relationship         1000 non-null   object        \n",
      " 15  capital-gains                1000 non-null   int64         \n",
      " 16  capital-loss                 1000 non-null   int64         \n",
      " 17  incident_date                1000 non-null   datetime64[ns]\n",
      " 18  incident_type                1000 non-null   object        \n",
      " 19  collision_type               1000 non-null   object        \n",
      " 20  incident_severity            1000 non-null   object        \n",
      " 21  authorities_contacted        909 non-null    object        \n",
      " 22  incident_state               1000 non-null   object        \n",
      " 23  incident_city                1000 non-null   object        \n",
      " 24  incident_location            1000 non-null   object        \n",
      " 25  incident_hour_of_the_day     1000 non-null   int64         \n",
      " 26  number_of_vehicles_involved  1000 non-null   int64         \n",
      " 27  property_damage              1000 non-null   object        \n",
      " 28  bodily_injuries              1000 non-null   int64         \n",
      " 29  witnesses                    1000 non-null   int64         \n",
      " 30  police_report_available      1000 non-null   object        \n",
      " 31  total_claim_amount           1000 non-null   int64         \n",
      " 32  injury_claim                 1000 non-null   int64         \n",
      " 33  property_claim               1000 non-null   int64         \n",
      " 34  vehicle_claim                1000 non-null   int64         \n",
      " 35  auto_make                    1000 non-null   object        \n",
      " 36  auto_model                   1000 non-null   object        \n",
      " 37  auto_year                    1000 non-null   int64         \n",
      " 38  fraud_reported               1000 non-null   object        \n",
      "dtypes: datetime64[ns](2), float64(1), int64(17), object(19)\n",
      "memory usage: 304.8+ KB\n"
     ]
    }
   ],
   "source": [
    "df.info()"
   ]
  },
  {
   "cell_type": "code",
   "execution_count": 498,
   "metadata": {},
   "outputs": [
    {
     "data": {
      "text/html": [
       "<div>\n",
       "<style scoped>\n",
       "    .dataframe tbody tr th:only-of-type {\n",
       "        vertical-align: middle;\n",
       "    }\n",
       "\n",
       "    .dataframe tbody tr th {\n",
       "        vertical-align: top;\n",
       "    }\n",
       "\n",
       "    .dataframe thead th {\n",
       "        text-align: right;\n",
       "    }\n",
       "</style>\n",
       "<table border=\"1\" class=\"dataframe\">\n",
       "  <thead>\n",
       "    <tr style=\"text-align: right;\">\n",
       "      <th></th>\n",
       "      <th>months_as_customer</th>\n",
       "      <th>age</th>\n",
       "      <th>policy_number</th>\n",
       "      <th>policy_bind_date</th>\n",
       "      <th>policy_state</th>\n",
       "      <th>policy_csl</th>\n",
       "      <th>policy_deductable</th>\n",
       "      <th>policy_annual_premium</th>\n",
       "      <th>umbrella_limit</th>\n",
       "      <th>insured_zip</th>\n",
       "      <th>...</th>\n",
       "      <th>witnesses</th>\n",
       "      <th>police_report_available</th>\n",
       "      <th>total_claim_amount</th>\n",
       "      <th>injury_claim</th>\n",
       "      <th>property_claim</th>\n",
       "      <th>vehicle_claim</th>\n",
       "      <th>auto_make</th>\n",
       "      <th>auto_model</th>\n",
       "      <th>auto_year</th>\n",
       "      <th>fraud_reported</th>\n",
       "    </tr>\n",
       "  </thead>\n",
       "  <tbody>\n",
       "    <tr>\n",
       "      <th>0</th>\n",
       "      <td>328</td>\n",
       "      <td>48</td>\n",
       "      <td>521585</td>\n",
       "      <td>2014-10-17</td>\n",
       "      <td>OH</td>\n",
       "      <td>250/500</td>\n",
       "      <td>1000</td>\n",
       "      <td>1406.91</td>\n",
       "      <td>0</td>\n",
       "      <td>466132</td>\n",
       "      <td>...</td>\n",
       "      <td>2</td>\n",
       "      <td>YES</td>\n",
       "      <td>71610</td>\n",
       "      <td>6510</td>\n",
       "      <td>13020</td>\n",
       "      <td>52080</td>\n",
       "      <td>Saab</td>\n",
       "      <td>92x</td>\n",
       "      <td>2004</td>\n",
       "      <td>Y</td>\n",
       "    </tr>\n",
       "    <tr>\n",
       "      <th>1</th>\n",
       "      <td>228</td>\n",
       "      <td>42</td>\n",
       "      <td>342868</td>\n",
       "      <td>2006-06-27</td>\n",
       "      <td>IN</td>\n",
       "      <td>250/500</td>\n",
       "      <td>2000</td>\n",
       "      <td>1197.22</td>\n",
       "      <td>5000000</td>\n",
       "      <td>468176</td>\n",
       "      <td>...</td>\n",
       "      <td>0</td>\n",
       "      <td>?</td>\n",
       "      <td>5070</td>\n",
       "      <td>780</td>\n",
       "      <td>780</td>\n",
       "      <td>3510</td>\n",
       "      <td>Mercedes</td>\n",
       "      <td>E400</td>\n",
       "      <td>2007</td>\n",
       "      <td>Y</td>\n",
       "    </tr>\n",
       "    <tr>\n",
       "      <th>2</th>\n",
       "      <td>134</td>\n",
       "      <td>29</td>\n",
       "      <td>687698</td>\n",
       "      <td>2000-09-06</td>\n",
       "      <td>OH</td>\n",
       "      <td>100/300</td>\n",
       "      <td>2000</td>\n",
       "      <td>1413.14</td>\n",
       "      <td>5000000</td>\n",
       "      <td>430632</td>\n",
       "      <td>...</td>\n",
       "      <td>3</td>\n",
       "      <td>NO</td>\n",
       "      <td>34650</td>\n",
       "      <td>7700</td>\n",
       "      <td>3850</td>\n",
       "      <td>23100</td>\n",
       "      <td>Dodge</td>\n",
       "      <td>RAM</td>\n",
       "      <td>2007</td>\n",
       "      <td>N</td>\n",
       "    </tr>\n",
       "    <tr>\n",
       "      <th>3</th>\n",
       "      <td>256</td>\n",
       "      <td>41</td>\n",
       "      <td>227811</td>\n",
       "      <td>1990-05-25</td>\n",
       "      <td>IL</td>\n",
       "      <td>250/500</td>\n",
       "      <td>2000</td>\n",
       "      <td>1415.74</td>\n",
       "      <td>6000000</td>\n",
       "      <td>608117</td>\n",
       "      <td>...</td>\n",
       "      <td>2</td>\n",
       "      <td>NO</td>\n",
       "      <td>63400</td>\n",
       "      <td>6340</td>\n",
       "      <td>6340</td>\n",
       "      <td>50720</td>\n",
       "      <td>Chevrolet</td>\n",
       "      <td>Tahoe</td>\n",
       "      <td>2014</td>\n",
       "      <td>Y</td>\n",
       "    </tr>\n",
       "    <tr>\n",
       "      <th>4</th>\n",
       "      <td>228</td>\n",
       "      <td>44</td>\n",
       "      <td>367455</td>\n",
       "      <td>2014-06-06</td>\n",
       "      <td>IL</td>\n",
       "      <td>500/1000</td>\n",
       "      <td>1000</td>\n",
       "      <td>1583.91</td>\n",
       "      <td>6000000</td>\n",
       "      <td>610706</td>\n",
       "      <td>...</td>\n",
       "      <td>1</td>\n",
       "      <td>NO</td>\n",
       "      <td>6500</td>\n",
       "      <td>1300</td>\n",
       "      <td>650</td>\n",
       "      <td>4550</td>\n",
       "      <td>Accura</td>\n",
       "      <td>RSX</td>\n",
       "      <td>2009</td>\n",
       "      <td>N</td>\n",
       "    </tr>\n",
       "    <tr>\n",
       "      <th>...</th>\n",
       "      <td>...</td>\n",
       "      <td>...</td>\n",
       "      <td>...</td>\n",
       "      <td>...</td>\n",
       "      <td>...</td>\n",
       "      <td>...</td>\n",
       "      <td>...</td>\n",
       "      <td>...</td>\n",
       "      <td>...</td>\n",
       "      <td>...</td>\n",
       "      <td>...</td>\n",
       "      <td>...</td>\n",
       "      <td>...</td>\n",
       "      <td>...</td>\n",
       "      <td>...</td>\n",
       "      <td>...</td>\n",
       "      <td>...</td>\n",
       "      <td>...</td>\n",
       "      <td>...</td>\n",
       "      <td>...</td>\n",
       "      <td>...</td>\n",
       "    </tr>\n",
       "    <tr>\n",
       "      <th>995</th>\n",
       "      <td>3</td>\n",
       "      <td>38</td>\n",
       "      <td>941851</td>\n",
       "      <td>1991-07-16</td>\n",
       "      <td>OH</td>\n",
       "      <td>500/1000</td>\n",
       "      <td>1000</td>\n",
       "      <td>1310.80</td>\n",
       "      <td>0</td>\n",
       "      <td>431289</td>\n",
       "      <td>...</td>\n",
       "      <td>1</td>\n",
       "      <td>?</td>\n",
       "      <td>87200</td>\n",
       "      <td>17440</td>\n",
       "      <td>8720</td>\n",
       "      <td>61040</td>\n",
       "      <td>Honda</td>\n",
       "      <td>Accord</td>\n",
       "      <td>2006</td>\n",
       "      <td>N</td>\n",
       "    </tr>\n",
       "    <tr>\n",
       "      <th>996</th>\n",
       "      <td>285</td>\n",
       "      <td>41</td>\n",
       "      <td>186934</td>\n",
       "      <td>2014-01-05</td>\n",
       "      <td>IL</td>\n",
       "      <td>100/300</td>\n",
       "      <td>1000</td>\n",
       "      <td>1436.79</td>\n",
       "      <td>0</td>\n",
       "      <td>608177</td>\n",
       "      <td>...</td>\n",
       "      <td>3</td>\n",
       "      <td>?</td>\n",
       "      <td>108480</td>\n",
       "      <td>18080</td>\n",
       "      <td>18080</td>\n",
       "      <td>72320</td>\n",
       "      <td>Volkswagen</td>\n",
       "      <td>Passat</td>\n",
       "      <td>2015</td>\n",
       "      <td>N</td>\n",
       "    </tr>\n",
       "    <tr>\n",
       "      <th>997</th>\n",
       "      <td>130</td>\n",
       "      <td>34</td>\n",
       "      <td>918516</td>\n",
       "      <td>2003-02-17</td>\n",
       "      <td>OH</td>\n",
       "      <td>250/500</td>\n",
       "      <td>500</td>\n",
       "      <td>1383.49</td>\n",
       "      <td>3000000</td>\n",
       "      <td>442797</td>\n",
       "      <td>...</td>\n",
       "      <td>3</td>\n",
       "      <td>YES</td>\n",
       "      <td>67500</td>\n",
       "      <td>7500</td>\n",
       "      <td>7500</td>\n",
       "      <td>52500</td>\n",
       "      <td>Suburu</td>\n",
       "      <td>Impreza</td>\n",
       "      <td>1996</td>\n",
       "      <td>N</td>\n",
       "    </tr>\n",
       "    <tr>\n",
       "      <th>998</th>\n",
       "      <td>458</td>\n",
       "      <td>62</td>\n",
       "      <td>533940</td>\n",
       "      <td>2011-11-18</td>\n",
       "      <td>IL</td>\n",
       "      <td>500/1000</td>\n",
       "      <td>2000</td>\n",
       "      <td>1356.92</td>\n",
       "      <td>5000000</td>\n",
       "      <td>441714</td>\n",
       "      <td>...</td>\n",
       "      <td>1</td>\n",
       "      <td>YES</td>\n",
       "      <td>46980</td>\n",
       "      <td>5220</td>\n",
       "      <td>5220</td>\n",
       "      <td>36540</td>\n",
       "      <td>Audi</td>\n",
       "      <td>A5</td>\n",
       "      <td>1998</td>\n",
       "      <td>N</td>\n",
       "    </tr>\n",
       "    <tr>\n",
       "      <th>999</th>\n",
       "      <td>456</td>\n",
       "      <td>60</td>\n",
       "      <td>556080</td>\n",
       "      <td>1996-11-11</td>\n",
       "      <td>OH</td>\n",
       "      <td>250/500</td>\n",
       "      <td>1000</td>\n",
       "      <td>766.19</td>\n",
       "      <td>0</td>\n",
       "      <td>612260</td>\n",
       "      <td>...</td>\n",
       "      <td>3</td>\n",
       "      <td>?</td>\n",
       "      <td>5060</td>\n",
       "      <td>460</td>\n",
       "      <td>920</td>\n",
       "      <td>3680</td>\n",
       "      <td>Mercedes</td>\n",
       "      <td>E400</td>\n",
       "      <td>2007</td>\n",
       "      <td>N</td>\n",
       "    </tr>\n",
       "  </tbody>\n",
       "</table>\n",
       "<p>1000 rows × 39 columns</p>\n",
       "</div>"
      ],
      "text/plain": [
       "     months_as_customer  age  policy_number policy_bind_date policy_state  \\\n",
       "0                   328   48         521585       2014-10-17           OH   \n",
       "1                   228   42         342868       2006-06-27           IN   \n",
       "2                   134   29         687698       2000-09-06           OH   \n",
       "3                   256   41         227811       1990-05-25           IL   \n",
       "4                   228   44         367455       2014-06-06           IL   \n",
       "..                  ...  ...            ...              ...          ...   \n",
       "995                   3   38         941851       1991-07-16           OH   \n",
       "996                 285   41         186934       2014-01-05           IL   \n",
       "997                 130   34         918516       2003-02-17           OH   \n",
       "998                 458   62         533940       2011-11-18           IL   \n",
       "999                 456   60         556080       1996-11-11           OH   \n",
       "\n",
       "    policy_csl  policy_deductable  policy_annual_premium  umbrella_limit  \\\n",
       "0      250/500               1000                1406.91               0   \n",
       "1      250/500               2000                1197.22         5000000   \n",
       "2      100/300               2000                1413.14         5000000   \n",
       "3      250/500               2000                1415.74         6000000   \n",
       "4     500/1000               1000                1583.91         6000000   \n",
       "..         ...                ...                    ...             ...   \n",
       "995   500/1000               1000                1310.80               0   \n",
       "996    100/300               1000                1436.79               0   \n",
       "997    250/500                500                1383.49         3000000   \n",
       "998   500/1000               2000                1356.92         5000000   \n",
       "999    250/500               1000                 766.19               0   \n",
       "\n",
       "     insured_zip  ... witnesses police_report_available total_claim_amount  \\\n",
       "0         466132  ...         2                     YES              71610   \n",
       "1         468176  ...         0                       ?               5070   \n",
       "2         430632  ...         3                      NO              34650   \n",
       "3         608117  ...         2                      NO              63400   \n",
       "4         610706  ...         1                      NO               6500   \n",
       "..           ...  ...       ...                     ...                ...   \n",
       "995       431289  ...         1                       ?              87200   \n",
       "996       608177  ...         3                       ?             108480   \n",
       "997       442797  ...         3                     YES              67500   \n",
       "998       441714  ...         1                     YES              46980   \n",
       "999       612260  ...         3                       ?               5060   \n",
       "\n",
       "    injury_claim property_claim  vehicle_claim   auto_make auto_model  \\\n",
       "0           6510          13020          52080        Saab        92x   \n",
       "1            780            780           3510    Mercedes       E400   \n",
       "2           7700           3850          23100       Dodge        RAM   \n",
       "3           6340           6340          50720   Chevrolet      Tahoe   \n",
       "4           1300            650           4550      Accura        RSX   \n",
       "..           ...            ...            ...         ...        ...   \n",
       "995        17440           8720          61040       Honda     Accord   \n",
       "996        18080          18080          72320  Volkswagen     Passat   \n",
       "997         7500           7500          52500      Suburu    Impreza   \n",
       "998         5220           5220          36540        Audi         A5   \n",
       "999          460            920           3680    Mercedes       E400   \n",
       "\n",
       "    auto_year fraud_reported  \n",
       "0        2004              Y  \n",
       "1        2007              Y  \n",
       "2        2007              N  \n",
       "3        2014              Y  \n",
       "4        2009              N  \n",
       "..        ...            ...  \n",
       "995      2006              N  \n",
       "996      2015              N  \n",
       "997      1996              N  \n",
       "998      1998              N  \n",
       "999      2007              N  \n",
       "\n",
       "[1000 rows x 39 columns]"
      ]
     },
     "execution_count": 498,
     "metadata": {},
     "output_type": "execute_result"
    }
   ],
   "source": [
    "df"
   ]
  },
  {
   "cell_type": "markdown",
   "metadata": {},
   "source": [
    "# EDA"
   ]
  },
  {
   "cell_type": "code",
   "execution_count": 499,
   "metadata": {},
   "outputs": [
    {
     "data": {
      "text/plain": [
       "Index(['months_as_customer', 'age', 'policy_number', 'policy_bind_date',\n",
       "       'policy_state', 'policy_csl', 'policy_deductable',\n",
       "       'policy_annual_premium', 'umbrella_limit', 'insured_zip', 'insured_sex',\n",
       "       'insured_education_level', 'insured_occupation', 'insured_hobbies',\n",
       "       'insured_relationship', 'capital-gains', 'capital-loss',\n",
       "       'incident_date', 'incident_type', 'collision_type', 'incident_severity',\n",
       "       'authorities_contacted', 'incident_state', 'incident_city',\n",
       "       'incident_location', 'incident_hour_of_the_day',\n",
       "       'number_of_vehicles_involved', 'property_damage', 'bodily_injuries',\n",
       "       'witnesses', 'police_report_available', 'total_claim_amount',\n",
       "       'injury_claim', 'property_claim', 'vehicle_claim', 'auto_make',\n",
       "       'auto_model', 'auto_year', 'fraud_reported'],\n",
       "      dtype='object')"
      ]
     },
     "execution_count": 499,
     "metadata": {},
     "output_type": "execute_result"
    }
   ],
   "source": [
    "df.columns"
   ]
  },
  {
   "cell_type": "code",
   "execution_count": 500,
   "metadata": {},
   "outputs": [
    {
     "data": {
      "text/plain": [
       "0"
      ]
     },
     "execution_count": 500,
     "metadata": {},
     "output_type": "execute_result"
    }
   ],
   "source": [
    "df['policy_number'].duplicated().sum() #ดูว่ามีค่าซ้ำไหม\n"
   ]
  },
  {
   "cell_type": "code",
   "execution_count": 501,
   "metadata": {},
   "outputs": [
    {
     "data": {
      "text/plain": [
       "50288.605577689246"
      ]
     },
     "execution_count": 501,
     "metadata": {},
     "output_type": "execute_result"
    }
   ],
   "source": [
    "df[df[\"fraud_reported\"]==\"N\"][\"total_claim_amount\"].mean()"
   ]
  },
  {
   "cell_type": "code",
   "execution_count": 502,
   "metadata": {},
   "outputs": [
    {
     "data": {
      "text/plain": [
       "60302.10526315789"
      ]
     },
     "execution_count": 502,
     "metadata": {},
     "output_type": "execute_result"
    }
   ],
   "source": [
    "df[df[\"fraud_reported\"]==\"Y\"][\"total_claim_amount\"].mean()\n"
   ]
  },
  {
   "cell_type": "code",
   "execution_count": 503,
   "metadata": {},
   "outputs": [
    {
     "data": {
      "application/vnd.plotly.v1+json": {
       "config": {
        "plotlyServerURL": "https://plot.ly"
       },
       "data": [
        {
         "alignmentgroup": "True",
         "bingroup": "x",
         "hovertemplate": "fraud_reported=Y<br>total_claim_amount=%{x}<br>count=%{y}<extra></extra>",
         "legendgroup": "Y",
         "marker": {
          "color": "#636efa",
          "pattern": {
           "shape": ""
          }
         },
         "name": "Y",
         "offsetgroup": "Y",
         "orientation": "v",
         "showlegend": true,
         "type": "histogram",
         "x": [
          71610,
          5070,
          63400,
          64100,
          46200,
          63120,
          71520,
          98160,
          71500,
          5720,
          67140,
          53100,
          60200,
          60170,
          97080,
          62800,
          69480,
          68520,
          59130,
          82320,
          89700,
          68310,
          61290,
          72200,
          60940,
          45120,
          98340,
          72930,
          64890,
          79800,
          70590,
          60940,
          70000,
          47700,
          70400,
          76560,
          55440,
          63840,
          44730,
          69200,
          70800,
          99320,
          64000,
          71680,
          112320,
          63570,
          54240,
          37280,
          107900,
          71280,
          53600,
          81840,
          88660,
          73920,
          5300,
          59800,
          53460,
          81360,
          81070,
          70290,
          61380,
          47630,
          53600,
          78650,
          73700,
          75400,
          98670,
          55440,
          80850,
          53640,
          63250,
          57690,
          47790,
          59000,
          70600,
          53280,
          71760,
          60390,
          64350,
          4730,
          59900,
          66780,
          52700,
          53400,
          36720,
          52800,
          59100,
          80740,
          31350,
          74280,
          50400,
          51810,
          55660,
          77660,
          64800,
          57860,
          66600,
          74200,
          35900,
          82800,
          78100,
          65520,
          42700,
          5580,
          3600,
          48950,
          6120,
          50800,
          49950,
          56430,
          47700,
          44880,
          84480,
          64800,
          66880,
          69680,
          55170,
          6400,
          70400,
          54810,
          79800,
          76230,
          47760,
          58300,
          6490,
          63800,
          58160,
          6300,
          104610,
          59670,
          75400,
          64100,
          63580,
          53820,
          53730,
          87960,
          75570,
          52400,
          4700,
          43280,
          69000,
          4620,
          77330,
          24570,
          84100,
          32280,
          67770,
          47400,
          55000,
          64200,
          72400,
          79970,
          84590,
          5000,
          43700,
          55000,
          74700,
          40700,
          78980,
          87890,
          60500,
          54360,
          2860,
          50800,
          51920,
          59400,
          69930,
          68750,
          59400,
          62880,
          75400,
          42700,
          40260,
          44440,
          68760,
          74400,
          35300,
          60190,
          41580,
          58500,
          82610,
          78600,
          51390,
          70200,
          66480,
          50380,
          55400,
          85900,
          86130,
          82170,
          50300,
          84500,
          71610,
          60600,
          81240,
          68200,
          60750,
          65560,
          35860,
          50050,
          45540,
          57240,
          92730,
          73260,
          55200,
          53100,
          74800,
          76400,
          84920,
          69080,
          5940,
          51370,
          54960,
          56160,
          90860,
          46800,
          68200,
          66900,
          40810,
          52650,
          44200,
          54400,
          67300,
          36740,
          34160,
          55200,
          64300,
          42680,
          71190,
          76010,
          91520,
          74690,
          55000,
          59400,
          74360,
          68240,
          61050,
          63600,
          3900,
          54200,
          55400,
          49100,
          98280,
          53280,
          51900,
          77000,
          60320
         ],
         "xaxis": "x",
         "yaxis": "y"
        },
        {
         "alignmentgroup": "True",
         "bingroup": "x",
         "hovertemplate": "fraud_reported=N<br>total_claim_amount=%{x}<br>count=%{y}<extra></extra>",
         "legendgroup": "N",
         "marker": {
          "color": "#EF553B",
          "pattern": {
           "shape": ""
          }
         },
         "name": "N",
         "offsetgroup": "N",
         "orientation": "v",
         "showlegend": true,
         "type": "histogram",
         "x": [
          34650,
          6500,
          78650,
          51590,
          27700,
          42300,
          87010,
          114920,
          56520,
          7280,
          52110,
          77880,
          72930,
          60400,
          47160,
          37840,
          77880,
          9020,
          69840,
          91650,
          75600,
          29790,
          77110,
          64800,
          5330,
          62300,
          40000,
          51660,
          51120,
          56400,
          55120,
          77110,
          7290,
          76600,
          81800,
          7260,
          4300,
          70510,
          2640,
          78900,
          56430,
          2400,
          65790,
          62920,
          44280,
          56300,
          33930,
          68530,
          4300,
          30100,
          57120,
          42930,
          51210,
          89400,
          59730,
          8060,
          50800,
          6600,
          7500,
          6490,
          58300,
          68400,
          64240,
          4700,
          66950,
          5900,
          70680,
          93720,
          6930,
          5400,
          5600,
          79300,
          52800,
          28800,
          2970,
          93480,
          4320,
          74200,
          74700,
          81070,
          57720,
          7080,
          51260,
          90000,
          72820,
          69300,
          77130,
          42000,
          36300,
          40320,
          3960,
          84720,
          61500,
          51000,
          46800,
          78120,
          3690,
          65500,
          76120,
          73560,
          52030,
          5170,
          8190,
          45630,
          47300,
          82720,
          48060,
          63240,
          72100,
          6500,
          78240,
          6200,
          6160,
          76050,
          86060,
          99990,
          61380,
          64000,
          5940,
          6700,
          51740,
          44910,
          48100,
          6100,
          79600,
          77040,
          62590,
          85150,
          4950,
          51100,
          100800,
          90970,
          54900,
          18000,
          5500,
          101860,
          5390,
          50490,
          55500,
          7040,
          40160,
          55680,
          5200,
          59400,
          2520,
          5760,
          76700,
          5920,
          64350,
          19080,
          54400,
          72000,
          65070,
          8800,
          6120,
          7080,
          34320,
          63120,
          7200,
          60190,
          28100,
          49060,
          57060,
          77880,
          73500,
          88920,
          59040,
          79530,
          53680,
          33550,
          69100,
          79750,
          76560,
          41130,
          71060,
          38830,
          53500,
          6300,
          65400,
          3200,
          58140,
          5900,
          64100,
          7480,
          59040,
          50500,
          5940,
          3850,
          61490,
          57640,
          6890,
          78300,
          41490,
          68970,
          85300,
          3080,
          59700,
          64920,
          37530,
          64080,
          70900,
          46560,
          6820,
          79560,
          70290,
          63910,
          6400,
          8760,
          94160,
          51570,
          101010,
          72120,
          77100,
          3300,
          5940,
          63720,
          7680,
          93730,
          87300,
          5670,
          65800,
          77440,
          45700,
          35000,
          68000,
          84500,
          75500,
          90600,
          64320,
          31700,
          80520,
          63600,
          32800,
          44190,
          88400,
          66550,
          65780,
          44640,
          5640,
          3190,
          53440,
          65250,
          44280,
          70290,
          87100,
          50380,
          70400,
          6240,
          70920,
          39480,
          63240,
          67650,
          64900,
          52200,
          78000,
          67200,
          63250,
          68760,
          65040,
          61700,
          4500,
          2800,
          54000,
          77800,
          52560,
          44110,
          74360,
          62280,
          26730,
          66200,
          45500,
          53040,
          44200,
          62920,
          100210,
          49140,
          66840,
          62460,
          62810,
          54160,
          48400,
          51480,
          51700,
          65520,
          5220,
          73320,
          74900,
          3190,
          76920,
          77990,
          59670,
          82830,
          79800,
          53020,
          24200,
          43230,
          3190,
          5850,
          6820,
          69480,
          94560,
          7800,
          61270,
          71440,
          55600,
          5000,
          95810,
          69300,
          81120,
          91260,
          60600,
          58200,
          60570,
          55700,
          62370,
          54340,
          58500,
          59940,
          73400,
          41850,
          3190,
          5900,
          57330,
          81960,
          3770,
          7400,
          49400,
          68750,
          61500,
          76890,
          56070,
          56000,
          4290,
          60750,
          48730,
          95150,
          7480,
          103560,
          79500,
          59520,
          84590,
          61650,
          81400,
          58410,
          38610,
          57600,
          53190,
          64620,
          90480,
          7080,
          55900,
          69850,
          62900,
          81500,
          50000,
          48290,
          59070,
          63300,
          65780,
          2250,
          54120,
          69480,
          66950,
          80280,
          4680,
          39720,
          73370,
          86790,
          49800,
          77440,
          42900,
          57330,
          53370,
          62920,
          61600,
          74160,
          80100,
          6560,
          58800,
          60600,
          35750,
          42840,
          47800,
          3840,
          77000,
          88110,
          47740,
          58960,
          2160,
          6890,
          78870,
          2700,
          75960,
          90240,
          80960,
          79080,
          6820,
          62590,
          63580,
          61400,
          74140,
          83160,
          10790,
          48070,
          51030,
          76400,
          75460,
          8640,
          67210,
          42500,
          86400,
          6930,
          41700,
          4950,
          5160,
          53680,
          42900,
          61560,
          44240,
          57700,
          108030,
          54300,
          84600,
          69700,
          36400,
          37520,
          79090,
          71100,
          69400,
          51090,
          67320,
          76120,
          85020,
          68090,
          6030,
          5100,
          4590,
          70900,
          65100,
          64260,
          56610,
          66780,
          58500,
          5000,
          54450,
          61920,
          64080,
          4400,
          71640,
          61740,
          57500,
          8700,
          77100,
          59400,
          54890,
          74030,
          61490,
          79560,
          4900,
          77770,
          40600,
          45270,
          47080,
          34650,
          3200,
          6160,
          85250,
          72840,
          6050,
          88220,
          53680,
          53800,
          54340,
          5490,
          7370,
          41520,
          89650,
          39690,
          62260,
          53460,
          57100,
          77440,
          68300,
          5060,
          77700,
          91080,
          48360,
          95000,
          3900,
          60210,
          43600,
          62800,
          59500,
          53460,
          41690,
          63100,
          46200,
          58500,
          66240,
          65440,
          64200,
          32320,
          33480,
          4320,
          4200,
          57970,
          4320,
          69300,
          32480,
          60480,
          2640,
          6050,
          50000,
          3840,
          95900,
          56160,
          63030,
          63470,
          6600,
          77200,
          57000,
          2700,
          47300,
          55110,
          4320,
          2640,
          79320,
          4900,
          64350,
          49900,
          74880,
          105820,
          7150,
          55800,
          5830,
          7110,
          36960,
          64400,
          1920,
          44200,
          66660,
          78320,
          105040,
          50700,
          51210,
          51840,
          52800,
          55200,
          9100,
          67600,
          40800,
          29300,
          76450,
          49400,
          90530,
          8030,
          63900,
          38640,
          41490,
          79090,
          87900,
          53400,
          52030,
          82060,
          48360,
          52290,
          70290,
          45000,
          61800,
          64570,
          70500,
          57900,
          57860,
          37800,
          63300,
          44200,
          31680,
          100,
          56340,
          69740,
          60480,
          80880,
          49390,
          69360,
          3740,
          5060,
          59070,
          28440,
          38700,
          5830,
          46200,
          57700,
          56160,
          44400,
          30700,
          56600,
          3960,
          34800,
          79500,
          56000,
          4950,
          48000,
          52200,
          73800,
          78200,
          57060,
          4680,
          3520,
          72900,
          70700,
          60170,
          4100,
          61490,
          7200,
          45100,
          66660,
          58300,
          57310,
          53100,
          74700,
          60500,
          61050,
          4560,
          67800,
          5600,
          9000,
          85320,
          51600,
          5400,
          48870,
          5590,
          39800,
          52700,
          68580,
          5700,
          94930,
          56320,
          83490,
          57900,
          49410,
          66200,
          64080,
          42500,
          48950,
          58850,
          82400,
          54240,
          74200,
          47430,
          63900,
          59300,
          75400,
          4200,
          42240,
          59490,
          7700,
          61440,
          58560,
          85690,
          61320,
          79680,
          61740,
          6400,
          60600,
          56320,
          52250,
          53900,
          2640,
          8970,
          6000,
          7260,
          64680,
          59200,
          4700,
          69400,
          40500,
          60000,
          67320,
          75690,
          64400,
          97080,
          5500,
          30700,
          33480,
          65430,
          87780,
          72800,
          3600,
          62640,
          69630,
          44220,
          57200,
          3080,
          75790,
          32670,
          3870,
          4620,
          55260,
          51400,
          48780,
          52380,
          53400,
          71800,
          5590,
          46860,
          4290,
          78500,
          70830,
          68040,
          43560,
          60840,
          68160,
          5170,
          57700,
          89520,
          4620,
          45180,
          45100,
          83160,
          86130,
          48000,
          3300,
          57200,
          7590,
          80080,
          4800,
          90400,
          62900,
          51800,
          6600,
          74140,
          67800,
          66550,
          70400,
          84590,
          54560,
          82170,
          61100,
          3440,
          51390,
          76900,
          60700,
          53280,
          34290,
          46980,
          36700,
          60200,
          6480,
          87200,
          108480,
          67500,
          46980,
          5060
         ],
         "xaxis": "x",
         "yaxis": "y"
        }
       ],
       "layout": {
        "barmode": "relative",
        "legend": {
         "title": {
          "text": "fraud_reported"
         },
         "tracegroupgap": 0
        },
        "margin": {
         "t": 60
        },
        "template": {
         "data": {
          "bar": [
           {
            "error_x": {
             "color": "#2a3f5f"
            },
            "error_y": {
             "color": "#2a3f5f"
            },
            "marker": {
             "line": {
              "color": "#E5ECF6",
              "width": 0.5
             },
             "pattern": {
              "fillmode": "overlay",
              "size": 10,
              "solidity": 0.2
             }
            },
            "type": "bar"
           }
          ],
          "barpolar": [
           {
            "marker": {
             "line": {
              "color": "#E5ECF6",
              "width": 0.5
             },
             "pattern": {
              "fillmode": "overlay",
              "size": 10,
              "solidity": 0.2
             }
            },
            "type": "barpolar"
           }
          ],
          "carpet": [
           {
            "aaxis": {
             "endlinecolor": "#2a3f5f",
             "gridcolor": "white",
             "linecolor": "white",
             "minorgridcolor": "white",
             "startlinecolor": "#2a3f5f"
            },
            "baxis": {
             "endlinecolor": "#2a3f5f",
             "gridcolor": "white",
             "linecolor": "white",
             "minorgridcolor": "white",
             "startlinecolor": "#2a3f5f"
            },
            "type": "carpet"
           }
          ],
          "choropleth": [
           {
            "colorbar": {
             "outlinewidth": 0,
             "ticks": ""
            },
            "type": "choropleth"
           }
          ],
          "contour": [
           {
            "colorbar": {
             "outlinewidth": 0,
             "ticks": ""
            },
            "colorscale": [
             [
              0,
              "#0d0887"
             ],
             [
              0.1111111111111111,
              "#46039f"
             ],
             [
              0.2222222222222222,
              "#7201a8"
             ],
             [
              0.3333333333333333,
              "#9c179e"
             ],
             [
              0.4444444444444444,
              "#bd3786"
             ],
             [
              0.5555555555555556,
              "#d8576b"
             ],
             [
              0.6666666666666666,
              "#ed7953"
             ],
             [
              0.7777777777777778,
              "#fb9f3a"
             ],
             [
              0.8888888888888888,
              "#fdca26"
             ],
             [
              1,
              "#f0f921"
             ]
            ],
            "type": "contour"
           }
          ],
          "contourcarpet": [
           {
            "colorbar": {
             "outlinewidth": 0,
             "ticks": ""
            },
            "type": "contourcarpet"
           }
          ],
          "heatmap": [
           {
            "colorbar": {
             "outlinewidth": 0,
             "ticks": ""
            },
            "colorscale": [
             [
              0,
              "#0d0887"
             ],
             [
              0.1111111111111111,
              "#46039f"
             ],
             [
              0.2222222222222222,
              "#7201a8"
             ],
             [
              0.3333333333333333,
              "#9c179e"
             ],
             [
              0.4444444444444444,
              "#bd3786"
             ],
             [
              0.5555555555555556,
              "#d8576b"
             ],
             [
              0.6666666666666666,
              "#ed7953"
             ],
             [
              0.7777777777777778,
              "#fb9f3a"
             ],
             [
              0.8888888888888888,
              "#fdca26"
             ],
             [
              1,
              "#f0f921"
             ]
            ],
            "type": "heatmap"
           }
          ],
          "heatmapgl": [
           {
            "colorbar": {
             "outlinewidth": 0,
             "ticks": ""
            },
            "colorscale": [
             [
              0,
              "#0d0887"
             ],
             [
              0.1111111111111111,
              "#46039f"
             ],
             [
              0.2222222222222222,
              "#7201a8"
             ],
             [
              0.3333333333333333,
              "#9c179e"
             ],
             [
              0.4444444444444444,
              "#bd3786"
             ],
             [
              0.5555555555555556,
              "#d8576b"
             ],
             [
              0.6666666666666666,
              "#ed7953"
             ],
             [
              0.7777777777777778,
              "#fb9f3a"
             ],
             [
              0.8888888888888888,
              "#fdca26"
             ],
             [
              1,
              "#f0f921"
             ]
            ],
            "type": "heatmapgl"
           }
          ],
          "histogram": [
           {
            "marker": {
             "pattern": {
              "fillmode": "overlay",
              "size": 10,
              "solidity": 0.2
             }
            },
            "type": "histogram"
           }
          ],
          "histogram2d": [
           {
            "colorbar": {
             "outlinewidth": 0,
             "ticks": ""
            },
            "colorscale": [
             [
              0,
              "#0d0887"
             ],
             [
              0.1111111111111111,
              "#46039f"
             ],
             [
              0.2222222222222222,
              "#7201a8"
             ],
             [
              0.3333333333333333,
              "#9c179e"
             ],
             [
              0.4444444444444444,
              "#bd3786"
             ],
             [
              0.5555555555555556,
              "#d8576b"
             ],
             [
              0.6666666666666666,
              "#ed7953"
             ],
             [
              0.7777777777777778,
              "#fb9f3a"
             ],
             [
              0.8888888888888888,
              "#fdca26"
             ],
             [
              1,
              "#f0f921"
             ]
            ],
            "type": "histogram2d"
           }
          ],
          "histogram2dcontour": [
           {
            "colorbar": {
             "outlinewidth": 0,
             "ticks": ""
            },
            "colorscale": [
             [
              0,
              "#0d0887"
             ],
             [
              0.1111111111111111,
              "#46039f"
             ],
             [
              0.2222222222222222,
              "#7201a8"
             ],
             [
              0.3333333333333333,
              "#9c179e"
             ],
             [
              0.4444444444444444,
              "#bd3786"
             ],
             [
              0.5555555555555556,
              "#d8576b"
             ],
             [
              0.6666666666666666,
              "#ed7953"
             ],
             [
              0.7777777777777778,
              "#fb9f3a"
             ],
             [
              0.8888888888888888,
              "#fdca26"
             ],
             [
              1,
              "#f0f921"
             ]
            ],
            "type": "histogram2dcontour"
           }
          ],
          "mesh3d": [
           {
            "colorbar": {
             "outlinewidth": 0,
             "ticks": ""
            },
            "type": "mesh3d"
           }
          ],
          "parcoords": [
           {
            "line": {
             "colorbar": {
              "outlinewidth": 0,
              "ticks": ""
             }
            },
            "type": "parcoords"
           }
          ],
          "pie": [
           {
            "automargin": true,
            "type": "pie"
           }
          ],
          "scatter": [
           {
            "fillpattern": {
             "fillmode": "overlay",
             "size": 10,
             "solidity": 0.2
            },
            "type": "scatter"
           }
          ],
          "scatter3d": [
           {
            "line": {
             "colorbar": {
              "outlinewidth": 0,
              "ticks": ""
             }
            },
            "marker": {
             "colorbar": {
              "outlinewidth": 0,
              "ticks": ""
             }
            },
            "type": "scatter3d"
           }
          ],
          "scattercarpet": [
           {
            "marker": {
             "colorbar": {
              "outlinewidth": 0,
              "ticks": ""
             }
            },
            "type": "scattercarpet"
           }
          ],
          "scattergeo": [
           {
            "marker": {
             "colorbar": {
              "outlinewidth": 0,
              "ticks": ""
             }
            },
            "type": "scattergeo"
           }
          ],
          "scattergl": [
           {
            "marker": {
             "colorbar": {
              "outlinewidth": 0,
              "ticks": ""
             }
            },
            "type": "scattergl"
           }
          ],
          "scattermapbox": [
           {
            "marker": {
             "colorbar": {
              "outlinewidth": 0,
              "ticks": ""
             }
            },
            "type": "scattermapbox"
           }
          ],
          "scatterpolar": [
           {
            "marker": {
             "colorbar": {
              "outlinewidth": 0,
              "ticks": ""
             }
            },
            "type": "scatterpolar"
           }
          ],
          "scatterpolargl": [
           {
            "marker": {
             "colorbar": {
              "outlinewidth": 0,
              "ticks": ""
             }
            },
            "type": "scatterpolargl"
           }
          ],
          "scatterternary": [
           {
            "marker": {
             "colorbar": {
              "outlinewidth": 0,
              "ticks": ""
             }
            },
            "type": "scatterternary"
           }
          ],
          "surface": [
           {
            "colorbar": {
             "outlinewidth": 0,
             "ticks": ""
            },
            "colorscale": [
             [
              0,
              "#0d0887"
             ],
             [
              0.1111111111111111,
              "#46039f"
             ],
             [
              0.2222222222222222,
              "#7201a8"
             ],
             [
              0.3333333333333333,
              "#9c179e"
             ],
             [
              0.4444444444444444,
              "#bd3786"
             ],
             [
              0.5555555555555556,
              "#d8576b"
             ],
             [
              0.6666666666666666,
              "#ed7953"
             ],
             [
              0.7777777777777778,
              "#fb9f3a"
             ],
             [
              0.8888888888888888,
              "#fdca26"
             ],
             [
              1,
              "#f0f921"
             ]
            ],
            "type": "surface"
           }
          ],
          "table": [
           {
            "cells": {
             "fill": {
              "color": "#EBF0F8"
             },
             "line": {
              "color": "white"
             }
            },
            "header": {
             "fill": {
              "color": "#C8D4E3"
             },
             "line": {
              "color": "white"
             }
            },
            "type": "table"
           }
          ]
         },
         "layout": {
          "annotationdefaults": {
           "arrowcolor": "#2a3f5f",
           "arrowhead": 0,
           "arrowwidth": 1
          },
          "autotypenumbers": "strict",
          "coloraxis": {
           "colorbar": {
            "outlinewidth": 0,
            "ticks": ""
           }
          },
          "colorscale": {
           "diverging": [
            [
             0,
             "#8e0152"
            ],
            [
             0.1,
             "#c51b7d"
            ],
            [
             0.2,
             "#de77ae"
            ],
            [
             0.3,
             "#f1b6da"
            ],
            [
             0.4,
             "#fde0ef"
            ],
            [
             0.5,
             "#f7f7f7"
            ],
            [
             0.6,
             "#e6f5d0"
            ],
            [
             0.7,
             "#b8e186"
            ],
            [
             0.8,
             "#7fbc41"
            ],
            [
             0.9,
             "#4d9221"
            ],
            [
             1,
             "#276419"
            ]
           ],
           "sequential": [
            [
             0,
             "#0d0887"
            ],
            [
             0.1111111111111111,
             "#46039f"
            ],
            [
             0.2222222222222222,
             "#7201a8"
            ],
            [
             0.3333333333333333,
             "#9c179e"
            ],
            [
             0.4444444444444444,
             "#bd3786"
            ],
            [
             0.5555555555555556,
             "#d8576b"
            ],
            [
             0.6666666666666666,
             "#ed7953"
            ],
            [
             0.7777777777777778,
             "#fb9f3a"
            ],
            [
             0.8888888888888888,
             "#fdca26"
            ],
            [
             1,
             "#f0f921"
            ]
           ],
           "sequentialminus": [
            [
             0,
             "#0d0887"
            ],
            [
             0.1111111111111111,
             "#46039f"
            ],
            [
             0.2222222222222222,
             "#7201a8"
            ],
            [
             0.3333333333333333,
             "#9c179e"
            ],
            [
             0.4444444444444444,
             "#bd3786"
            ],
            [
             0.5555555555555556,
             "#d8576b"
            ],
            [
             0.6666666666666666,
             "#ed7953"
            ],
            [
             0.7777777777777778,
             "#fb9f3a"
            ],
            [
             0.8888888888888888,
             "#fdca26"
            ],
            [
             1,
             "#f0f921"
            ]
           ]
          },
          "colorway": [
           "#636efa",
           "#EF553B",
           "#00cc96",
           "#ab63fa",
           "#FFA15A",
           "#19d3f3",
           "#FF6692",
           "#B6E880",
           "#FF97FF",
           "#FECB52"
          ],
          "font": {
           "color": "#2a3f5f"
          },
          "geo": {
           "bgcolor": "white",
           "lakecolor": "white",
           "landcolor": "#E5ECF6",
           "showlakes": true,
           "showland": true,
           "subunitcolor": "white"
          },
          "hoverlabel": {
           "align": "left"
          },
          "hovermode": "closest",
          "mapbox": {
           "style": "light"
          },
          "paper_bgcolor": "white",
          "plot_bgcolor": "#E5ECF6",
          "polar": {
           "angularaxis": {
            "gridcolor": "white",
            "linecolor": "white",
            "ticks": ""
           },
           "bgcolor": "#E5ECF6",
           "radialaxis": {
            "gridcolor": "white",
            "linecolor": "white",
            "ticks": ""
           }
          },
          "scene": {
           "xaxis": {
            "backgroundcolor": "#E5ECF6",
            "gridcolor": "white",
            "gridwidth": 2,
            "linecolor": "white",
            "showbackground": true,
            "ticks": "",
            "zerolinecolor": "white"
           },
           "yaxis": {
            "backgroundcolor": "#E5ECF6",
            "gridcolor": "white",
            "gridwidth": 2,
            "linecolor": "white",
            "showbackground": true,
            "ticks": "",
            "zerolinecolor": "white"
           },
           "zaxis": {
            "backgroundcolor": "#E5ECF6",
            "gridcolor": "white",
            "gridwidth": 2,
            "linecolor": "white",
            "showbackground": true,
            "ticks": "",
            "zerolinecolor": "white"
           }
          },
          "shapedefaults": {
           "line": {
            "color": "#2a3f5f"
           }
          },
          "ternary": {
           "aaxis": {
            "gridcolor": "white",
            "linecolor": "white",
            "ticks": ""
           },
           "baxis": {
            "gridcolor": "white",
            "linecolor": "white",
            "ticks": ""
           },
           "bgcolor": "#E5ECF6",
           "caxis": {
            "gridcolor": "white",
            "linecolor": "white",
            "ticks": ""
           }
          },
          "title": {
           "x": 0.05
          },
          "xaxis": {
           "automargin": true,
           "gridcolor": "white",
           "linecolor": "white",
           "ticks": "",
           "title": {
            "standoff": 15
           },
           "zerolinecolor": "white",
           "zerolinewidth": 2
          },
          "yaxis": {
           "automargin": true,
           "gridcolor": "white",
           "linecolor": "white",
           "ticks": "",
           "title": {
            "standoff": 15
           },
           "zerolinecolor": "white",
           "zerolinewidth": 2
          }
         }
        },
        "xaxis": {
         "anchor": "y",
         "domain": [
          0,
          1
         ],
         "title": {
          "text": "total_claim_amount"
         }
        },
        "yaxis": {
         "anchor": "x",
         "domain": [
          0,
          1
         ],
         "title": {
          "text": "count"
         }
        }
       }
      }
     },
     "metadata": {},
     "output_type": "display_data"
    }
   ],
   "source": [
    "fig = px.histogram(df,x=\"total_claim_amount\",color='fraud_reported')\n",
    "fig.show()"
   ]
  },
  {
   "cell_type": "code",
   "execution_count": 504,
   "metadata": {},
   "outputs": [
    {
     "data": {
      "application/vnd.plotly.v1+json": {
       "config": {
        "plotlyServerURL": "https://plot.ly"
       },
       "data": [
        {
         "alignmentgroup": "True",
         "bingroup": "x",
         "hovertemplate": "fraud_reported=Y<br>injury_claim=%{x}<br>count=%{y}<extra></extra>",
         "legendgroup": "Y",
         "marker": {
          "color": "#636efa",
          "pattern": {
           "shape": ""
          }
         },
         "name": "Y",
         "offsetgroup": "Y",
         "orientation": "v",
         "showlegend": true,
         "type": "histogram",
         "x": [
          6510,
          780,
          6340,
          6410,
          4200,
          10520,
          17880,
          8180,
          16500,
          1040,
          7460,
          10620,
          6020,
          10940,
          16180,
          6280,
          15440,
          11420,
          6570,
          13720,
          13800,
          12420,
          6810,
          14440,
          5540,
          0,
          8940,
          6630,
          7210,
          6650,
          10860,
          5540,
          14000,
          4770,
          6400,
          12760,
          0,
          10640,
          4970,
          13840,
          7080,
          7640,
          12800,
          8960,
          17280,
          9780,
          9040,
          0,
          10790,
          12960,
          6700,
          14880,
          8060,
          13440,
          530,
          5980,
          9720,
          6780,
          7370,
          12780,
          11160,
          12990,
          5360,
          14300,
          7370,
          7540,
          15180,
          5040,
          7350,
          5960,
          5750,
          6410,
          5310,
          5900,
          7060,
          11840,
          11040,
          10980,
          5850,
          860,
          11980,
          7420,
          10540,
          5340,
          4080,
          4800,
          5910,
          7340,
          2850,
          12380,
          10080,
          9420,
          5060,
          7060,
          12960,
          0,
          16650,
          14840,
          7180,
          20700,
          15620,
          9360,
          0,
          620,
          360,
          4450,
          680,
          10160,
          5550,
          6270,
          4770,
          8160,
          7680,
          6480,
          6080,
          8710,
          6130,
          640,
          6400,
          6090,
          13300,
          6930,
          5970,
          5830,
          590,
          6380,
          7270,
          630,
          19020,
          6630,
          11600,
          12820,
          5780,
          11960,
          11940,
          14660,
          6870,
          6550,
          940,
          0,
          13800,
          840,
          14060,
          2730,
          16820,
          5380,
          7530,
          9480,
          5000,
          6420,
          7240,
          7270,
          7690,
          500,
          4370,
          10000,
          7470,
          4070,
          7180,
          15980,
          11000,
          4530,
          520,
          5080,
          9440,
          6600,
          0,
          12500,
          11880,
          5240,
          17400,
          4270,
          3660,
          8080,
          11460,
          14880,
          3530,
          4630,
          3780,
          11700,
          7510,
          13100,
          5710,
          7020,
          5540,
          4580,
          5540,
          17180,
          15660,
          14940,
          10060,
          13000,
          13020,
          6060,
          6770,
          12400,
          13500,
          11920,
          3260,
          7700,
          8280,
          4770,
          16860,
          16280,
          13800,
          5310,
          13600,
          15280,
          7720,
          12560,
          540,
          9340,
          6870,
          6240,
          12980,
          4680,
          13640,
          6690,
          3710,
          5850,
          4420,
          5440,
          6730,
          3340,
          0,
          11040,
          6430,
          3880,
          0,
          13820,
          8320,
          6790,
          10000,
          13200,
          13520,
          8530,
          11100,
          5300,
          390,
          5420,
          5540,
          9820,
          15120,
          4440,
          5190,
          15400,
          9280
         ],
         "xaxis": "x",
         "yaxis": "y"
        },
        {
         "alignmentgroup": "True",
         "bingroup": "x",
         "hovertemplate": "fraud_reported=N<br>injury_claim=%{x}<br>count=%{y}<extra></extra>",
         "legendgroup": "N",
         "marker": {
          "color": "#EF553B",
          "pattern": {
           "shape": ""
          }
         },
         "name": "N",
         "offsetgroup": "N",
         "orientation": "v",
         "showlegend": true,
         "type": "histogram",
         "x": [
          7700,
          1300,
          21450,
          9380,
          2770,
          4700,
          7910,
          17680,
          4710,
          1120,
          5790,
          14160,
          6630,
          6040,
          0,
          0,
          7080,
          1640,
          7760,
          14100,
          12600,
          3310,
          14020,
          10800,
          1230,
          12460,
          8000,
          5740,
          5680,
          11280,
          6890,
          0,
          810,
          15320,
          16360,
          1320,
          430,
          12820,
          480,
          15780,
          0,
          300,
          7310,
          11440,
          7380,
          5630,
          0,
          12460,
          860,
          3010,
          9520,
          9540,
          11380,
          14900,
          10860,
          1240,
          10160,
          660,
          750,
          1180,
          5830,
          11400,
          11680,
          940,
          10300,
          590,
          5890,
          17040,
          1260,
          900,
          700,
          15860,
          10560,
          0,
          330,
          15580,
          480,
          7420,
          7470,
          14740,
          14430,
          1180,
          9320,
          18000,
          13240,
          13860,
          8570,
          7000,
          3300,
          5760,
          330,
          14120,
          6150,
          8500,
          4680,
          17360,
          410,
          6550,
          13840,
          12260,
          9460,
          470,
          1890,
          5070,
          4730,
          7520,
          10680,
          10540,
          7210,
          1300,
          13040,
          1240,
          560,
          11700,
          13240,
          18180,
          11160,
          12800,
          660,
          670,
          11940,
          4990,
          11100,
          610,
          15920,
          8560,
          11380,
          13100,
          450,
          10220,
          16800,
          16540,
          5490,
          2250,
          1100,
          18520,
          980,
          5610,
          5550,
          1280,
          5020,
          6960,
          650,
          5940,
          280,
          960,
          7670,
          740,
          7150,
          4240,
          5440,
          7200,
          7230,
          1760,
          1020,
          1180,
          8580,
          5260,
          1440,
          9260,
          2810,
          8920,
          6340,
          12980,
          7350,
          6840,
          6560,
          14460,
          4880,
          3050,
          6910,
          14500,
          12760,
          4570,
          6460,
          3530,
          5350,
          630,
          10900,
          640,
          6460,
          1180,
          6410,
          680,
          9840,
          10100,
          660,
          350,
          5590,
          5240,
          1060,
          15660,
          4610,
          12540,
          17060,
          560,
          11940,
          10820,
          4170,
          7120,
          14180,
          7760,
          1240,
          13260,
          12780,
          5810,
          640,
          1460,
          8560,
          5730,
          15540,
          12020,
          7710,
          600,
          1080,
          7080,
          1280,
          14420,
          17460,
          1260,
          13160,
          14080,
          4570,
          3500,
          13600,
          13000,
          7550,
          15100,
          5360,
          6340,
          13420,
          6360,
          3280,
          9820,
          17680,
          12100,
          5980,
          9920,
          940,
          580,
          0,
          7250,
          4920,
          7810,
          8710,
          4580,
          12800,
          960,
          11820,
          6580,
          10540,
          12300,
          12980,
          5220,
          6500,
          6720,
          11500,
          11460,
          10840,
          6170,
          450,
          280,
          6000,
          15560,
          11680,
          4010,
          13520,
          5190,
          4860,
          6620,
          9100,
          4420,
          4420,
          11440,
          18220,
          5460,
          16710,
          6940,
          11420,
          6770,
          9680,
          5720,
          5170,
          10920,
          580,
          6110,
          14980,
          580,
          12820,
          7090,
          9180,
          7530,
          15960,
          9640,
          2200,
          7860,
          290,
          1300,
          620,
          11580,
          7880,
          780,
          5570,
          8930,
          11120,
          1000,
          14740,
          6930,
          13520,
          14040,
          6060,
          5820,
          6730,
          5570,
          5670,
          9880,
          11700,
          6660,
          7340,
          4650,
          580,
          590,
          6370,
          13660,
          580,
          740,
          4940,
          12500,
          12300,
          6990,
          6230,
          14000,
          780,
          6750,
          4430,
          17300,
          680,
          8630,
          15900,
          9920,
          15380,
          6850,
          8140,
          10620,
          3510,
          9600,
          5910,
          7180,
          15080,
          1180,
          5590,
          12700,
          12580,
          16300,
          15000,
          8780,
          5370,
          12660,
          11960,
          250,
          4510,
          11580,
          10300,
          13380,
          520,
          6620,
          13340,
          7890,
          9960,
          7040,
          8580,
          12740,
          5930,
          9680,
          6160,
          6180,
          8900,
          820,
          11760,
          5050,
          6500,
          3570,
          4780,
          640,
          14000,
          16020,
          4340,
          5360,
          480,
          530,
          7170,
          300,
          6330,
          15040,
          14720,
          6590,
          1240,
          5690,
          5780,
          6140,
          13480,
          6930,
          1660,
          8740,
          5670,
          15280,
          13720,
          1440,
          12220,
          4250,
          14400,
          630,
          8340,
          900,
          860,
          4880,
          3900,
          6840,
          5530,
          11540,
          16620,
          10860,
          16920,
          6970,
          3640,
          4690,
          14380,
          7110,
          13880,
          7860,
          12240,
          6920,
          13080,
          12380,
          670,
          1020,
          510,
          14180,
          6510,
          0,
          6290,
          7420,
          0,
          500,
          6050,
          6880,
          7120,
          0,
          5970,
          6860,
          5750,
          870,
          15420,
          6600,
          9980,
          6730,
          11180,
          6630,
          490,
          14140,
          4060,
          10060,
          4280,
          6300,
          400,
          560,
          15500,
          12140,
          1100,
          16040,
          9760,
          5380,
          9880,
          0,
          670,
          5190,
          8150,
          0,
          5660,
          9720,
          5710,
          14080,
          6830,
          460,
          7770,
          16560,
          4030,
          9500,
          780,
          6690,
          8720,
          6280,
          11900,
          5940,
          7580,
          6310,
          4200,
          5850,
          11040,
          8180,
          10700,
          4040,
          3720,
          480,
          840,
          10540,
          0,
          13860,
          4060,
          6720,
          440,
          550,
          5000,
          640,
          13700,
          6240,
          5730,
          5770,
          1200,
          9650,
          0,
          300,
          4300,
          5010,
          480,
          480,
          13220,
          490,
          9900,
          4990,
          12480,
          16280,
          1300,
          11160,
          1060,
          790,
          6720,
          6440,
          480,
          4420,
          6060,
          7120,
          16160,
          5070,
          11380,
          8640,
          5280,
          9200,
          1400,
          13520,
          6800,
          2930,
          6950,
          9880,
          16460,
          1460,
          6390,
          4830,
          9220,
          14380,
          17580,
          5340,
          9460,
          14920,
          8060,
          5810,
          12780,
          5000,
          12360,
          5870,
          7050,
          17370,
          5260,
          8400,
          6330,
          8840,
          3520,
          10,
          6260,
          6340,
          5040,
          6740,
          8980,
          11560,
          680,
          460,
          10740,
          3160,
          7740,
          1060,
          4200,
          5770,
          4680,
          5550,
          3070,
          11320,
          660,
          3480,
          7950,
          5600,
          900,
          4800,
          10440,
          12300,
          15640,
          6340,
          520,
          640,
          14580,
          7070,
          5470,
          820,
          5590,
          720,
          8200,
          12120,
          10600,
          5210,
          5900,
          14940,
          12100,
          5550,
          760,
          11300,
          1120,
          900,
          21330,
          10320,
          600,
          5430,
          860,
          7960,
          5270,
          7620,
          570,
          8630,
          7040,
          7590,
          5790,
          5490,
          6620,
          10680,
          8500,
          8900,
          10700,
          8240,
          6780,
          7420,
          5270,
          7100,
          11860,
          15080,
          420,
          7680,
          6610,
          770,
          10240,
          9760,
          15580,
          10220,
          13280,
          6860,
          640,
          12120,
          10240,
          9500,
          5390,
          220,
          1380,
          1000,
          660,
          11760,
          0,
          470,
          6940,
          4050,
          5000,
          11220,
          8410,
          6440,
          16180,
          500,
          3070,
          3720,
          14540,
          7980,
          14560,
          400,
          10440,
          12660,
          8040,
          5200,
          560,
          13780,
          5940,
          430,
          420,
          6140,
          5140,
          5420,
          5820,
          5340,
          14360,
          860,
          8520,
          780,
          15700,
          7870,
          15120,
          4840,
          13520,
          11360,
          940,
          5770,
          14920,
          420,
          5020,
          9020,
          15120,
          15660,
          9600,
          600,
          11440,
          1380,
          12320,
          960,
          9040,
          6290,
          5180,
          600,
          13480,
          13560,
          6050,
          14080,
          15380,
          9920,
          7470,
          6110,
          430,
          5710,
          7690,
          12140,
          5920,
          3810,
          0,
          3670,
          6020,
          540,
          17440,
          18080,
          7500,
          5220,
          460
         ],
         "xaxis": "x",
         "yaxis": "y"
        }
       ],
       "layout": {
        "barmode": "relative",
        "legend": {
         "title": {
          "text": "fraud_reported"
         },
         "tracegroupgap": 0
        },
        "margin": {
         "t": 60
        },
        "template": {
         "data": {
          "bar": [
           {
            "error_x": {
             "color": "#2a3f5f"
            },
            "error_y": {
             "color": "#2a3f5f"
            },
            "marker": {
             "line": {
              "color": "#E5ECF6",
              "width": 0.5
             },
             "pattern": {
              "fillmode": "overlay",
              "size": 10,
              "solidity": 0.2
             }
            },
            "type": "bar"
           }
          ],
          "barpolar": [
           {
            "marker": {
             "line": {
              "color": "#E5ECF6",
              "width": 0.5
             },
             "pattern": {
              "fillmode": "overlay",
              "size": 10,
              "solidity": 0.2
             }
            },
            "type": "barpolar"
           }
          ],
          "carpet": [
           {
            "aaxis": {
             "endlinecolor": "#2a3f5f",
             "gridcolor": "white",
             "linecolor": "white",
             "minorgridcolor": "white",
             "startlinecolor": "#2a3f5f"
            },
            "baxis": {
             "endlinecolor": "#2a3f5f",
             "gridcolor": "white",
             "linecolor": "white",
             "minorgridcolor": "white",
             "startlinecolor": "#2a3f5f"
            },
            "type": "carpet"
           }
          ],
          "choropleth": [
           {
            "colorbar": {
             "outlinewidth": 0,
             "ticks": ""
            },
            "type": "choropleth"
           }
          ],
          "contour": [
           {
            "colorbar": {
             "outlinewidth": 0,
             "ticks": ""
            },
            "colorscale": [
             [
              0,
              "#0d0887"
             ],
             [
              0.1111111111111111,
              "#46039f"
             ],
             [
              0.2222222222222222,
              "#7201a8"
             ],
             [
              0.3333333333333333,
              "#9c179e"
             ],
             [
              0.4444444444444444,
              "#bd3786"
             ],
             [
              0.5555555555555556,
              "#d8576b"
             ],
             [
              0.6666666666666666,
              "#ed7953"
             ],
             [
              0.7777777777777778,
              "#fb9f3a"
             ],
             [
              0.8888888888888888,
              "#fdca26"
             ],
             [
              1,
              "#f0f921"
             ]
            ],
            "type": "contour"
           }
          ],
          "contourcarpet": [
           {
            "colorbar": {
             "outlinewidth": 0,
             "ticks": ""
            },
            "type": "contourcarpet"
           }
          ],
          "heatmap": [
           {
            "colorbar": {
             "outlinewidth": 0,
             "ticks": ""
            },
            "colorscale": [
             [
              0,
              "#0d0887"
             ],
             [
              0.1111111111111111,
              "#46039f"
             ],
             [
              0.2222222222222222,
              "#7201a8"
             ],
             [
              0.3333333333333333,
              "#9c179e"
             ],
             [
              0.4444444444444444,
              "#bd3786"
             ],
             [
              0.5555555555555556,
              "#d8576b"
             ],
             [
              0.6666666666666666,
              "#ed7953"
             ],
             [
              0.7777777777777778,
              "#fb9f3a"
             ],
             [
              0.8888888888888888,
              "#fdca26"
             ],
             [
              1,
              "#f0f921"
             ]
            ],
            "type": "heatmap"
           }
          ],
          "heatmapgl": [
           {
            "colorbar": {
             "outlinewidth": 0,
             "ticks": ""
            },
            "colorscale": [
             [
              0,
              "#0d0887"
             ],
             [
              0.1111111111111111,
              "#46039f"
             ],
             [
              0.2222222222222222,
              "#7201a8"
             ],
             [
              0.3333333333333333,
              "#9c179e"
             ],
             [
              0.4444444444444444,
              "#bd3786"
             ],
             [
              0.5555555555555556,
              "#d8576b"
             ],
             [
              0.6666666666666666,
              "#ed7953"
             ],
             [
              0.7777777777777778,
              "#fb9f3a"
             ],
             [
              0.8888888888888888,
              "#fdca26"
             ],
             [
              1,
              "#f0f921"
             ]
            ],
            "type": "heatmapgl"
           }
          ],
          "histogram": [
           {
            "marker": {
             "pattern": {
              "fillmode": "overlay",
              "size": 10,
              "solidity": 0.2
             }
            },
            "type": "histogram"
           }
          ],
          "histogram2d": [
           {
            "colorbar": {
             "outlinewidth": 0,
             "ticks": ""
            },
            "colorscale": [
             [
              0,
              "#0d0887"
             ],
             [
              0.1111111111111111,
              "#46039f"
             ],
             [
              0.2222222222222222,
              "#7201a8"
             ],
             [
              0.3333333333333333,
              "#9c179e"
             ],
             [
              0.4444444444444444,
              "#bd3786"
             ],
             [
              0.5555555555555556,
              "#d8576b"
             ],
             [
              0.6666666666666666,
              "#ed7953"
             ],
             [
              0.7777777777777778,
              "#fb9f3a"
             ],
             [
              0.8888888888888888,
              "#fdca26"
             ],
             [
              1,
              "#f0f921"
             ]
            ],
            "type": "histogram2d"
           }
          ],
          "histogram2dcontour": [
           {
            "colorbar": {
             "outlinewidth": 0,
             "ticks": ""
            },
            "colorscale": [
             [
              0,
              "#0d0887"
             ],
             [
              0.1111111111111111,
              "#46039f"
             ],
             [
              0.2222222222222222,
              "#7201a8"
             ],
             [
              0.3333333333333333,
              "#9c179e"
             ],
             [
              0.4444444444444444,
              "#bd3786"
             ],
             [
              0.5555555555555556,
              "#d8576b"
             ],
             [
              0.6666666666666666,
              "#ed7953"
             ],
             [
              0.7777777777777778,
              "#fb9f3a"
             ],
             [
              0.8888888888888888,
              "#fdca26"
             ],
             [
              1,
              "#f0f921"
             ]
            ],
            "type": "histogram2dcontour"
           }
          ],
          "mesh3d": [
           {
            "colorbar": {
             "outlinewidth": 0,
             "ticks": ""
            },
            "type": "mesh3d"
           }
          ],
          "parcoords": [
           {
            "line": {
             "colorbar": {
              "outlinewidth": 0,
              "ticks": ""
             }
            },
            "type": "parcoords"
           }
          ],
          "pie": [
           {
            "automargin": true,
            "type": "pie"
           }
          ],
          "scatter": [
           {
            "fillpattern": {
             "fillmode": "overlay",
             "size": 10,
             "solidity": 0.2
            },
            "type": "scatter"
           }
          ],
          "scatter3d": [
           {
            "line": {
             "colorbar": {
              "outlinewidth": 0,
              "ticks": ""
             }
            },
            "marker": {
             "colorbar": {
              "outlinewidth": 0,
              "ticks": ""
             }
            },
            "type": "scatter3d"
           }
          ],
          "scattercarpet": [
           {
            "marker": {
             "colorbar": {
              "outlinewidth": 0,
              "ticks": ""
             }
            },
            "type": "scattercarpet"
           }
          ],
          "scattergeo": [
           {
            "marker": {
             "colorbar": {
              "outlinewidth": 0,
              "ticks": ""
             }
            },
            "type": "scattergeo"
           }
          ],
          "scattergl": [
           {
            "marker": {
             "colorbar": {
              "outlinewidth": 0,
              "ticks": ""
             }
            },
            "type": "scattergl"
           }
          ],
          "scattermapbox": [
           {
            "marker": {
             "colorbar": {
              "outlinewidth": 0,
              "ticks": ""
             }
            },
            "type": "scattermapbox"
           }
          ],
          "scatterpolar": [
           {
            "marker": {
             "colorbar": {
              "outlinewidth": 0,
              "ticks": ""
             }
            },
            "type": "scatterpolar"
           }
          ],
          "scatterpolargl": [
           {
            "marker": {
             "colorbar": {
              "outlinewidth": 0,
              "ticks": ""
             }
            },
            "type": "scatterpolargl"
           }
          ],
          "scatterternary": [
           {
            "marker": {
             "colorbar": {
              "outlinewidth": 0,
              "ticks": ""
             }
            },
            "type": "scatterternary"
           }
          ],
          "surface": [
           {
            "colorbar": {
             "outlinewidth": 0,
             "ticks": ""
            },
            "colorscale": [
             [
              0,
              "#0d0887"
             ],
             [
              0.1111111111111111,
              "#46039f"
             ],
             [
              0.2222222222222222,
              "#7201a8"
             ],
             [
              0.3333333333333333,
              "#9c179e"
             ],
             [
              0.4444444444444444,
              "#bd3786"
             ],
             [
              0.5555555555555556,
              "#d8576b"
             ],
             [
              0.6666666666666666,
              "#ed7953"
             ],
             [
              0.7777777777777778,
              "#fb9f3a"
             ],
             [
              0.8888888888888888,
              "#fdca26"
             ],
             [
              1,
              "#f0f921"
             ]
            ],
            "type": "surface"
           }
          ],
          "table": [
           {
            "cells": {
             "fill": {
              "color": "#EBF0F8"
             },
             "line": {
              "color": "white"
             }
            },
            "header": {
             "fill": {
              "color": "#C8D4E3"
             },
             "line": {
              "color": "white"
             }
            },
            "type": "table"
           }
          ]
         },
         "layout": {
          "annotationdefaults": {
           "arrowcolor": "#2a3f5f",
           "arrowhead": 0,
           "arrowwidth": 1
          },
          "autotypenumbers": "strict",
          "coloraxis": {
           "colorbar": {
            "outlinewidth": 0,
            "ticks": ""
           }
          },
          "colorscale": {
           "diverging": [
            [
             0,
             "#8e0152"
            ],
            [
             0.1,
             "#c51b7d"
            ],
            [
             0.2,
             "#de77ae"
            ],
            [
             0.3,
             "#f1b6da"
            ],
            [
             0.4,
             "#fde0ef"
            ],
            [
             0.5,
             "#f7f7f7"
            ],
            [
             0.6,
             "#e6f5d0"
            ],
            [
             0.7,
             "#b8e186"
            ],
            [
             0.8,
             "#7fbc41"
            ],
            [
             0.9,
             "#4d9221"
            ],
            [
             1,
             "#276419"
            ]
           ],
           "sequential": [
            [
             0,
             "#0d0887"
            ],
            [
             0.1111111111111111,
             "#46039f"
            ],
            [
             0.2222222222222222,
             "#7201a8"
            ],
            [
             0.3333333333333333,
             "#9c179e"
            ],
            [
             0.4444444444444444,
             "#bd3786"
            ],
            [
             0.5555555555555556,
             "#d8576b"
            ],
            [
             0.6666666666666666,
             "#ed7953"
            ],
            [
             0.7777777777777778,
             "#fb9f3a"
            ],
            [
             0.8888888888888888,
             "#fdca26"
            ],
            [
             1,
             "#f0f921"
            ]
           ],
           "sequentialminus": [
            [
             0,
             "#0d0887"
            ],
            [
             0.1111111111111111,
             "#46039f"
            ],
            [
             0.2222222222222222,
             "#7201a8"
            ],
            [
             0.3333333333333333,
             "#9c179e"
            ],
            [
             0.4444444444444444,
             "#bd3786"
            ],
            [
             0.5555555555555556,
             "#d8576b"
            ],
            [
             0.6666666666666666,
             "#ed7953"
            ],
            [
             0.7777777777777778,
             "#fb9f3a"
            ],
            [
             0.8888888888888888,
             "#fdca26"
            ],
            [
             1,
             "#f0f921"
            ]
           ]
          },
          "colorway": [
           "#636efa",
           "#EF553B",
           "#00cc96",
           "#ab63fa",
           "#FFA15A",
           "#19d3f3",
           "#FF6692",
           "#B6E880",
           "#FF97FF",
           "#FECB52"
          ],
          "font": {
           "color": "#2a3f5f"
          },
          "geo": {
           "bgcolor": "white",
           "lakecolor": "white",
           "landcolor": "#E5ECF6",
           "showlakes": true,
           "showland": true,
           "subunitcolor": "white"
          },
          "hoverlabel": {
           "align": "left"
          },
          "hovermode": "closest",
          "mapbox": {
           "style": "light"
          },
          "paper_bgcolor": "white",
          "plot_bgcolor": "#E5ECF6",
          "polar": {
           "angularaxis": {
            "gridcolor": "white",
            "linecolor": "white",
            "ticks": ""
           },
           "bgcolor": "#E5ECF6",
           "radialaxis": {
            "gridcolor": "white",
            "linecolor": "white",
            "ticks": ""
           }
          },
          "scene": {
           "xaxis": {
            "backgroundcolor": "#E5ECF6",
            "gridcolor": "white",
            "gridwidth": 2,
            "linecolor": "white",
            "showbackground": true,
            "ticks": "",
            "zerolinecolor": "white"
           },
           "yaxis": {
            "backgroundcolor": "#E5ECF6",
            "gridcolor": "white",
            "gridwidth": 2,
            "linecolor": "white",
            "showbackground": true,
            "ticks": "",
            "zerolinecolor": "white"
           },
           "zaxis": {
            "backgroundcolor": "#E5ECF6",
            "gridcolor": "white",
            "gridwidth": 2,
            "linecolor": "white",
            "showbackground": true,
            "ticks": "",
            "zerolinecolor": "white"
           }
          },
          "shapedefaults": {
           "line": {
            "color": "#2a3f5f"
           }
          },
          "ternary": {
           "aaxis": {
            "gridcolor": "white",
            "linecolor": "white",
            "ticks": ""
           },
           "baxis": {
            "gridcolor": "white",
            "linecolor": "white",
            "ticks": ""
           },
           "bgcolor": "#E5ECF6",
           "caxis": {
            "gridcolor": "white",
            "linecolor": "white",
            "ticks": ""
           }
          },
          "title": {
           "x": 0.05
          },
          "xaxis": {
           "automargin": true,
           "gridcolor": "white",
           "linecolor": "white",
           "ticks": "",
           "title": {
            "standoff": 15
           },
           "zerolinecolor": "white",
           "zerolinewidth": 2
          },
          "yaxis": {
           "automargin": true,
           "gridcolor": "white",
           "linecolor": "white",
           "ticks": "",
           "title": {
            "standoff": 15
           },
           "zerolinecolor": "white",
           "zerolinewidth": 2
          }
         }
        },
        "xaxis": {
         "anchor": "y",
         "domain": [
          0,
          1
         ],
         "title": {
          "text": "injury_claim"
         }
        },
        "yaxis": {
         "anchor": "x",
         "domain": [
          0,
          1
         ],
         "title": {
          "text": "count"
         }
        }
       }
      }
     },
     "metadata": {},
     "output_type": "display_data"
    }
   ],
   "source": [
    "fig = px.histogram(df,x=\"injury_claim\",color='fraud_reported')\n",
    "fig.show()"
   ]
  },
  {
   "cell_type": "code",
   "execution_count": 505,
   "metadata": {},
   "outputs": [
    {
     "data": {
      "application/vnd.plotly.v1+json": {
       "config": {
        "plotlyServerURL": "https://plot.ly"
       },
       "data": [
        {
         "alignmentgroup": "True",
         "bingroup": "x",
         "hovertemplate": "fraud_reported=Y<br>months_as_customer=%{x}<br>count=%{y}<extra></extra>",
         "legendgroup": "Y",
         "marker": {
          "color": "#636efa",
          "pattern": {
           "shape": ""
          }
         },
         "name": "Y",
         "offsetgroup": "Y",
         "orientation": "v",
         "showlegend": true,
         "type": "histogram",
         "x": [
          328,
          228,
          256,
          256,
          180,
          473,
          370,
          413,
          8,
          202,
          166,
          147,
          62,
          199,
          116,
          355,
          154,
          215,
          295,
          254,
          107,
          271,
          222,
          227,
          284,
          41,
          61,
          325,
          29,
          464,
          298,
          87,
          453,
          258,
          225,
          206,
          203,
          274,
          81,
          171,
          22,
          398,
          214,
          82,
          193,
          104,
          101,
          375,
          112,
          14,
          119,
          86,
          125,
          81,
          196,
          128,
          11,
          142,
          272,
          328,
          246,
          343,
          27,
          107,
          177,
          371,
          269,
          117,
          111,
          440,
          20,
          279,
          134,
          156,
          232,
          246,
          332,
          264,
          108,
          186,
          436,
          88,
          39,
          156,
          175,
          111,
          151,
          253,
          10,
          85,
          97,
          257,
          78,
          283,
          290,
          66,
          216,
          230,
          270,
          177,
          451,
          61,
          283,
          291,
          162,
          10,
          140,
          157,
          113,
          289,
          157,
          159,
          437,
          150,
          4,
          167,
          310,
          255,
          152,
          414,
          123,
          271,
          448,
          460,
          245,
          67,
          380,
          389,
          317,
          116,
          19,
          338,
          405,
          61,
          184,
          222,
          15,
          65,
          478,
          254,
          313,
          360,
          364,
          210,
          272,
          371,
          402,
          102,
          222,
          51,
          463,
          43,
          152,
          3,
          64,
          16,
          255,
          438,
          206,
          239,
          330,
          142,
          140,
          34,
          183,
          16,
          128,
          356,
          252,
          435,
          344,
          238,
          313,
          199,
          186,
          85,
          162,
          270,
          168,
          274,
          152,
          46,
          276,
          234,
          456,
          58,
          96,
          269,
          39,
          140,
          243,
          371,
          175,
          373,
          258,
          440,
          264,
          66,
          335,
          257,
          119,
          84,
          421,
          123,
          110,
          404,
          250,
          197,
          97,
          77,
          9,
          185,
          297,
          147,
          427,
          282,
          218,
          242,
          80,
          290,
          195,
          144,
          121,
          398,
          115,
          156,
          121,
          175,
          231,
          188,
          211,
          156,
          136,
          310,
          154,
          147,
          279,
          31,
          163,
          179,
          232,
          230,
          234,
          266,
          230,
          232,
          235
         ],
         "xaxis": "x",
         "yaxis": "y"
        },
        {
         "alignmentgroup": "True",
         "bingroup": "x",
         "hovertemplate": "fraud_reported=N<br>months_as_customer=%{x}<br>count=%{y}<extra></extra>",
         "legendgroup": "N",
         "marker": {
          "color": "#EF553B",
          "pattern": {
           "shape": ""
          }
         },
         "name": "N",
         "offsetgroup": "N",
         "orientation": "v",
         "showlegend": true,
         "type": "histogram",
         "x": [
          134,
          228,
          137,
          165,
          27,
          212,
          235,
          447,
          60,
          121,
          70,
          140,
          160,
          196,
          460,
          217,
          237,
          257,
          224,
          241,
          64,
          155,
          114,
          149,
          289,
          431,
          79,
          37,
          106,
          269,
          265,
          163,
          175,
          192,
          430,
          91,
          217,
          223,
          195,
          22,
          439,
          94,
          11,
          151,
          245,
          119,
          478,
          128,
          338,
          199,
          215,
          192,
          120,
          270,
          319,
          194,
          137,
          244,
          78,
          200,
          275,
          153,
          134,
          31,
          127,
          207,
          219,
          271,
          80,
          295,
          239,
          269,
          80,
          279,
          165,
          350,
          295,
          118,
          261,
          210,
          168,
          390,
          107,
          164,
          245,
          255,
          22,
          211,
          206,
          166,
          165,
          280,
          194,
          112,
          24,
          93,
          200,
          120,
          325,
          124,
          211,
          287,
          122,
          106,
          209,
          134,
          288,
          431,
          461,
          428,
          45,
          136,
          216,
          278,
          295,
          122,
          108,
          298,
          276,
          47,
          222,
          73,
          8,
          294,
          324,
          155,
          261,
          245,
          235,
          53,
          426,
          111,
          296,
          177,
          238,
          128,
          449,
          252,
          359,
          19,
          73,
          285,
          223,
          328,
          285,
          30,
          342,
          219,
          468,
          241,
          223,
          124,
          343,
          404,
          63,
          210,
          335,
          69,
          38,
          281,
          298,
          330,
          362,
          241,
          245,
          371,
          377,
          154,
          166,
          298,
          235,
          172,
          428,
          99,
          272,
          151,
          249,
          190,
          174,
          95,
          2,
          101,
          94,
          242,
          461,
          208,
          244,
          122,
          244,
          84,
          394,
          35,
          156,
          195,
          369,
          271,
          107,
          217,
          243,
          296,
          32,
          259,
          201,
          189,
          105,
          163,
          219,
          40,
          284,
          59,
          147,
          123,
          231,
          247,
          194,
          119,
          259,
          107,
          48,
          267,
          286,
          156,
          165,
          158,
          436,
          91,
          256,
          274,
          275,
          1,
          233,
          142,
          266,
          350,
          399,
          305,
          276,
          129,
          85,
          101,
          96,
          121,
          176,
          159,
          120,
          212,
          299,
          334,
          86,
          429,
          257,
          15,
          250,
          65,
          475,
          77,
          256,
          229,
          110,
          292,
          150,
          154,
          289,
          309,
          396,
          273,
          129,
          419,
          315,
          72,
          32,
          230,
          265,
          47,
          254,
          115,
          236,
          7,
          208,
          126,
          48,
          297,
          160,
          406,
          146,
          409,
          252,
          6,
          103,
          369,
          261,
          344,
          65,
          280,
          269,
          275,
          265,
          283,
          84,
          247,
          56,
          210,
          108,
          328,
          186,
          277,
          138,
          208,
          147,
          8,
          297,
          210,
          91,
          467,
          264,
          270,
          143,
          146,
          102,
          61,
          211,
          61,
          108,
          303,
          120,
          144,
          163,
          352,
          27,
          239,
          33,
          88,
          101,
          20,
          126,
          264,
          78,
          347,
          163,
          410,
          218,
          43,
          33,
          126,
          411,
          225,
          35,
          195,
          360,
          300,
          146,
          264,
          20,
          222,
          439,
          66,
          128,
          69,
          294,
          191,
          4,
          298,
          231,
          261,
          321,
          0,
          304,
          1,
          26,
          202,
          289,
          334,
          12,
          86,
          83,
          126,
          209,
          283,
          194,
          479,
          284,
          65,
          196,
          253,
          280,
          5,
          220,
          85,
          266,
          41,
          316,
          285,
          379,
          354,
          342,
          169,
          339,
          259,
          254,
          440,
          230,
          138,
          239,
          93,
          37,
          131,
          230,
          210,
          101,
          153,
          337,
          428,
          204,
          185,
          63,
          194,
          294,
          27,
          251,
          180,
          392,
          143,
          292,
          165,
          158,
          241,
          103,
          182,
          282,
          415,
          255,
          143,
          130,
          242,
          96,
          180,
          150,
          472,
          75,
          193,
          253,
          160,
          56,
          286,
          286,
          239,
          98,
          70,
          75,
          246,
          110,
          236,
          267,
          463,
          303,
          137,
          56,
          75,
          131,
          153,
          103,
          97,
          214,
          87,
          27,
          127,
          422,
          303,
          228,
          128,
          147,
          287,
          162,
          106,
          292,
          290,
          182,
          362,
          143,
          254,
          249,
          169,
          235,
          112,
          103,
          109,
          2,
          198,
          107,
          303,
          101,
          446,
          330,
          211,
          172,
          316,
          204,
          278,
          434,
          209,
          250,
          61,
          80,
          25,
          4,
          32,
          125,
          276,
          148,
          222,
          32,
          78,
          334,
          190,
          194,
          290,
          26,
          254,
          137,
          134,
          73,
          289,
          176,
          145,
          164,
          396,
          263,
          64,
          475,
          99,
          38,
          259,
          241,
          437,
          130,
          103,
          284,
          189,
          267,
          116,
          219,
          96,
          149,
          246,
          293,
          339,
          160,
          224,
          194,
          385,
          100,
          255,
          37,
          322,
          204,
          76,
          193,
          405,
          435,
          54,
          144,
          92,
          173,
          436,
          155,
          78,
          366,
          188,
          224,
          253,
          446,
          169,
          255,
          209,
          210,
          174,
          70,
          89,
          458,
          239,
          161,
          446,
          476,
          70,
          233,
          122,
          85,
          133,
          169,
          225,
          169,
          124,
          320,
          297,
          136,
          46,
          34,
          95,
          140,
          200,
          267,
          290,
          45,
          186,
          135,
          259,
          114,
          282,
          57,
          215,
          140,
          286,
          356,
          65,
          187,
          386,
          166,
          293,
          179,
          76,
          105,
          148,
          295,
          126,
          132,
          370,
          257,
          234,
          253,
          233,
          274,
          273,
          285,
          289,
          380,
          13,
          312,
          266,
          30,
          198,
          290,
          260,
          233,
          130,
          230,
          212,
          299,
          91,
          398,
          152,
          212,
          260,
          133,
          322,
          228,
          247,
          405,
          338,
          9,
          280,
          254,
          141,
          441,
          381,
          191,
          145,
          479,
          215,
          41,
          45,
          246,
          178,
          237,
          127,
          1,
          5,
          64,
          142,
          97,
          225,
          425,
          285,
          192,
          285,
          98,
          259,
          140,
          186,
          229,
          180,
          214,
          178,
          55,
          90,
          135,
          277,
          84,
          123,
          243,
          36,
          146,
          204,
          458,
          308,
          284,
          108,
          421,
          266,
          412,
          465,
          126,
          407,
          101,
          187,
          252,
          229,
          246,
          190,
          95,
          205,
          41,
          137,
          194,
          128,
          150,
          104,
          80,
          65,
          372,
          398,
          213,
          79,
          240,
          143,
          89,
          229,
          245,
          50,
          17,
          163,
          29,
          295,
          22,
          286,
          257,
          94,
          124,
          141,
          3,
          285,
          130,
          458,
          456
         ],
         "xaxis": "x",
         "yaxis": "y"
        }
       ],
       "layout": {
        "barmode": "relative",
        "legend": {
         "title": {
          "text": "fraud_reported"
         },
         "tracegroupgap": 0
        },
        "margin": {
         "t": 60
        },
        "template": {
         "data": {
          "bar": [
           {
            "error_x": {
             "color": "#2a3f5f"
            },
            "error_y": {
             "color": "#2a3f5f"
            },
            "marker": {
             "line": {
              "color": "#E5ECF6",
              "width": 0.5
             },
             "pattern": {
              "fillmode": "overlay",
              "size": 10,
              "solidity": 0.2
             }
            },
            "type": "bar"
           }
          ],
          "barpolar": [
           {
            "marker": {
             "line": {
              "color": "#E5ECF6",
              "width": 0.5
             },
             "pattern": {
              "fillmode": "overlay",
              "size": 10,
              "solidity": 0.2
             }
            },
            "type": "barpolar"
           }
          ],
          "carpet": [
           {
            "aaxis": {
             "endlinecolor": "#2a3f5f",
             "gridcolor": "white",
             "linecolor": "white",
             "minorgridcolor": "white",
             "startlinecolor": "#2a3f5f"
            },
            "baxis": {
             "endlinecolor": "#2a3f5f",
             "gridcolor": "white",
             "linecolor": "white",
             "minorgridcolor": "white",
             "startlinecolor": "#2a3f5f"
            },
            "type": "carpet"
           }
          ],
          "choropleth": [
           {
            "colorbar": {
             "outlinewidth": 0,
             "ticks": ""
            },
            "type": "choropleth"
           }
          ],
          "contour": [
           {
            "colorbar": {
             "outlinewidth": 0,
             "ticks": ""
            },
            "colorscale": [
             [
              0,
              "#0d0887"
             ],
             [
              0.1111111111111111,
              "#46039f"
             ],
             [
              0.2222222222222222,
              "#7201a8"
             ],
             [
              0.3333333333333333,
              "#9c179e"
             ],
             [
              0.4444444444444444,
              "#bd3786"
             ],
             [
              0.5555555555555556,
              "#d8576b"
             ],
             [
              0.6666666666666666,
              "#ed7953"
             ],
             [
              0.7777777777777778,
              "#fb9f3a"
             ],
             [
              0.8888888888888888,
              "#fdca26"
             ],
             [
              1,
              "#f0f921"
             ]
            ],
            "type": "contour"
           }
          ],
          "contourcarpet": [
           {
            "colorbar": {
             "outlinewidth": 0,
             "ticks": ""
            },
            "type": "contourcarpet"
           }
          ],
          "heatmap": [
           {
            "colorbar": {
             "outlinewidth": 0,
             "ticks": ""
            },
            "colorscale": [
             [
              0,
              "#0d0887"
             ],
             [
              0.1111111111111111,
              "#46039f"
             ],
             [
              0.2222222222222222,
              "#7201a8"
             ],
             [
              0.3333333333333333,
              "#9c179e"
             ],
             [
              0.4444444444444444,
              "#bd3786"
             ],
             [
              0.5555555555555556,
              "#d8576b"
             ],
             [
              0.6666666666666666,
              "#ed7953"
             ],
             [
              0.7777777777777778,
              "#fb9f3a"
             ],
             [
              0.8888888888888888,
              "#fdca26"
             ],
             [
              1,
              "#f0f921"
             ]
            ],
            "type": "heatmap"
           }
          ],
          "heatmapgl": [
           {
            "colorbar": {
             "outlinewidth": 0,
             "ticks": ""
            },
            "colorscale": [
             [
              0,
              "#0d0887"
             ],
             [
              0.1111111111111111,
              "#46039f"
             ],
             [
              0.2222222222222222,
              "#7201a8"
             ],
             [
              0.3333333333333333,
              "#9c179e"
             ],
             [
              0.4444444444444444,
              "#bd3786"
             ],
             [
              0.5555555555555556,
              "#d8576b"
             ],
             [
              0.6666666666666666,
              "#ed7953"
             ],
             [
              0.7777777777777778,
              "#fb9f3a"
             ],
             [
              0.8888888888888888,
              "#fdca26"
             ],
             [
              1,
              "#f0f921"
             ]
            ],
            "type": "heatmapgl"
           }
          ],
          "histogram": [
           {
            "marker": {
             "pattern": {
              "fillmode": "overlay",
              "size": 10,
              "solidity": 0.2
             }
            },
            "type": "histogram"
           }
          ],
          "histogram2d": [
           {
            "colorbar": {
             "outlinewidth": 0,
             "ticks": ""
            },
            "colorscale": [
             [
              0,
              "#0d0887"
             ],
             [
              0.1111111111111111,
              "#46039f"
             ],
             [
              0.2222222222222222,
              "#7201a8"
             ],
             [
              0.3333333333333333,
              "#9c179e"
             ],
             [
              0.4444444444444444,
              "#bd3786"
             ],
             [
              0.5555555555555556,
              "#d8576b"
             ],
             [
              0.6666666666666666,
              "#ed7953"
             ],
             [
              0.7777777777777778,
              "#fb9f3a"
             ],
             [
              0.8888888888888888,
              "#fdca26"
             ],
             [
              1,
              "#f0f921"
             ]
            ],
            "type": "histogram2d"
           }
          ],
          "histogram2dcontour": [
           {
            "colorbar": {
             "outlinewidth": 0,
             "ticks": ""
            },
            "colorscale": [
             [
              0,
              "#0d0887"
             ],
             [
              0.1111111111111111,
              "#46039f"
             ],
             [
              0.2222222222222222,
              "#7201a8"
             ],
             [
              0.3333333333333333,
              "#9c179e"
             ],
             [
              0.4444444444444444,
              "#bd3786"
             ],
             [
              0.5555555555555556,
              "#d8576b"
             ],
             [
              0.6666666666666666,
              "#ed7953"
             ],
             [
              0.7777777777777778,
              "#fb9f3a"
             ],
             [
              0.8888888888888888,
              "#fdca26"
             ],
             [
              1,
              "#f0f921"
             ]
            ],
            "type": "histogram2dcontour"
           }
          ],
          "mesh3d": [
           {
            "colorbar": {
             "outlinewidth": 0,
             "ticks": ""
            },
            "type": "mesh3d"
           }
          ],
          "parcoords": [
           {
            "line": {
             "colorbar": {
              "outlinewidth": 0,
              "ticks": ""
             }
            },
            "type": "parcoords"
           }
          ],
          "pie": [
           {
            "automargin": true,
            "type": "pie"
           }
          ],
          "scatter": [
           {
            "fillpattern": {
             "fillmode": "overlay",
             "size": 10,
             "solidity": 0.2
            },
            "type": "scatter"
           }
          ],
          "scatter3d": [
           {
            "line": {
             "colorbar": {
              "outlinewidth": 0,
              "ticks": ""
             }
            },
            "marker": {
             "colorbar": {
              "outlinewidth": 0,
              "ticks": ""
             }
            },
            "type": "scatter3d"
           }
          ],
          "scattercarpet": [
           {
            "marker": {
             "colorbar": {
              "outlinewidth": 0,
              "ticks": ""
             }
            },
            "type": "scattercarpet"
           }
          ],
          "scattergeo": [
           {
            "marker": {
             "colorbar": {
              "outlinewidth": 0,
              "ticks": ""
             }
            },
            "type": "scattergeo"
           }
          ],
          "scattergl": [
           {
            "marker": {
             "colorbar": {
              "outlinewidth": 0,
              "ticks": ""
             }
            },
            "type": "scattergl"
           }
          ],
          "scattermapbox": [
           {
            "marker": {
             "colorbar": {
              "outlinewidth": 0,
              "ticks": ""
             }
            },
            "type": "scattermapbox"
           }
          ],
          "scatterpolar": [
           {
            "marker": {
             "colorbar": {
              "outlinewidth": 0,
              "ticks": ""
             }
            },
            "type": "scatterpolar"
           }
          ],
          "scatterpolargl": [
           {
            "marker": {
             "colorbar": {
              "outlinewidth": 0,
              "ticks": ""
             }
            },
            "type": "scatterpolargl"
           }
          ],
          "scatterternary": [
           {
            "marker": {
             "colorbar": {
              "outlinewidth": 0,
              "ticks": ""
             }
            },
            "type": "scatterternary"
           }
          ],
          "surface": [
           {
            "colorbar": {
             "outlinewidth": 0,
             "ticks": ""
            },
            "colorscale": [
             [
              0,
              "#0d0887"
             ],
             [
              0.1111111111111111,
              "#46039f"
             ],
             [
              0.2222222222222222,
              "#7201a8"
             ],
             [
              0.3333333333333333,
              "#9c179e"
             ],
             [
              0.4444444444444444,
              "#bd3786"
             ],
             [
              0.5555555555555556,
              "#d8576b"
             ],
             [
              0.6666666666666666,
              "#ed7953"
             ],
             [
              0.7777777777777778,
              "#fb9f3a"
             ],
             [
              0.8888888888888888,
              "#fdca26"
             ],
             [
              1,
              "#f0f921"
             ]
            ],
            "type": "surface"
           }
          ],
          "table": [
           {
            "cells": {
             "fill": {
              "color": "#EBF0F8"
             },
             "line": {
              "color": "white"
             }
            },
            "header": {
             "fill": {
              "color": "#C8D4E3"
             },
             "line": {
              "color": "white"
             }
            },
            "type": "table"
           }
          ]
         },
         "layout": {
          "annotationdefaults": {
           "arrowcolor": "#2a3f5f",
           "arrowhead": 0,
           "arrowwidth": 1
          },
          "autotypenumbers": "strict",
          "coloraxis": {
           "colorbar": {
            "outlinewidth": 0,
            "ticks": ""
           }
          },
          "colorscale": {
           "diverging": [
            [
             0,
             "#8e0152"
            ],
            [
             0.1,
             "#c51b7d"
            ],
            [
             0.2,
             "#de77ae"
            ],
            [
             0.3,
             "#f1b6da"
            ],
            [
             0.4,
             "#fde0ef"
            ],
            [
             0.5,
             "#f7f7f7"
            ],
            [
             0.6,
             "#e6f5d0"
            ],
            [
             0.7,
             "#b8e186"
            ],
            [
             0.8,
             "#7fbc41"
            ],
            [
             0.9,
             "#4d9221"
            ],
            [
             1,
             "#276419"
            ]
           ],
           "sequential": [
            [
             0,
             "#0d0887"
            ],
            [
             0.1111111111111111,
             "#46039f"
            ],
            [
             0.2222222222222222,
             "#7201a8"
            ],
            [
             0.3333333333333333,
             "#9c179e"
            ],
            [
             0.4444444444444444,
             "#bd3786"
            ],
            [
             0.5555555555555556,
             "#d8576b"
            ],
            [
             0.6666666666666666,
             "#ed7953"
            ],
            [
             0.7777777777777778,
             "#fb9f3a"
            ],
            [
             0.8888888888888888,
             "#fdca26"
            ],
            [
             1,
             "#f0f921"
            ]
           ],
           "sequentialminus": [
            [
             0,
             "#0d0887"
            ],
            [
             0.1111111111111111,
             "#46039f"
            ],
            [
             0.2222222222222222,
             "#7201a8"
            ],
            [
             0.3333333333333333,
             "#9c179e"
            ],
            [
             0.4444444444444444,
             "#bd3786"
            ],
            [
             0.5555555555555556,
             "#d8576b"
            ],
            [
             0.6666666666666666,
             "#ed7953"
            ],
            [
             0.7777777777777778,
             "#fb9f3a"
            ],
            [
             0.8888888888888888,
             "#fdca26"
            ],
            [
             1,
             "#f0f921"
            ]
           ]
          },
          "colorway": [
           "#636efa",
           "#EF553B",
           "#00cc96",
           "#ab63fa",
           "#FFA15A",
           "#19d3f3",
           "#FF6692",
           "#B6E880",
           "#FF97FF",
           "#FECB52"
          ],
          "font": {
           "color": "#2a3f5f"
          },
          "geo": {
           "bgcolor": "white",
           "lakecolor": "white",
           "landcolor": "#E5ECF6",
           "showlakes": true,
           "showland": true,
           "subunitcolor": "white"
          },
          "hoverlabel": {
           "align": "left"
          },
          "hovermode": "closest",
          "mapbox": {
           "style": "light"
          },
          "paper_bgcolor": "white",
          "plot_bgcolor": "#E5ECF6",
          "polar": {
           "angularaxis": {
            "gridcolor": "white",
            "linecolor": "white",
            "ticks": ""
           },
           "bgcolor": "#E5ECF6",
           "radialaxis": {
            "gridcolor": "white",
            "linecolor": "white",
            "ticks": ""
           }
          },
          "scene": {
           "xaxis": {
            "backgroundcolor": "#E5ECF6",
            "gridcolor": "white",
            "gridwidth": 2,
            "linecolor": "white",
            "showbackground": true,
            "ticks": "",
            "zerolinecolor": "white"
           },
           "yaxis": {
            "backgroundcolor": "#E5ECF6",
            "gridcolor": "white",
            "gridwidth": 2,
            "linecolor": "white",
            "showbackground": true,
            "ticks": "",
            "zerolinecolor": "white"
           },
           "zaxis": {
            "backgroundcolor": "#E5ECF6",
            "gridcolor": "white",
            "gridwidth": 2,
            "linecolor": "white",
            "showbackground": true,
            "ticks": "",
            "zerolinecolor": "white"
           }
          },
          "shapedefaults": {
           "line": {
            "color": "#2a3f5f"
           }
          },
          "ternary": {
           "aaxis": {
            "gridcolor": "white",
            "linecolor": "white",
            "ticks": ""
           },
           "baxis": {
            "gridcolor": "white",
            "linecolor": "white",
            "ticks": ""
           },
           "bgcolor": "#E5ECF6",
           "caxis": {
            "gridcolor": "white",
            "linecolor": "white",
            "ticks": ""
           }
          },
          "title": {
           "x": 0.05
          },
          "xaxis": {
           "automargin": true,
           "gridcolor": "white",
           "linecolor": "white",
           "ticks": "",
           "title": {
            "standoff": 15
           },
           "zerolinecolor": "white",
           "zerolinewidth": 2
          },
          "yaxis": {
           "automargin": true,
           "gridcolor": "white",
           "linecolor": "white",
           "ticks": "",
           "title": {
            "standoff": 15
           },
           "zerolinecolor": "white",
           "zerolinewidth": 2
          }
         }
        },
        "xaxis": {
         "anchor": "y",
         "domain": [
          0,
          1
         ],
         "title": {
          "text": "months_as_customer"
         }
        },
        "yaxis": {
         "anchor": "x",
         "domain": [
          0,
          1
         ],
         "title": {
          "text": "count"
         }
        }
       }
      }
     },
     "metadata": {},
     "output_type": "display_data"
    }
   ],
   "source": [
    "fig = px.histogram(df,x=\"months_as_customer\",color='fraud_reported')\n",
    "fig.show()"
   ]
  },
  {
   "cell_type": "code",
   "execution_count": 506,
   "metadata": {},
   "outputs": [
    {
     "data": {
      "application/vnd.plotly.v1+json": {
       "config": {
        "plotlyServerURL": "https://plot.ly"
       },
       "data": [
        {
         "alignmentgroup": "True",
         "bingroup": "x",
         "hovertemplate": "fraud_reported=Y<br>policy_annual_premium=%{x}<br>count=%{y}<extra></extra>",
         "legendgroup": "Y",
         "marker": {
          "color": "#636efa",
          "pattern": {
           "shape": ""
          }
         },
         "name": "Y",
         "offsetgroup": "Y",
         "orientation": "v",
         "showlegend": true,
         "type": "histogram",
         "x": [
          1406.91,
          1197.22,
          1415.74,
          1351.1,
          1301.13,
          1131.4,
          972.18,
          1268.79,
          1266.92,
          848.07,
          1337.28,
          1334.15,
          988.45,
          1262.08,
          1737.66,
          1273.7,
          795.23,
          1848.81,
          1641.73,
          1362.87,
          1239.22,
          1105.49,
          1055.53,
          976.67,
          769.95,
          1226.83,
          1136.83,
          1690.27,
          1352.83,
          1125.37,
          1338.5,
          1074.07,
          1298.91,
          1110.37,
          1103.58,
          1625.45,
          1394.43,
          1352.31,
          1139,
          1277.25,
          1238.62,
          990.98,
          1398.51,
          1384.51,
          847.03,
          1158.03,
          1053.04,
          1275.39,
          1166.54,
          1587.96,
          1079.92,
          1382.88,
          1054.83,
          920.3,
          1463.07,
          768.91,
          1217.69,
          1362.64,
          1279.13,
          1314.6,
          1649.18,
          1053.02,
          1371.78,
          932.14,
          1540.19,
          1532.47,
          1297.75,
          1264.77,
          1459.97,
          1050.76,
          1711.72,
          1281.25,
          1443.32,
          1134.08,
          1483.91,
          1665.45,
          1083.01,
          1411.3,
          694.45,
          1348.32,
          1407.01,
          1194,
          1366.9,
          1090.65,
          915.29,
          1239.55,
          1366.42,
          1312.75,
          765.64,
          1454.42,
          1252.08,
          1379.93,
          1554.64,
          1313.33,
          1085.03,
          988.29,
          1384.64,
          904.7,
          1030.95,
          1609.67,
          1618.65,
          922.67,
          1195.01,
          994.74,
          1050.24,
          1185.78,
          1554.86,
          617.11,
          1091.73,
          1209.07,
          1257.83,
          1462.76,
          1269.64,
          1354.5,
          1282.93,
          949.44,
          845.16,
          814.96,
          942.51,
          1335.13,
          1836.02,
          1340.71,
          1376.16,
          1567.37,
          1575.74,
          1861.43,
          1570.86,
          791.47,
          1012.78,
          951.46,
          1304.35,
          1486.04,
          1237.88,
          1188.28,
          1437.53,
          1232.72,
          1586.41,
          1099.95,
          1292.3,
          1927.87,
          1255.62,
          1526.61,
          1268.35,
          1433.24,
          945.73,
          1317.97,
          1285.09,
          1537.07,
          1757.87,
          1430.8,
          979.73,
          1320.39,
          1448.54,
          995.7,
          1202.28,
          1358.03,
          984.02,
          1119.29,
          1230.76,
          625.08,
          1133.27,
          1307.68,
          1520.78,
          1295.87,
          1543.68,
          968.46,
          1045.12,
          912.3,
          1312.22,
          1064.49,
          959.83,
          1524.45,
          1556.17,
          1281.25,
          1218.56,
          1234.69,
          964.92,
          817.28,
          1389.59,
          1353.53,
          840.81,
          998.19,
          1090.32,
          1780.67,
          1395.77,
          1471.44,
          1274.7,
          1422.21,
          1173.21,
          985.97,
          1129.23,
          1569.33,
          1359.36,
          1607.36,
          1042.25,
          995.55,
          1508.12,
          484.67,
          1017.97,
          1306,
          1299.18,
          1694.09,
          1935.85,
          1209.63,
          1183.48,
          1361.16,
          1055.6,
          1324.78,
          1270.55,
          785.82,
          1304.46,
          1257.36,
          1243.68,
          1375.29,
          1178.61,
          1452.27,
          1521.55,
          1396.89,
          795.31,
          1311.3,
          1406.52,
          1896.91,
          1285.42,
          1305.26,
          1051.67,
          1367.99,
          1140.91,
          1185.44,
          920.81,
          1340.24,
          1055.09,
          1479.48,
          1169.62,
          1516.34,
          1041.36,
          1054.92,
          1333.97,
          1263.48,
          1200.33,
          1433.42,
          1181.64,
          1060.74,
          951.56,
          1093.83,
          1101.83,
          944.03,
          1453.61
         ],
         "xaxis": "x",
         "yaxis": "y"
        },
        {
         "alignmentgroup": "True",
         "bingroup": "x",
         "hovertemplate": "fraud_reported=N<br>policy_annual_premium=%{x}<br>count=%{y}<extra></extra>",
         "legendgroup": "N",
         "marker": {
          "color": "#EF553B",
          "pattern": {
           "shape": ""
          }
         },
         "name": "N",
         "offsetgroup": "N",
         "orientation": "v",
         "showlegend": true,
         "type": "histogram",
         "x": [
          1413.14,
          1583.91,
          1333.35,
          1137.03,
          1442.99,
          1315.68,
          1253.12,
          1137.16,
          1215.36,
          936.61,
          1199.44,
          708.64,
          1374.22,
          1475.73,
          1187.96,
          875.15,
          883.31,
          1322.1,
          1291.7,
          1104.5,
          954.16,
          1088.34,
          1558.29,
          1415.68,
          1222.48,
          1155.55,
          1451.62,
          1475.93,
          538.17,
          1081.08,
          1454.43,
          1240.47,
          1123.87,
          1245.89,
          1326.62,
          1073.83,
          1530.52,
          1201.41,
          1393.57,
          1276.57,
          1082.49,
          1414.74,
          1470.06,
          870.63,
          1168.2,
          993.51,
          835.02,
          1061.33,
          1279.08,
          895.83,
          1632.93,
          1405.99,
          1425.54,
          1038.09,
          1307.11,
          1489.24,
          1340.43,
          1267.81,
          1234.2,
          1318.06,
          1514.72,
          873.64,
          1612.43,
          1318.24,
          1326.44,
          1322.78,
          1483.25,
          1515.3,
          1075.18,
          1148.73,
          969.5,
          1463.82,
          1474.17,
          1497.35,
          1427.14,
          1495.1,
          1141.62,
          1207.36,
          1337.56,
          1222.75,
          1059.52,
          1124.38,
          1374.22,
          1269.76,
          964.79,
          1167.3,
          1053.24,
          1040.75,
          1302.4,
          1588.55,
          1399.26,
          1397.67,
          823.17,
          965.13,
          1922.84,
          1624.82,
          1439.34,
          1281.27,
          1348.83,
          1198.15,
          1221.22,
          968.74,
          1220.71,
          1320.75,
          1355.08,
          1000.06,
          1046.71,
          1372.27,
          1402.75,
          1344.36,
          1197.71,
          1203.24,
          1152.4,
          1142.62,
          1332.07,
          1495.06,
          1337.92,
          1362.29,
          1448.84,
          1241.97,
          1124.6,
          1447.78,
          1229.16,
          1226.49,
          897.89,
          1706.79,
          1254.18,
          885.08,
          1046.58,
          1712.68,
          1097.71,
          1363.77,
          1141.35,
          1057.77,
          1488.02,
          986.53,
          1440.68,
          1086.21,
          1367.68,
          1215.85,
          1191.19,
          1594.45,
          1734.09,
          1411.43,
          1512.58,
          1153.35,
          1722.95,
          1281.07,
          1011.92,
          1042.26,
          1235.1,
          1301.72,
          1451.54,
          767.14,
          1620.89,
          1048.46,
          1538.26,
          924.72,
          1019.44,
          1515.18,
          1451.01,
          978.46,
          1198.34,
          1003.23,
          1212,
          1242.96,
          1693.63,
          2047.59,
          1083.72,
          1138.42,
          1072.62,
          1219.04,
          1506.21,
          1058.21,
          1608.34,
          1728.56,
          1518.46,
          965.21,
          1278.75,
          773.99,
          1340.56,
          433.33,
          1025.54,
          1238.65,
          865.33,
          1153.49,
          1342.8,
          1629.94,
          1304.67,
          1035.79,
          1401.2,
          653.66,
          1080.13,
          1346.18,
          1589.54,
          1251.65,
          974.59,
          1399.85,
          1307.74,
          1219.27,
          1006.77,
          1422.36,
          1315.56,
          1388.58,
          1310.76,
          1004.63,
          1134.91,
          1248.25,
          1338.54,
          782.23,
          1275.81,
          1326,
          972.47,
          806.31,
          1416.24,
          1097.64,
          947.75,
          1018.73,
          1400.74,
          1155.53,
          1386.93,
          1086.48,
          1247.87,
          1327.41,
          1338.55,
          1316.63,
          1286.44,
          1372.18,
          1447.77,
          903.32,
          1603.42,
          1616.58,
          1611.83,
          889.13,
          995.56,
          1347.92,
          1724.09,
          1377.94,
          1259.02,
          1371.88,
          1399.27,
          1061.98,
          1365.46,
          894.4,
          956.69,
          1123.89,
          1437.33,
          1238.89,
          1595.07,
          1127.89,
          929.7,
          1829.63,
          1243.84,
          1285.03,
          1216.56,
          966.26,
          1203.17,
          1212.12,
          1573.93,
          1097.57,
          1342.02,
          1313.51,
          1102.29,
          1527.95,
          1366.39,
          1403.9,
          927.23,
          736.07,
          974.16,
          973.8,
          1260.32,
          1464.03,
          1724.46,
          1161.31,
          1241.04,
          1757.21,
          802.24,
          1342.72,
          1209.41,
          1141.71,
          1090.03,
          1464.73,
          1118.58,
          1117.04,
          1082.72,
          1191.8,
          1242.02,
          1075.71,
          969.88,
          1459.93,
          1245.61,
          1398.46,
          1455.65,
          1140.31,
          1330.46,
          1190.6,
          972.5,
          1161.91,
          1117.17,
          1101.51,
          1523.17,
          984.45,
          1257,
          1434.51,
          1628,
          1412.31,
          1362.87,
          1134.68,
          1306.78,
          1021.9,
          1538.6,
          1346.27,
          1338.4,
          977.4,
          1181.46,
          1187.53,
          1442.27,
          1276.43,
          1075.41,
          1111.72,
          1575.86,
          1115.27,
          1175.7,
          793.15,
          1056.71,
          1255.68,
          1178.95,
          1793.16,
          1008.38,
          1396.83,
          1402.78,
          1437.88,
          1313.64,
          1482.14,
          1171.75,
          1353.33,
          1175.51,
          1480.79,
          1453.92,
          714.03,
          914.22,
          1601.47,
          1096.79,
          1078.22,
          1595.28,
          1217.84,
          1117.42,
          1294.93,
          1152.12,
          1441.21,
          1233.96,
          1047.06,
          1390.29,
          1226.78,
          1280.9,
          1472.77,
          1878.44,
          1418.5,
          1532.8,
          1551.61,
          1326.98,
          862.92,
          1331.69,
          870.55,
          1344.56,
          1377.04,
          1525.86,
          854.58,
          770.76,
          1132.74,
          1173.37,
          876.88,
          1143.95,
          1409.06,
          1070.63,
          916.13,
          1191.5,
          1474.66,
          1193.45,
          1304.83,
          1168.8,
          1164.97,
          1800.76,
          1187.01,
          1559.34,
          1137.02,
          1281.72,
          796.35,
          1270.02,
          1383.13,
          1290.74,
          1216.68,
          1251.16,
          1526.11,
          1028.44,
          1555.94,
          1570.77,
          1170.53,
          1472.43,
          1275.62,
          1009.37,
          1093.07,
          1325.44,
          1017.18,
          1221.17,
          978.27,
          1221.14,
          999.52,
          1380.89,
          1010.77,
          1205.86,
          1496.44,
          1256.2,
          1421.59,
          1500.04,
          1231.25,
          1135.43,
          1118.76,
          1231.98,
          1005.47,
          1108.97,
          1392.39,
          1588.22,
          900.02,
          1744.64,
          1260.56,
          1021.14,
          1022.42,
          1558.86,
          973.5,
          1192.27,
          1163.83,
          1003.15,
          1153.54,
          1631.1,
          1252.48,
          1677.26,
          989.24,
          1389.86,
          1233.85,
          1435.09,
          1733.56,
          1533.07,
          1106.77,
          1298.85,
          1276.73,
          671.92,
          1008.79,
          1141.1,
          1397,
          1664.66,
          1151.39,
          1546.01,
          1063.67,
          709.14,
          1039.55,
          1339.39,
          1202.75,
          1081.17,
          991.39,
          1354.83,
          830.31,
          987.42,
          1048.39,
          1074.47,
          1255.02,
          1555.52,
          836.11,
          1450.98,
          1366.6,
          1439.9,
          1230.69,
          1124.69,
          1609.11,
          1358.91,
          1161.03,
          1441.06,
          1097.99,
          1464.42,
          1390.89,
          1148.58,
          1616.26,
          1398.94,
          1238.92,
          1537.33,
          1007.28,
          1189.98,
          1576.41,
          1172.82,
          671.01,
          895.14,
          1373.21,
          1625.65,
          1295.63,
          1459.96,
          1219.94,
          1767.02,
          1285.01,
          1422.95,
          1223.39,
          1539.06,
          988.06,
          1740.57,
          1540.91,
          1381.88,
          1446.98,
          1220.86,
          948.1,
          1471.24,
          1157.97,
          566.11,
          1060.88,
          1216.24,
          1484.72,
          1203.81,
          1393.34,
          1484.48,
          1581.27,
          1667.83,
          1497.41,
          803.36,
          1221.41,
          1865.83,
          1434.27,
          1114.68,
          1351.72,
          1294.04,
          1681.01,
          1265.72,
          1330.39,
          1122.95,
          1655.79,
          935.77,
          1192.04,
          990.11,
          914.85,
          1123.84,
          838.02,
          1300.68,
          1194.83,
          1114.29,
          1509.04,
          664.86,
          1267.4,
          1119.23,
          1698.51,
          1422.78,
          1212.75,
          1423.34,
          976.37,
          1124.59,
          1453.95,
          1969.63,
          1156.19,
          1124.47,
          1493.5,
          1155.38,
          878.19,
          1145.85,
          1261.28,
          1427.46,
          1592.41,
          1274.63,
          1362.31,
          919.37,
          1377.23,
          1561.41,
          1457.21,
          1128.71,
          1358.2,
          1232.79,
          936.19,
          1302.34,
          1264.99,
          1467.76,
          1124.43,
          1319.81,
          1482.53,
          1328.18,
          1463.95,
          1133.85,
          1037.32,
          1562.8,
          1425.79,
          1615.14,
          1236.5,
          1174.14,
          1231.01,
          1469.75,
          1390.72,
          1140.15,
          1310.71,
          1730.49,
          1616.65,
          855.14,
          1568.47,
          1550.53,
          1370.92,
          1363.59,
          828.42,
          1111.17,
          989.97,
          1114.23,
          1347.31,
          1687.53,
          1537.13,
          1173.25,
          1422.56,
          1143.06,
          1405.71,
          1354.2,
          999.43,
          1155.97,
          1726.91,
          1232.57,
          1078.65,
          1518.54,
          1239.06,
          1246.68,
          1622.67,
          1082.36,
          1236.32,
          1265.84,
          1508.9,
          1106.84,
          1389.13,
          974.84,
          1257.04,
          719.52,
          1524.18,
          1395.58,
          1189.04,
          1389.13,
          1387.51,
          1166.62,
          1556.31,
          1212.07,
          1578.54,
          1488.26,
          1096.39,
          1215.36,
          1482.57,
          954.18,
          1193.4,
          1023.11,
          1524.45,
          1653.32,
          1022.46,
          1396.43,
          1034.27,
          1255.35,
          982.22,
          1074.07,
          1277.12,
          1388.62,
          1558.29,
          1132.47,
          1143.46,
          1073.83,
          1387.35,
          1083.64,
          1851.78,
          1270.29,
          1459.99,
          1253.44,
          1142.48,
          1188.45,
          1125.4,
          1294.41,
          1459.5,
          1594.37,
          1035.99,
          911.53,
          1319.97,
          1391.63,
          915.41,
          1468.82,
          1412.76,
          1588.26,
          1517.54,
          912.29,
          1144.3,
          1281.43,
          1101.85,
          1082.1,
          1175.07,
          979.26,
          922.85,
          1107.59,
          1272.46,
          1648,
          1381.14,
          1198.44,
          951.27,
          1341.24,
          1177.57,
          1827.38,
          1270.21,
          809.11,
          1115.81,
          1457.65,
          1693.83,
          1685.69,
          1013.61,
          958.3,
          1112.04,
          1206.26,
          763.67,
          1042.56,
          1006.99,
          1328.26,
          1250.08,
          982.7,
          1412.06,
          1066.7,
          1585.54,
          1416.08,
          1246.03,
          1356.64,
          1387.7,
          1004.14,
          1107.07,
          1429.96,
          1074.99,
          1007,
          1052.85,
          1343,
          1441.6,
          1368.57,
          862.19,
          871.46,
          1863.04,
          1533.71,
          1200.09,
          988.93,
          1331.94,
          1361.45,
          1188.51,
          840.95,
          1503.21,
          1722.5,
          1672.88,
          1248.05,
          1564.43,
          1280.88,
          722.66,
          1235.14,
          1347.04,
          1310.8,
          1436.79,
          1383.49,
          1356.92,
          766.19
         ],
         "xaxis": "x",
         "yaxis": "y"
        }
       ],
       "layout": {
        "barmode": "relative",
        "legend": {
         "title": {
          "text": "fraud_reported"
         },
         "tracegroupgap": 0
        },
        "margin": {
         "t": 60
        },
        "template": {
         "data": {
          "bar": [
           {
            "error_x": {
             "color": "#2a3f5f"
            },
            "error_y": {
             "color": "#2a3f5f"
            },
            "marker": {
             "line": {
              "color": "#E5ECF6",
              "width": 0.5
             },
             "pattern": {
              "fillmode": "overlay",
              "size": 10,
              "solidity": 0.2
             }
            },
            "type": "bar"
           }
          ],
          "barpolar": [
           {
            "marker": {
             "line": {
              "color": "#E5ECF6",
              "width": 0.5
             },
             "pattern": {
              "fillmode": "overlay",
              "size": 10,
              "solidity": 0.2
             }
            },
            "type": "barpolar"
           }
          ],
          "carpet": [
           {
            "aaxis": {
             "endlinecolor": "#2a3f5f",
             "gridcolor": "white",
             "linecolor": "white",
             "minorgridcolor": "white",
             "startlinecolor": "#2a3f5f"
            },
            "baxis": {
             "endlinecolor": "#2a3f5f",
             "gridcolor": "white",
             "linecolor": "white",
             "minorgridcolor": "white",
             "startlinecolor": "#2a3f5f"
            },
            "type": "carpet"
           }
          ],
          "choropleth": [
           {
            "colorbar": {
             "outlinewidth": 0,
             "ticks": ""
            },
            "type": "choropleth"
           }
          ],
          "contour": [
           {
            "colorbar": {
             "outlinewidth": 0,
             "ticks": ""
            },
            "colorscale": [
             [
              0,
              "#0d0887"
             ],
             [
              0.1111111111111111,
              "#46039f"
             ],
             [
              0.2222222222222222,
              "#7201a8"
             ],
             [
              0.3333333333333333,
              "#9c179e"
             ],
             [
              0.4444444444444444,
              "#bd3786"
             ],
             [
              0.5555555555555556,
              "#d8576b"
             ],
             [
              0.6666666666666666,
              "#ed7953"
             ],
             [
              0.7777777777777778,
              "#fb9f3a"
             ],
             [
              0.8888888888888888,
              "#fdca26"
             ],
             [
              1,
              "#f0f921"
             ]
            ],
            "type": "contour"
           }
          ],
          "contourcarpet": [
           {
            "colorbar": {
             "outlinewidth": 0,
             "ticks": ""
            },
            "type": "contourcarpet"
           }
          ],
          "heatmap": [
           {
            "colorbar": {
             "outlinewidth": 0,
             "ticks": ""
            },
            "colorscale": [
             [
              0,
              "#0d0887"
             ],
             [
              0.1111111111111111,
              "#46039f"
             ],
             [
              0.2222222222222222,
              "#7201a8"
             ],
             [
              0.3333333333333333,
              "#9c179e"
             ],
             [
              0.4444444444444444,
              "#bd3786"
             ],
             [
              0.5555555555555556,
              "#d8576b"
             ],
             [
              0.6666666666666666,
              "#ed7953"
             ],
             [
              0.7777777777777778,
              "#fb9f3a"
             ],
             [
              0.8888888888888888,
              "#fdca26"
             ],
             [
              1,
              "#f0f921"
             ]
            ],
            "type": "heatmap"
           }
          ],
          "heatmapgl": [
           {
            "colorbar": {
             "outlinewidth": 0,
             "ticks": ""
            },
            "colorscale": [
             [
              0,
              "#0d0887"
             ],
             [
              0.1111111111111111,
              "#46039f"
             ],
             [
              0.2222222222222222,
              "#7201a8"
             ],
             [
              0.3333333333333333,
              "#9c179e"
             ],
             [
              0.4444444444444444,
              "#bd3786"
             ],
             [
              0.5555555555555556,
              "#d8576b"
             ],
             [
              0.6666666666666666,
              "#ed7953"
             ],
             [
              0.7777777777777778,
              "#fb9f3a"
             ],
             [
              0.8888888888888888,
              "#fdca26"
             ],
             [
              1,
              "#f0f921"
             ]
            ],
            "type": "heatmapgl"
           }
          ],
          "histogram": [
           {
            "marker": {
             "pattern": {
              "fillmode": "overlay",
              "size": 10,
              "solidity": 0.2
             }
            },
            "type": "histogram"
           }
          ],
          "histogram2d": [
           {
            "colorbar": {
             "outlinewidth": 0,
             "ticks": ""
            },
            "colorscale": [
             [
              0,
              "#0d0887"
             ],
             [
              0.1111111111111111,
              "#46039f"
             ],
             [
              0.2222222222222222,
              "#7201a8"
             ],
             [
              0.3333333333333333,
              "#9c179e"
             ],
             [
              0.4444444444444444,
              "#bd3786"
             ],
             [
              0.5555555555555556,
              "#d8576b"
             ],
             [
              0.6666666666666666,
              "#ed7953"
             ],
             [
              0.7777777777777778,
              "#fb9f3a"
             ],
             [
              0.8888888888888888,
              "#fdca26"
             ],
             [
              1,
              "#f0f921"
             ]
            ],
            "type": "histogram2d"
           }
          ],
          "histogram2dcontour": [
           {
            "colorbar": {
             "outlinewidth": 0,
             "ticks": ""
            },
            "colorscale": [
             [
              0,
              "#0d0887"
             ],
             [
              0.1111111111111111,
              "#46039f"
             ],
             [
              0.2222222222222222,
              "#7201a8"
             ],
             [
              0.3333333333333333,
              "#9c179e"
             ],
             [
              0.4444444444444444,
              "#bd3786"
             ],
             [
              0.5555555555555556,
              "#d8576b"
             ],
             [
              0.6666666666666666,
              "#ed7953"
             ],
             [
              0.7777777777777778,
              "#fb9f3a"
             ],
             [
              0.8888888888888888,
              "#fdca26"
             ],
             [
              1,
              "#f0f921"
             ]
            ],
            "type": "histogram2dcontour"
           }
          ],
          "mesh3d": [
           {
            "colorbar": {
             "outlinewidth": 0,
             "ticks": ""
            },
            "type": "mesh3d"
           }
          ],
          "parcoords": [
           {
            "line": {
             "colorbar": {
              "outlinewidth": 0,
              "ticks": ""
             }
            },
            "type": "parcoords"
           }
          ],
          "pie": [
           {
            "automargin": true,
            "type": "pie"
           }
          ],
          "scatter": [
           {
            "fillpattern": {
             "fillmode": "overlay",
             "size": 10,
             "solidity": 0.2
            },
            "type": "scatter"
           }
          ],
          "scatter3d": [
           {
            "line": {
             "colorbar": {
              "outlinewidth": 0,
              "ticks": ""
             }
            },
            "marker": {
             "colorbar": {
              "outlinewidth": 0,
              "ticks": ""
             }
            },
            "type": "scatter3d"
           }
          ],
          "scattercarpet": [
           {
            "marker": {
             "colorbar": {
              "outlinewidth": 0,
              "ticks": ""
             }
            },
            "type": "scattercarpet"
           }
          ],
          "scattergeo": [
           {
            "marker": {
             "colorbar": {
              "outlinewidth": 0,
              "ticks": ""
             }
            },
            "type": "scattergeo"
           }
          ],
          "scattergl": [
           {
            "marker": {
             "colorbar": {
              "outlinewidth": 0,
              "ticks": ""
             }
            },
            "type": "scattergl"
           }
          ],
          "scattermapbox": [
           {
            "marker": {
             "colorbar": {
              "outlinewidth": 0,
              "ticks": ""
             }
            },
            "type": "scattermapbox"
           }
          ],
          "scatterpolar": [
           {
            "marker": {
             "colorbar": {
              "outlinewidth": 0,
              "ticks": ""
             }
            },
            "type": "scatterpolar"
           }
          ],
          "scatterpolargl": [
           {
            "marker": {
             "colorbar": {
              "outlinewidth": 0,
              "ticks": ""
             }
            },
            "type": "scatterpolargl"
           }
          ],
          "scatterternary": [
           {
            "marker": {
             "colorbar": {
              "outlinewidth": 0,
              "ticks": ""
             }
            },
            "type": "scatterternary"
           }
          ],
          "surface": [
           {
            "colorbar": {
             "outlinewidth": 0,
             "ticks": ""
            },
            "colorscale": [
             [
              0,
              "#0d0887"
             ],
             [
              0.1111111111111111,
              "#46039f"
             ],
             [
              0.2222222222222222,
              "#7201a8"
             ],
             [
              0.3333333333333333,
              "#9c179e"
             ],
             [
              0.4444444444444444,
              "#bd3786"
             ],
             [
              0.5555555555555556,
              "#d8576b"
             ],
             [
              0.6666666666666666,
              "#ed7953"
             ],
             [
              0.7777777777777778,
              "#fb9f3a"
             ],
             [
              0.8888888888888888,
              "#fdca26"
             ],
             [
              1,
              "#f0f921"
             ]
            ],
            "type": "surface"
           }
          ],
          "table": [
           {
            "cells": {
             "fill": {
              "color": "#EBF0F8"
             },
             "line": {
              "color": "white"
             }
            },
            "header": {
             "fill": {
              "color": "#C8D4E3"
             },
             "line": {
              "color": "white"
             }
            },
            "type": "table"
           }
          ]
         },
         "layout": {
          "annotationdefaults": {
           "arrowcolor": "#2a3f5f",
           "arrowhead": 0,
           "arrowwidth": 1
          },
          "autotypenumbers": "strict",
          "coloraxis": {
           "colorbar": {
            "outlinewidth": 0,
            "ticks": ""
           }
          },
          "colorscale": {
           "diverging": [
            [
             0,
             "#8e0152"
            ],
            [
             0.1,
             "#c51b7d"
            ],
            [
             0.2,
             "#de77ae"
            ],
            [
             0.3,
             "#f1b6da"
            ],
            [
             0.4,
             "#fde0ef"
            ],
            [
             0.5,
             "#f7f7f7"
            ],
            [
             0.6,
             "#e6f5d0"
            ],
            [
             0.7,
             "#b8e186"
            ],
            [
             0.8,
             "#7fbc41"
            ],
            [
             0.9,
             "#4d9221"
            ],
            [
             1,
             "#276419"
            ]
           ],
           "sequential": [
            [
             0,
             "#0d0887"
            ],
            [
             0.1111111111111111,
             "#46039f"
            ],
            [
             0.2222222222222222,
             "#7201a8"
            ],
            [
             0.3333333333333333,
             "#9c179e"
            ],
            [
             0.4444444444444444,
             "#bd3786"
            ],
            [
             0.5555555555555556,
             "#d8576b"
            ],
            [
             0.6666666666666666,
             "#ed7953"
            ],
            [
             0.7777777777777778,
             "#fb9f3a"
            ],
            [
             0.8888888888888888,
             "#fdca26"
            ],
            [
             1,
             "#f0f921"
            ]
           ],
           "sequentialminus": [
            [
             0,
             "#0d0887"
            ],
            [
             0.1111111111111111,
             "#46039f"
            ],
            [
             0.2222222222222222,
             "#7201a8"
            ],
            [
             0.3333333333333333,
             "#9c179e"
            ],
            [
             0.4444444444444444,
             "#bd3786"
            ],
            [
             0.5555555555555556,
             "#d8576b"
            ],
            [
             0.6666666666666666,
             "#ed7953"
            ],
            [
             0.7777777777777778,
             "#fb9f3a"
            ],
            [
             0.8888888888888888,
             "#fdca26"
            ],
            [
             1,
             "#f0f921"
            ]
           ]
          },
          "colorway": [
           "#636efa",
           "#EF553B",
           "#00cc96",
           "#ab63fa",
           "#FFA15A",
           "#19d3f3",
           "#FF6692",
           "#B6E880",
           "#FF97FF",
           "#FECB52"
          ],
          "font": {
           "color": "#2a3f5f"
          },
          "geo": {
           "bgcolor": "white",
           "lakecolor": "white",
           "landcolor": "#E5ECF6",
           "showlakes": true,
           "showland": true,
           "subunitcolor": "white"
          },
          "hoverlabel": {
           "align": "left"
          },
          "hovermode": "closest",
          "mapbox": {
           "style": "light"
          },
          "paper_bgcolor": "white",
          "plot_bgcolor": "#E5ECF6",
          "polar": {
           "angularaxis": {
            "gridcolor": "white",
            "linecolor": "white",
            "ticks": ""
           },
           "bgcolor": "#E5ECF6",
           "radialaxis": {
            "gridcolor": "white",
            "linecolor": "white",
            "ticks": ""
           }
          },
          "scene": {
           "xaxis": {
            "backgroundcolor": "#E5ECF6",
            "gridcolor": "white",
            "gridwidth": 2,
            "linecolor": "white",
            "showbackground": true,
            "ticks": "",
            "zerolinecolor": "white"
           },
           "yaxis": {
            "backgroundcolor": "#E5ECF6",
            "gridcolor": "white",
            "gridwidth": 2,
            "linecolor": "white",
            "showbackground": true,
            "ticks": "",
            "zerolinecolor": "white"
           },
           "zaxis": {
            "backgroundcolor": "#E5ECF6",
            "gridcolor": "white",
            "gridwidth": 2,
            "linecolor": "white",
            "showbackground": true,
            "ticks": "",
            "zerolinecolor": "white"
           }
          },
          "shapedefaults": {
           "line": {
            "color": "#2a3f5f"
           }
          },
          "ternary": {
           "aaxis": {
            "gridcolor": "white",
            "linecolor": "white",
            "ticks": ""
           },
           "baxis": {
            "gridcolor": "white",
            "linecolor": "white",
            "ticks": ""
           },
           "bgcolor": "#E5ECF6",
           "caxis": {
            "gridcolor": "white",
            "linecolor": "white",
            "ticks": ""
           }
          },
          "title": {
           "x": 0.05
          },
          "xaxis": {
           "automargin": true,
           "gridcolor": "white",
           "linecolor": "white",
           "ticks": "",
           "title": {
            "standoff": 15
           },
           "zerolinecolor": "white",
           "zerolinewidth": 2
          },
          "yaxis": {
           "automargin": true,
           "gridcolor": "white",
           "linecolor": "white",
           "ticks": "",
           "title": {
            "standoff": 15
           },
           "zerolinecolor": "white",
           "zerolinewidth": 2
          }
         }
        },
        "xaxis": {
         "anchor": "y",
         "domain": [
          0,
          1
         ],
         "title": {
          "text": "policy_annual_premium"
         }
        },
        "yaxis": {
         "anchor": "x",
         "domain": [
          0,
          1
         ],
         "title": {
          "text": "count"
         }
        }
       }
      }
     },
     "metadata": {},
     "output_type": "display_data"
    }
   ],
   "source": [
    "fig = px.histogram(df,x=\"policy_annual_premium\",color='fraud_reported')\n",
    "fig.show()\n"
   ]
  },
  {
   "cell_type": "code",
   "execution_count": 507,
   "metadata": {},
   "outputs": [
    {
     "data": {
      "application/vnd.plotly.v1+json": {
       "config": {
        "plotlyServerURL": "https://plot.ly"
       },
       "data": [
        {
         "alignmentgroup": "True",
         "bingroup": "x",
         "hovertemplate": "fraud_reported=Y<br>number_of_vehicles_involved=%{x}<br>count=%{y}<extra></extra>",
         "legendgroup": "Y",
         "marker": {
          "color": "#636efa",
          "pattern": {
           "shape": ""
          }
         },
         "name": "Y",
         "offsetgroup": "Y",
         "orientation": "v",
         "showlegend": true,
         "type": "histogram",
         "x": [
          1,
          1,
          1,
          3,
          1,
          4,
          3,
          1,
          3,
          1,
          3,
          1,
          1,
          1,
          1,
          3,
          3,
          3,
          3,
          3,
          1,
          2,
          1,
          1,
          2,
          3,
          1,
          1,
          4,
          3,
          1,
          3,
          1,
          3,
          3,
          1,
          1,
          1,
          3,
          1,
          1,
          1,
          3,
          1,
          1,
          3,
          3,
          1,
          1,
          1,
          1,
          1,
          1,
          3,
          1,
          1,
          3,
          1,
          3,
          1,
          1,
          1,
          3,
          3,
          1,
          1,
          3,
          2,
          3,
          1,
          3,
          1,
          3,
          1,
          3,
          3,
          4,
          1,
          3,
          1,
          1,
          1,
          3,
          4,
          1,
          1,
          3,
          3,
          3,
          1,
          2,
          3,
          1,
          3,
          3,
          1,
          1,
          1,
          3,
          1,
          3,
          3,
          3,
          1,
          1,
          1,
          1,
          3,
          3,
          1,
          4,
          3,
          1,
          3,
          4,
          3,
          1,
          1,
          1,
          1,
          1,
          1,
          3,
          1,
          1,
          1,
          1,
          1,
          1,
          3,
          3,
          3,
          1,
          2,
          3,
          3,
          1,
          1,
          1,
          1,
          3,
          1,
          1,
          3,
          1,
          3,
          1,
          1,
          3,
          1,
          2,
          1,
          1,
          1,
          1,
          1,
          2,
          1,
          1,
          1,
          2,
          1,
          1,
          3,
          1,
          3,
          3,
          3,
          3,
          1,
          3,
          4,
          1,
          1,
          3,
          2,
          4,
          3,
          3,
          1,
          1,
          3,
          1,
          1,
          3,
          1,
          3,
          1,
          1,
          1,
          1,
          3,
          3,
          4,
          3,
          3,
          3,
          3,
          3,
          3,
          1,
          1,
          1,
          1,
          1,
          1,
          1,
          1,
          3,
          3,
          1,
          3,
          3,
          3,
          1,
          1,
          1,
          3,
          3,
          3,
          1,
          3,
          1,
          1,
          3,
          3,
          3,
          3,
          1,
          3,
          1,
          1,
          1,
          4,
          4,
          1,
          3,
          1,
          1,
          1,
          1,
          1,
          3,
          3,
          3,
          1,
          1
         ],
         "xaxis": "x",
         "yaxis": "y"
        },
        {
         "alignmentgroup": "True",
         "bingroup": "x",
         "hovertemplate": "fraud_reported=N<br>number_of_vehicles_involved=%{x}<br>count=%{y}<extra></extra>",
         "legendgroup": "N",
         "marker": {
          "color": "#EF553B",
          "pattern": {
           "shape": ""
          }
         },
         "name": "N",
         "offsetgroup": "N",
         "orientation": "v",
         "showlegend": true,
         "type": "histogram",
         "x": [
          3,
          1,
          3,
          3,
          1,
          1,
          1,
          3,
          1,
          1,
          3,
          1,
          1,
          3,
          3,
          3,
          1,
          1,
          1,
          1,
          4,
          3,
          3,
          1,
          1,
          3,
          1,
          3,
          1,
          1,
          3,
          3,
          1,
          1,
          3,
          1,
          1,
          3,
          1,
          1,
          3,
          1,
          1,
          3,
          3,
          1,
          3,
          1,
          1,
          1,
          3,
          3,
          3,
          3,
          3,
          1,
          3,
          1,
          1,
          1,
          3,
          3,
          1,
          1,
          2,
          1,
          3,
          3,
          1,
          1,
          1,
          1,
          1,
          3,
          1,
          3,
          1,
          2,
          1,
          3,
          2,
          1,
          1,
          1,
          3,
          1,
          4,
          1,
          3,
          1,
          1,
          3,
          3,
          3,
          1,
          1,
          1,
          3,
          3,
          3,
          1,
          1,
          1,
          3,
          1,
          1,
          3,
          3,
          3,
          1,
          3,
          1,
          1,
          1,
          2,
          3,
          3,
          3,
          1,
          1,
          3,
          3,
          3,
          1,
          1,
          1,
          1,
          1,
          1,
          3,
          1,
          1,
          1,
          3,
          1,
          1,
          1,
          1,
          1,
          1,
          3,
          2,
          1,
          1,
          1,
          1,
          1,
          1,
          3,
          3,
          1,
          3,
          4,
          1,
          1,
          1,
          3,
          1,
          1,
          3,
          1,
          1,
          3,
          3,
          1,
          2,
          3,
          1,
          1,
          1,
          4,
          3,
          3,
          1,
          1,
          1,
          1,
          1,
          3,
          1,
          1,
          1,
          1,
          1,
          3,
          3,
          1,
          1,
          3,
          1,
          1,
          3,
          3,
          3,
          3,
          1,
          3,
          3,
          3,
          3,
          3,
          3,
          1,
          3,
          1,
          3,
          1,
          1,
          1,
          3,
          1,
          1,
          3,
          1,
          1,
          2,
          1,
          3,
          3,
          1,
          3,
          3,
          3,
          1,
          3,
          3,
          1,
          3,
          3,
          3,
          1,
          3,
          1,
          3,
          3,
          3,
          3,
          1,
          1,
          1,
          1,
          1,
          3,
          1,
          1,
          3,
          1,
          1,
          1,
          1,
          1,
          3,
          1,
          1,
          1,
          3,
          1,
          3,
          3,
          1,
          1,
          1,
          1,
          4,
          3,
          2,
          1,
          4,
          3,
          1,
          1,
          3,
          3,
          1,
          1,
          3,
          1,
          1,
          3,
          1,
          1,
          3,
          3,
          3,
          1,
          1,
          1,
          1,
          1,
          2,
          1,
          1,
          3,
          3,
          3,
          1,
          1,
          1,
          1,
          3,
          3,
          1,
          1,
          1,
          1,
          1,
          1,
          1,
          1,
          1,
          1,
          1,
          1,
          1,
          4,
          3,
          1,
          1,
          1,
          1,
          1,
          1,
          1,
          3,
          1,
          1,
          1,
          1,
          1,
          4,
          1,
          1,
          1,
          3,
          1,
          3,
          1,
          1,
          1,
          1,
          3,
          3,
          1,
          3,
          3,
          3,
          3,
          3,
          3,
          1,
          3,
          3,
          1,
          2,
          1,
          1,
          1,
          3,
          1,
          1,
          3,
          3,
          1,
          1,
          1,
          4,
          1,
          1,
          1,
          1,
          1,
          1,
          3,
          1,
          3,
          3,
          1,
          1,
          1,
          1,
          1,
          1,
          3,
          1,
          1,
          1,
          4,
          3,
          1,
          1,
          3,
          1,
          1,
          1,
          1,
          3,
          1,
          3,
          3,
          3,
          1,
          1,
          1,
          3,
          3,
          1,
          1,
          1,
          3,
          3,
          1,
          1,
          3,
          1,
          1,
          3,
          3,
          1,
          1,
          4,
          1,
          1,
          3,
          1,
          3,
          3,
          3,
          1,
          1,
          2,
          1,
          4,
          2,
          3,
          1,
          1,
          1,
          1,
          2,
          3,
          1,
          3,
          1,
          1,
          3,
          3,
          1,
          1,
          2,
          1,
          1,
          1,
          4,
          1,
          3,
          3,
          1,
          3,
          1,
          3,
          2,
          1,
          3,
          1,
          1,
          1,
          1,
          4,
          1,
          3,
          2,
          1,
          1,
          1,
          1,
          2,
          1,
          3,
          1,
          1,
          3,
          3,
          1,
          1,
          3,
          3,
          1,
          1,
          1,
          1,
          1,
          3,
          1,
          3,
          3,
          1,
          1,
          1,
          3,
          3,
          1,
          3,
          1,
          1,
          1,
          3,
          1,
          3,
          3,
          1,
          1,
          1,
          1,
          1,
          3,
          3,
          1,
          1,
          1,
          3,
          3,
          1,
          1,
          1,
          1,
          1,
          1,
          1,
          1,
          1,
          3,
          1,
          1,
          1,
          1,
          1,
          3,
          3,
          1,
          1,
          1,
          1,
          1,
          1,
          3,
          3,
          3,
          1,
          1,
          3,
          1,
          3,
          3,
          3,
          1,
          1,
          1,
          4,
          3,
          3,
          3,
          1,
          1,
          1,
          1,
          3,
          3,
          1,
          3,
          3,
          1,
          3,
          3,
          1,
          1,
          3,
          4,
          1,
          1,
          3,
          3,
          3,
          1,
          1,
          1,
          1,
          4,
          3,
          1,
          1,
          3,
          1,
          3,
          3,
          1,
          1,
          1,
          1,
          3,
          1,
          1,
          1,
          1,
          3,
          1,
          3,
          1,
          1,
          3,
          1,
          4,
          1,
          1,
          1,
          3,
          1,
          1,
          1,
          1,
          3,
          3,
          1,
          1,
          4,
          1,
          1,
          1,
          1,
          1,
          3,
          1,
          3,
          1,
          3,
          1,
          3,
          3,
          1,
          3,
          3,
          3,
          1,
          3,
          3,
          3,
          3,
          1,
          3,
          1,
          1,
          2,
          1,
          1,
          1,
          1,
          1,
          3,
          1,
          1,
          1,
          3,
          1,
          1,
          1,
          3,
          1,
          2,
          1,
          1,
          1,
          1,
          3,
          1,
          1,
          1,
          1,
          3,
          1,
          3,
          3,
          3,
          1,
          3,
          1,
          2,
          1,
          4,
          1,
          1,
          3,
          1,
          3,
          1,
          1,
          3,
          1,
          1,
          3,
          3,
          3,
          3,
          1,
          1,
          1,
          3,
          1,
          3,
          1,
          3,
          1,
          1,
          3,
          1,
          1,
          3,
          1,
          1,
          1,
          3,
          1,
          3,
          1,
          3,
          1,
          1,
          1,
          1,
          3,
          3,
          1,
          1,
          1,
          2,
          3,
          1,
          1,
          1,
          3,
          1,
          1,
          1,
          1,
          3,
          1,
          1,
          3,
          3,
          1,
          1,
          1,
          3,
          1,
          1
         ],
         "xaxis": "x",
         "yaxis": "y"
        }
       ],
       "layout": {
        "barmode": "relative",
        "legend": {
         "title": {
          "text": "fraud_reported"
         },
         "tracegroupgap": 0
        },
        "margin": {
         "t": 60
        },
        "template": {
         "data": {
          "bar": [
           {
            "error_x": {
             "color": "#2a3f5f"
            },
            "error_y": {
             "color": "#2a3f5f"
            },
            "marker": {
             "line": {
              "color": "#E5ECF6",
              "width": 0.5
             },
             "pattern": {
              "fillmode": "overlay",
              "size": 10,
              "solidity": 0.2
             }
            },
            "type": "bar"
           }
          ],
          "barpolar": [
           {
            "marker": {
             "line": {
              "color": "#E5ECF6",
              "width": 0.5
             },
             "pattern": {
              "fillmode": "overlay",
              "size": 10,
              "solidity": 0.2
             }
            },
            "type": "barpolar"
           }
          ],
          "carpet": [
           {
            "aaxis": {
             "endlinecolor": "#2a3f5f",
             "gridcolor": "white",
             "linecolor": "white",
             "minorgridcolor": "white",
             "startlinecolor": "#2a3f5f"
            },
            "baxis": {
             "endlinecolor": "#2a3f5f",
             "gridcolor": "white",
             "linecolor": "white",
             "minorgridcolor": "white",
             "startlinecolor": "#2a3f5f"
            },
            "type": "carpet"
           }
          ],
          "choropleth": [
           {
            "colorbar": {
             "outlinewidth": 0,
             "ticks": ""
            },
            "type": "choropleth"
           }
          ],
          "contour": [
           {
            "colorbar": {
             "outlinewidth": 0,
             "ticks": ""
            },
            "colorscale": [
             [
              0,
              "#0d0887"
             ],
             [
              0.1111111111111111,
              "#46039f"
             ],
             [
              0.2222222222222222,
              "#7201a8"
             ],
             [
              0.3333333333333333,
              "#9c179e"
             ],
             [
              0.4444444444444444,
              "#bd3786"
             ],
             [
              0.5555555555555556,
              "#d8576b"
             ],
             [
              0.6666666666666666,
              "#ed7953"
             ],
             [
              0.7777777777777778,
              "#fb9f3a"
             ],
             [
              0.8888888888888888,
              "#fdca26"
             ],
             [
              1,
              "#f0f921"
             ]
            ],
            "type": "contour"
           }
          ],
          "contourcarpet": [
           {
            "colorbar": {
             "outlinewidth": 0,
             "ticks": ""
            },
            "type": "contourcarpet"
           }
          ],
          "heatmap": [
           {
            "colorbar": {
             "outlinewidth": 0,
             "ticks": ""
            },
            "colorscale": [
             [
              0,
              "#0d0887"
             ],
             [
              0.1111111111111111,
              "#46039f"
             ],
             [
              0.2222222222222222,
              "#7201a8"
             ],
             [
              0.3333333333333333,
              "#9c179e"
             ],
             [
              0.4444444444444444,
              "#bd3786"
             ],
             [
              0.5555555555555556,
              "#d8576b"
             ],
             [
              0.6666666666666666,
              "#ed7953"
             ],
             [
              0.7777777777777778,
              "#fb9f3a"
             ],
             [
              0.8888888888888888,
              "#fdca26"
             ],
             [
              1,
              "#f0f921"
             ]
            ],
            "type": "heatmap"
           }
          ],
          "heatmapgl": [
           {
            "colorbar": {
             "outlinewidth": 0,
             "ticks": ""
            },
            "colorscale": [
             [
              0,
              "#0d0887"
             ],
             [
              0.1111111111111111,
              "#46039f"
             ],
             [
              0.2222222222222222,
              "#7201a8"
             ],
             [
              0.3333333333333333,
              "#9c179e"
             ],
             [
              0.4444444444444444,
              "#bd3786"
             ],
             [
              0.5555555555555556,
              "#d8576b"
             ],
             [
              0.6666666666666666,
              "#ed7953"
             ],
             [
              0.7777777777777778,
              "#fb9f3a"
             ],
             [
              0.8888888888888888,
              "#fdca26"
             ],
             [
              1,
              "#f0f921"
             ]
            ],
            "type": "heatmapgl"
           }
          ],
          "histogram": [
           {
            "marker": {
             "pattern": {
              "fillmode": "overlay",
              "size": 10,
              "solidity": 0.2
             }
            },
            "type": "histogram"
           }
          ],
          "histogram2d": [
           {
            "colorbar": {
             "outlinewidth": 0,
             "ticks": ""
            },
            "colorscale": [
             [
              0,
              "#0d0887"
             ],
             [
              0.1111111111111111,
              "#46039f"
             ],
             [
              0.2222222222222222,
              "#7201a8"
             ],
             [
              0.3333333333333333,
              "#9c179e"
             ],
             [
              0.4444444444444444,
              "#bd3786"
             ],
             [
              0.5555555555555556,
              "#d8576b"
             ],
             [
              0.6666666666666666,
              "#ed7953"
             ],
             [
              0.7777777777777778,
              "#fb9f3a"
             ],
             [
              0.8888888888888888,
              "#fdca26"
             ],
             [
              1,
              "#f0f921"
             ]
            ],
            "type": "histogram2d"
           }
          ],
          "histogram2dcontour": [
           {
            "colorbar": {
             "outlinewidth": 0,
             "ticks": ""
            },
            "colorscale": [
             [
              0,
              "#0d0887"
             ],
             [
              0.1111111111111111,
              "#46039f"
             ],
             [
              0.2222222222222222,
              "#7201a8"
             ],
             [
              0.3333333333333333,
              "#9c179e"
             ],
             [
              0.4444444444444444,
              "#bd3786"
             ],
             [
              0.5555555555555556,
              "#d8576b"
             ],
             [
              0.6666666666666666,
              "#ed7953"
             ],
             [
              0.7777777777777778,
              "#fb9f3a"
             ],
             [
              0.8888888888888888,
              "#fdca26"
             ],
             [
              1,
              "#f0f921"
             ]
            ],
            "type": "histogram2dcontour"
           }
          ],
          "mesh3d": [
           {
            "colorbar": {
             "outlinewidth": 0,
             "ticks": ""
            },
            "type": "mesh3d"
           }
          ],
          "parcoords": [
           {
            "line": {
             "colorbar": {
              "outlinewidth": 0,
              "ticks": ""
             }
            },
            "type": "parcoords"
           }
          ],
          "pie": [
           {
            "automargin": true,
            "type": "pie"
           }
          ],
          "scatter": [
           {
            "fillpattern": {
             "fillmode": "overlay",
             "size": 10,
             "solidity": 0.2
            },
            "type": "scatter"
           }
          ],
          "scatter3d": [
           {
            "line": {
             "colorbar": {
              "outlinewidth": 0,
              "ticks": ""
             }
            },
            "marker": {
             "colorbar": {
              "outlinewidth": 0,
              "ticks": ""
             }
            },
            "type": "scatter3d"
           }
          ],
          "scattercarpet": [
           {
            "marker": {
             "colorbar": {
              "outlinewidth": 0,
              "ticks": ""
             }
            },
            "type": "scattercarpet"
           }
          ],
          "scattergeo": [
           {
            "marker": {
             "colorbar": {
              "outlinewidth": 0,
              "ticks": ""
             }
            },
            "type": "scattergeo"
           }
          ],
          "scattergl": [
           {
            "marker": {
             "colorbar": {
              "outlinewidth": 0,
              "ticks": ""
             }
            },
            "type": "scattergl"
           }
          ],
          "scattermapbox": [
           {
            "marker": {
             "colorbar": {
              "outlinewidth": 0,
              "ticks": ""
             }
            },
            "type": "scattermapbox"
           }
          ],
          "scatterpolar": [
           {
            "marker": {
             "colorbar": {
              "outlinewidth": 0,
              "ticks": ""
             }
            },
            "type": "scatterpolar"
           }
          ],
          "scatterpolargl": [
           {
            "marker": {
             "colorbar": {
              "outlinewidth": 0,
              "ticks": ""
             }
            },
            "type": "scatterpolargl"
           }
          ],
          "scatterternary": [
           {
            "marker": {
             "colorbar": {
              "outlinewidth": 0,
              "ticks": ""
             }
            },
            "type": "scatterternary"
           }
          ],
          "surface": [
           {
            "colorbar": {
             "outlinewidth": 0,
             "ticks": ""
            },
            "colorscale": [
             [
              0,
              "#0d0887"
             ],
             [
              0.1111111111111111,
              "#46039f"
             ],
             [
              0.2222222222222222,
              "#7201a8"
             ],
             [
              0.3333333333333333,
              "#9c179e"
             ],
             [
              0.4444444444444444,
              "#bd3786"
             ],
             [
              0.5555555555555556,
              "#d8576b"
             ],
             [
              0.6666666666666666,
              "#ed7953"
             ],
             [
              0.7777777777777778,
              "#fb9f3a"
             ],
             [
              0.8888888888888888,
              "#fdca26"
             ],
             [
              1,
              "#f0f921"
             ]
            ],
            "type": "surface"
           }
          ],
          "table": [
           {
            "cells": {
             "fill": {
              "color": "#EBF0F8"
             },
             "line": {
              "color": "white"
             }
            },
            "header": {
             "fill": {
              "color": "#C8D4E3"
             },
             "line": {
              "color": "white"
             }
            },
            "type": "table"
           }
          ]
         },
         "layout": {
          "annotationdefaults": {
           "arrowcolor": "#2a3f5f",
           "arrowhead": 0,
           "arrowwidth": 1
          },
          "autotypenumbers": "strict",
          "coloraxis": {
           "colorbar": {
            "outlinewidth": 0,
            "ticks": ""
           }
          },
          "colorscale": {
           "diverging": [
            [
             0,
             "#8e0152"
            ],
            [
             0.1,
             "#c51b7d"
            ],
            [
             0.2,
             "#de77ae"
            ],
            [
             0.3,
             "#f1b6da"
            ],
            [
             0.4,
             "#fde0ef"
            ],
            [
             0.5,
             "#f7f7f7"
            ],
            [
             0.6,
             "#e6f5d0"
            ],
            [
             0.7,
             "#b8e186"
            ],
            [
             0.8,
             "#7fbc41"
            ],
            [
             0.9,
             "#4d9221"
            ],
            [
             1,
             "#276419"
            ]
           ],
           "sequential": [
            [
             0,
             "#0d0887"
            ],
            [
             0.1111111111111111,
             "#46039f"
            ],
            [
             0.2222222222222222,
             "#7201a8"
            ],
            [
             0.3333333333333333,
             "#9c179e"
            ],
            [
             0.4444444444444444,
             "#bd3786"
            ],
            [
             0.5555555555555556,
             "#d8576b"
            ],
            [
             0.6666666666666666,
             "#ed7953"
            ],
            [
             0.7777777777777778,
             "#fb9f3a"
            ],
            [
             0.8888888888888888,
             "#fdca26"
            ],
            [
             1,
             "#f0f921"
            ]
           ],
           "sequentialminus": [
            [
             0,
             "#0d0887"
            ],
            [
             0.1111111111111111,
             "#46039f"
            ],
            [
             0.2222222222222222,
             "#7201a8"
            ],
            [
             0.3333333333333333,
             "#9c179e"
            ],
            [
             0.4444444444444444,
             "#bd3786"
            ],
            [
             0.5555555555555556,
             "#d8576b"
            ],
            [
             0.6666666666666666,
             "#ed7953"
            ],
            [
             0.7777777777777778,
             "#fb9f3a"
            ],
            [
             0.8888888888888888,
             "#fdca26"
            ],
            [
             1,
             "#f0f921"
            ]
           ]
          },
          "colorway": [
           "#636efa",
           "#EF553B",
           "#00cc96",
           "#ab63fa",
           "#FFA15A",
           "#19d3f3",
           "#FF6692",
           "#B6E880",
           "#FF97FF",
           "#FECB52"
          ],
          "font": {
           "color": "#2a3f5f"
          },
          "geo": {
           "bgcolor": "white",
           "lakecolor": "white",
           "landcolor": "#E5ECF6",
           "showlakes": true,
           "showland": true,
           "subunitcolor": "white"
          },
          "hoverlabel": {
           "align": "left"
          },
          "hovermode": "closest",
          "mapbox": {
           "style": "light"
          },
          "paper_bgcolor": "white",
          "plot_bgcolor": "#E5ECF6",
          "polar": {
           "angularaxis": {
            "gridcolor": "white",
            "linecolor": "white",
            "ticks": ""
           },
           "bgcolor": "#E5ECF6",
           "radialaxis": {
            "gridcolor": "white",
            "linecolor": "white",
            "ticks": ""
           }
          },
          "scene": {
           "xaxis": {
            "backgroundcolor": "#E5ECF6",
            "gridcolor": "white",
            "gridwidth": 2,
            "linecolor": "white",
            "showbackground": true,
            "ticks": "",
            "zerolinecolor": "white"
           },
           "yaxis": {
            "backgroundcolor": "#E5ECF6",
            "gridcolor": "white",
            "gridwidth": 2,
            "linecolor": "white",
            "showbackground": true,
            "ticks": "",
            "zerolinecolor": "white"
           },
           "zaxis": {
            "backgroundcolor": "#E5ECF6",
            "gridcolor": "white",
            "gridwidth": 2,
            "linecolor": "white",
            "showbackground": true,
            "ticks": "",
            "zerolinecolor": "white"
           }
          },
          "shapedefaults": {
           "line": {
            "color": "#2a3f5f"
           }
          },
          "ternary": {
           "aaxis": {
            "gridcolor": "white",
            "linecolor": "white",
            "ticks": ""
           },
           "baxis": {
            "gridcolor": "white",
            "linecolor": "white",
            "ticks": ""
           },
           "bgcolor": "#E5ECF6",
           "caxis": {
            "gridcolor": "white",
            "linecolor": "white",
            "ticks": ""
           }
          },
          "title": {
           "x": 0.05
          },
          "xaxis": {
           "automargin": true,
           "gridcolor": "white",
           "linecolor": "white",
           "ticks": "",
           "title": {
            "standoff": 15
           },
           "zerolinecolor": "white",
           "zerolinewidth": 2
          },
          "yaxis": {
           "automargin": true,
           "gridcolor": "white",
           "linecolor": "white",
           "ticks": "",
           "title": {
            "standoff": 15
           },
           "zerolinecolor": "white",
           "zerolinewidth": 2
          }
         }
        },
        "xaxis": {
         "anchor": "y",
         "domain": [
          0,
          1
         ],
         "title": {
          "text": "number_of_vehicles_involved"
         }
        },
        "yaxis": {
         "anchor": "x",
         "domain": [
          0,
          1
         ],
         "title": {
          "text": "count"
         }
        }
       }
      }
     },
     "metadata": {},
     "output_type": "display_data"
    }
   ],
   "source": [
    "fig = px.histogram(df,x=\"number_of_vehicles_involved\",color='fraud_reported')\n",
    "fig.show()\n"
   ]
  },
  {
   "cell_type": "code",
   "execution_count": 508,
   "metadata": {},
   "outputs": [
    {
     "name": "stderr",
     "output_type": "stream",
     "text": [
      "/var/folders/qc/wbl1sccd3yn5ndpj0nb5bp7w0000gn/T/ipykernel_19137/2107298151.py:9: FutureWarning:\n",
      "\n",
      "The default of observed=False is deprecated and will be changed to True in a future version of pandas. Pass observed=False to retain current behavior or observed=True to adopt the future default and silence this warning.\n",
      "\n",
      "/var/folders/qc/wbl1sccd3yn5ndpj0nb5bp7w0000gn/T/ipykernel_19137/2107298151.py:13: FutureWarning:\n",
      "\n",
      "The default of observed=False is deprecated and will be changed to True in a future version of pandas. Pass observed=False to retain current behavior or observed=True to adopt the future default and silence this warning.\n",
      "\n"
     ]
    },
    {
     "data": {
      "application/vnd.plotly.v1+json": {
       "config": {
        "plotlyServerURL": "https://plot.ly"
       },
       "data": [
        {
         "alignmentgroup": "True",
         "customdata": [
          [
           0,
           "Non-Fraud"
          ],
          [
           74.68,
           "Non-Fraud"
          ],
          [
           76,
           "Non-Fraud"
          ],
          [
           77.04,
           "Non-Fraud"
          ],
          [
           71,
           "Non-Fraud"
          ],
          [
           66.67,
           "Non-Fraud"
          ],
          [
           null,
           "Non-Fraud"
          ],
          [
           null,
           "Non-Fraud"
          ]
         ],
         "hovertemplate": "สถานะ=%{customdata[1]}<br>ช่วงอายุ=%{x}<br>จำนวน=%{y}<br>เปอร์เซ็นต์=%{customdata[0]}<extra></extra>",
         "legendgroup": "Non-Fraud",
         "marker": {
          "color": "#636efa",
          "pattern": {
           "shape": ""
          }
         },
         "name": "Non-Fraud",
         "offsetgroup": "Non-Fraud",
         "orientation": "v",
         "showlegend": true,
         "textposition": "auto",
         "type": "bar",
         "x": [
          "<20",
          "20–29",
          "30–39",
          "40–49",
          "50–59",
          "60–69",
          "70–79",
          "80+"
         ],
         "xaxis": "x",
         "y": [
          0,
          115,
          304,
          245,
          71,
          18,
          0,
          0
         ],
         "yaxis": "y"
        },
        {
         "alignmentgroup": "True",
         "customdata": [
          [
           100,
           "Fraud"
          ],
          [
           25.32,
           "Fraud"
          ],
          [
           24,
           "Fraud"
          ],
          [
           22.96,
           "Fraud"
          ],
          [
           29,
           "Fraud"
          ],
          [
           33.33,
           "Fraud"
          ],
          [
           null,
           "Fraud"
          ],
          [
           null,
           "Fraud"
          ]
         ],
         "hovertemplate": "สถานะ=%{customdata[1]}<br>ช่วงอายุ=%{x}<br>จำนวน=%{y}<br>เปอร์เซ็นต์=%{customdata[0]}<extra></extra>",
         "legendgroup": "Fraud",
         "marker": {
          "color": "#EF553B",
          "pattern": {
           "shape": ""
          }
         },
         "name": "Fraud",
         "offsetgroup": "Fraud",
         "orientation": "v",
         "showlegend": true,
         "textposition": "auto",
         "type": "bar",
         "x": [
          "<20",
          "20–29",
          "30–39",
          "40–49",
          "50–59",
          "60–69",
          "70–79",
          "80+"
         ],
         "xaxis": "x",
         "y": [
          1,
          39,
          96,
          73,
          29,
          9,
          0,
          0
         ],
         "yaxis": "y"
        }
       ],
       "layout": {
        "barmode": "stack",
        "legend": {
         "title": {
          "text": "สถานะ"
         },
         "tracegroupgap": 0
        },
        "template": {
         "data": {
          "bar": [
           {
            "error_x": {
             "color": "#2a3f5f"
            },
            "error_y": {
             "color": "#2a3f5f"
            },
            "marker": {
             "line": {
              "color": "#E5ECF6",
              "width": 0.5
             },
             "pattern": {
              "fillmode": "overlay",
              "size": 10,
              "solidity": 0.2
             }
            },
            "type": "bar"
           }
          ],
          "barpolar": [
           {
            "marker": {
             "line": {
              "color": "#E5ECF6",
              "width": 0.5
             },
             "pattern": {
              "fillmode": "overlay",
              "size": 10,
              "solidity": 0.2
             }
            },
            "type": "barpolar"
           }
          ],
          "carpet": [
           {
            "aaxis": {
             "endlinecolor": "#2a3f5f",
             "gridcolor": "white",
             "linecolor": "white",
             "minorgridcolor": "white",
             "startlinecolor": "#2a3f5f"
            },
            "baxis": {
             "endlinecolor": "#2a3f5f",
             "gridcolor": "white",
             "linecolor": "white",
             "minorgridcolor": "white",
             "startlinecolor": "#2a3f5f"
            },
            "type": "carpet"
           }
          ],
          "choropleth": [
           {
            "colorbar": {
             "outlinewidth": 0,
             "ticks": ""
            },
            "type": "choropleth"
           }
          ],
          "contour": [
           {
            "colorbar": {
             "outlinewidth": 0,
             "ticks": ""
            },
            "colorscale": [
             [
              0,
              "#0d0887"
             ],
             [
              0.1111111111111111,
              "#46039f"
             ],
             [
              0.2222222222222222,
              "#7201a8"
             ],
             [
              0.3333333333333333,
              "#9c179e"
             ],
             [
              0.4444444444444444,
              "#bd3786"
             ],
             [
              0.5555555555555556,
              "#d8576b"
             ],
             [
              0.6666666666666666,
              "#ed7953"
             ],
             [
              0.7777777777777778,
              "#fb9f3a"
             ],
             [
              0.8888888888888888,
              "#fdca26"
             ],
             [
              1,
              "#f0f921"
             ]
            ],
            "type": "contour"
           }
          ],
          "contourcarpet": [
           {
            "colorbar": {
             "outlinewidth": 0,
             "ticks": ""
            },
            "type": "contourcarpet"
           }
          ],
          "heatmap": [
           {
            "colorbar": {
             "outlinewidth": 0,
             "ticks": ""
            },
            "colorscale": [
             [
              0,
              "#0d0887"
             ],
             [
              0.1111111111111111,
              "#46039f"
             ],
             [
              0.2222222222222222,
              "#7201a8"
             ],
             [
              0.3333333333333333,
              "#9c179e"
             ],
             [
              0.4444444444444444,
              "#bd3786"
             ],
             [
              0.5555555555555556,
              "#d8576b"
             ],
             [
              0.6666666666666666,
              "#ed7953"
             ],
             [
              0.7777777777777778,
              "#fb9f3a"
             ],
             [
              0.8888888888888888,
              "#fdca26"
             ],
             [
              1,
              "#f0f921"
             ]
            ],
            "type": "heatmap"
           }
          ],
          "heatmapgl": [
           {
            "colorbar": {
             "outlinewidth": 0,
             "ticks": ""
            },
            "colorscale": [
             [
              0,
              "#0d0887"
             ],
             [
              0.1111111111111111,
              "#46039f"
             ],
             [
              0.2222222222222222,
              "#7201a8"
             ],
             [
              0.3333333333333333,
              "#9c179e"
             ],
             [
              0.4444444444444444,
              "#bd3786"
             ],
             [
              0.5555555555555556,
              "#d8576b"
             ],
             [
              0.6666666666666666,
              "#ed7953"
             ],
             [
              0.7777777777777778,
              "#fb9f3a"
             ],
             [
              0.8888888888888888,
              "#fdca26"
             ],
             [
              1,
              "#f0f921"
             ]
            ],
            "type": "heatmapgl"
           }
          ],
          "histogram": [
           {
            "marker": {
             "pattern": {
              "fillmode": "overlay",
              "size": 10,
              "solidity": 0.2
             }
            },
            "type": "histogram"
           }
          ],
          "histogram2d": [
           {
            "colorbar": {
             "outlinewidth": 0,
             "ticks": ""
            },
            "colorscale": [
             [
              0,
              "#0d0887"
             ],
             [
              0.1111111111111111,
              "#46039f"
             ],
             [
              0.2222222222222222,
              "#7201a8"
             ],
             [
              0.3333333333333333,
              "#9c179e"
             ],
             [
              0.4444444444444444,
              "#bd3786"
             ],
             [
              0.5555555555555556,
              "#d8576b"
             ],
             [
              0.6666666666666666,
              "#ed7953"
             ],
             [
              0.7777777777777778,
              "#fb9f3a"
             ],
             [
              0.8888888888888888,
              "#fdca26"
             ],
             [
              1,
              "#f0f921"
             ]
            ],
            "type": "histogram2d"
           }
          ],
          "histogram2dcontour": [
           {
            "colorbar": {
             "outlinewidth": 0,
             "ticks": ""
            },
            "colorscale": [
             [
              0,
              "#0d0887"
             ],
             [
              0.1111111111111111,
              "#46039f"
             ],
             [
              0.2222222222222222,
              "#7201a8"
             ],
             [
              0.3333333333333333,
              "#9c179e"
             ],
             [
              0.4444444444444444,
              "#bd3786"
             ],
             [
              0.5555555555555556,
              "#d8576b"
             ],
             [
              0.6666666666666666,
              "#ed7953"
             ],
             [
              0.7777777777777778,
              "#fb9f3a"
             ],
             [
              0.8888888888888888,
              "#fdca26"
             ],
             [
              1,
              "#f0f921"
             ]
            ],
            "type": "histogram2dcontour"
           }
          ],
          "mesh3d": [
           {
            "colorbar": {
             "outlinewidth": 0,
             "ticks": ""
            },
            "type": "mesh3d"
           }
          ],
          "parcoords": [
           {
            "line": {
             "colorbar": {
              "outlinewidth": 0,
              "ticks": ""
             }
            },
            "type": "parcoords"
           }
          ],
          "pie": [
           {
            "automargin": true,
            "type": "pie"
           }
          ],
          "scatter": [
           {
            "fillpattern": {
             "fillmode": "overlay",
             "size": 10,
             "solidity": 0.2
            },
            "type": "scatter"
           }
          ],
          "scatter3d": [
           {
            "line": {
             "colorbar": {
              "outlinewidth": 0,
              "ticks": ""
             }
            },
            "marker": {
             "colorbar": {
              "outlinewidth": 0,
              "ticks": ""
             }
            },
            "type": "scatter3d"
           }
          ],
          "scattercarpet": [
           {
            "marker": {
             "colorbar": {
              "outlinewidth": 0,
              "ticks": ""
             }
            },
            "type": "scattercarpet"
           }
          ],
          "scattergeo": [
           {
            "marker": {
             "colorbar": {
              "outlinewidth": 0,
              "ticks": ""
             }
            },
            "type": "scattergeo"
           }
          ],
          "scattergl": [
           {
            "marker": {
             "colorbar": {
              "outlinewidth": 0,
              "ticks": ""
             }
            },
            "type": "scattergl"
           }
          ],
          "scattermapbox": [
           {
            "marker": {
             "colorbar": {
              "outlinewidth": 0,
              "ticks": ""
             }
            },
            "type": "scattermapbox"
           }
          ],
          "scatterpolar": [
           {
            "marker": {
             "colorbar": {
              "outlinewidth": 0,
              "ticks": ""
             }
            },
            "type": "scatterpolar"
           }
          ],
          "scatterpolargl": [
           {
            "marker": {
             "colorbar": {
              "outlinewidth": 0,
              "ticks": ""
             }
            },
            "type": "scatterpolargl"
           }
          ],
          "scatterternary": [
           {
            "marker": {
             "colorbar": {
              "outlinewidth": 0,
              "ticks": ""
             }
            },
            "type": "scatterternary"
           }
          ],
          "surface": [
           {
            "colorbar": {
             "outlinewidth": 0,
             "ticks": ""
            },
            "colorscale": [
             [
              0,
              "#0d0887"
             ],
             [
              0.1111111111111111,
              "#46039f"
             ],
             [
              0.2222222222222222,
              "#7201a8"
             ],
             [
              0.3333333333333333,
              "#9c179e"
             ],
             [
              0.4444444444444444,
              "#bd3786"
             ],
             [
              0.5555555555555556,
              "#d8576b"
             ],
             [
              0.6666666666666666,
              "#ed7953"
             ],
             [
              0.7777777777777778,
              "#fb9f3a"
             ],
             [
              0.8888888888888888,
              "#fdca26"
             ],
             [
              1,
              "#f0f921"
             ]
            ],
            "type": "surface"
           }
          ],
          "table": [
           {
            "cells": {
             "fill": {
              "color": "#EBF0F8"
             },
             "line": {
              "color": "white"
             }
            },
            "header": {
             "fill": {
              "color": "#C8D4E3"
             },
             "line": {
              "color": "white"
             }
            },
            "type": "table"
           }
          ]
         },
         "layout": {
          "annotationdefaults": {
           "arrowcolor": "#2a3f5f",
           "arrowhead": 0,
           "arrowwidth": 1
          },
          "autotypenumbers": "strict",
          "coloraxis": {
           "colorbar": {
            "outlinewidth": 0,
            "ticks": ""
           }
          },
          "colorscale": {
           "diverging": [
            [
             0,
             "#8e0152"
            ],
            [
             0.1,
             "#c51b7d"
            ],
            [
             0.2,
             "#de77ae"
            ],
            [
             0.3,
             "#f1b6da"
            ],
            [
             0.4,
             "#fde0ef"
            ],
            [
             0.5,
             "#f7f7f7"
            ],
            [
             0.6,
             "#e6f5d0"
            ],
            [
             0.7,
             "#b8e186"
            ],
            [
             0.8,
             "#7fbc41"
            ],
            [
             0.9,
             "#4d9221"
            ],
            [
             1,
             "#276419"
            ]
           ],
           "sequential": [
            [
             0,
             "#0d0887"
            ],
            [
             0.1111111111111111,
             "#46039f"
            ],
            [
             0.2222222222222222,
             "#7201a8"
            ],
            [
             0.3333333333333333,
             "#9c179e"
            ],
            [
             0.4444444444444444,
             "#bd3786"
            ],
            [
             0.5555555555555556,
             "#d8576b"
            ],
            [
             0.6666666666666666,
             "#ed7953"
            ],
            [
             0.7777777777777778,
             "#fb9f3a"
            ],
            [
             0.8888888888888888,
             "#fdca26"
            ],
            [
             1,
             "#f0f921"
            ]
           ],
           "sequentialminus": [
            [
             0,
             "#0d0887"
            ],
            [
             0.1111111111111111,
             "#46039f"
            ],
            [
             0.2222222222222222,
             "#7201a8"
            ],
            [
             0.3333333333333333,
             "#9c179e"
            ],
            [
             0.4444444444444444,
             "#bd3786"
            ],
            [
             0.5555555555555556,
             "#d8576b"
            ],
            [
             0.6666666666666666,
             "#ed7953"
            ],
            [
             0.7777777777777778,
             "#fb9f3a"
            ],
            [
             0.8888888888888888,
             "#fdca26"
            ],
            [
             1,
             "#f0f921"
            ]
           ]
          },
          "colorway": [
           "#636efa",
           "#EF553B",
           "#00cc96",
           "#ab63fa",
           "#FFA15A",
           "#19d3f3",
           "#FF6692",
           "#B6E880",
           "#FF97FF",
           "#FECB52"
          ],
          "font": {
           "color": "#2a3f5f"
          },
          "geo": {
           "bgcolor": "white",
           "lakecolor": "white",
           "landcolor": "#E5ECF6",
           "showlakes": true,
           "showland": true,
           "subunitcolor": "white"
          },
          "hoverlabel": {
           "align": "left"
          },
          "hovermode": "closest",
          "mapbox": {
           "style": "light"
          },
          "paper_bgcolor": "white",
          "plot_bgcolor": "#E5ECF6",
          "polar": {
           "angularaxis": {
            "gridcolor": "white",
            "linecolor": "white",
            "ticks": ""
           },
           "bgcolor": "#E5ECF6",
           "radialaxis": {
            "gridcolor": "white",
            "linecolor": "white",
            "ticks": ""
           }
          },
          "scene": {
           "xaxis": {
            "backgroundcolor": "#E5ECF6",
            "gridcolor": "white",
            "gridwidth": 2,
            "linecolor": "white",
            "showbackground": true,
            "ticks": "",
            "zerolinecolor": "white"
           },
           "yaxis": {
            "backgroundcolor": "#E5ECF6",
            "gridcolor": "white",
            "gridwidth": 2,
            "linecolor": "white",
            "showbackground": true,
            "ticks": "",
            "zerolinecolor": "white"
           },
           "zaxis": {
            "backgroundcolor": "#E5ECF6",
            "gridcolor": "white",
            "gridwidth": 2,
            "linecolor": "white",
            "showbackground": true,
            "ticks": "",
            "zerolinecolor": "white"
           }
          },
          "shapedefaults": {
           "line": {
            "color": "#2a3f5f"
           }
          },
          "ternary": {
           "aaxis": {
            "gridcolor": "white",
            "linecolor": "white",
            "ticks": ""
           },
           "baxis": {
            "gridcolor": "white",
            "linecolor": "white",
            "ticks": ""
           },
           "bgcolor": "#E5ECF6",
           "caxis": {
            "gridcolor": "white",
            "linecolor": "white",
            "ticks": ""
           }
          },
          "title": {
           "x": 0.05
          },
          "xaxis": {
           "automargin": true,
           "gridcolor": "white",
           "linecolor": "white",
           "ticks": "",
           "title": {
            "standoff": 15
           },
           "zerolinecolor": "white",
           "zerolinewidth": 2
          },
          "yaxis": {
           "automargin": true,
           "gridcolor": "white",
           "linecolor": "white",
           "ticks": "",
           "title": {
            "standoff": 15
           },
           "zerolinecolor": "white",
           "zerolinewidth": 2
          }
         }
        },
        "title": {
         "text": "จำนวน Fraud และ Non-Fraud แยกตามช่วงอายุ"
        },
        "xaxis": {
         "anchor": "y",
         "domain": [
          0,
          1
         ],
         "title": {
          "text": "ช่วงอายุ"
         }
        },
        "yaxis": {
         "anchor": "x",
         "domain": [
          0,
          1
         ],
         "title": {
          "text": "จำนวน"
         }
        }
       }
      }
     },
     "metadata": {},
     "output_type": "display_data"
    }
   ],
   "source": [
    "df_analysis = df.copy()\n",
    "# สร้างกลุ่มอายุ\n",
    "# สร้างกลุ่มอายุ\n",
    "bins = [0, 19, 29, 39, 49, 59, 69, 79, 100]\n",
    "labels = ['<20', '20–29', '30–39', '40–49', '50–59', '60–69', '70–79', '80+']\n",
    "df_analysis['age_group'] = pd.cut(df_analysis['age'], bins=bins, labels=labels, right=True)\n",
    "\n",
    "# สร้างตารางสรุป fraud กับ non-fraud ในแต่ละกลุ่มอายุ\n",
    "summary = df_analysis.groupby(['age_group', 'fraud_reported']).size().reset_index(name='count')\n",
    "\n",
    "# แปลงค่าความหมายของ is_fraud เป็นข้อความ\n",
    "summary['fraud_status'] = summary['fraud_reported'].map({\"N\": 'Non-Fraud', \"Y\": 'Fraud'})\n",
    "summary['total'] = summary.groupby('age_group')['count'].transform('sum')\n",
    "summary['percent'] = (summary['count'] / summary['total'] * 100).round(2)\n",
    "\n",
    "# สร้างกราฟ stacked bar\n",
    "fig = px.bar(summary, x='age_group', y='count', color='fraud_status',\n",
    "             title='จำนวน Fraud และ Non-Fraud แยกตามช่วงอายุ',\n",
    "             labels={'age_group': 'ช่วงอายุ', 'count': 'จำนวน', 'fraud_status': 'สถานะ', 'percent': \"เปอร์เซ็นต์\"},\n",
    "             barmode='stack',\n",
    "             hover_data={'percent': True, 'count': True, 'fraud_status': True, 'age_group': True}\n",
    ")\n",
    "fig.show()\n",
    "\n"
   ]
  },
  {
   "cell_type": "code",
   "execution_count": 509,
   "metadata": {},
   "outputs": [],
   "source": [
    "df_N = df[df[\"fraud_reported\"]==\"N\"]"
   ]
  },
  {
   "cell_type": "code",
   "execution_count": 510,
   "metadata": {},
   "outputs": [
    {
     "data": {
      "text/html": [
       "<div>\n",
       "<style scoped>\n",
       "    .dataframe tbody tr th:only-of-type {\n",
       "        vertical-align: middle;\n",
       "    }\n",
       "\n",
       "    .dataframe tbody tr th {\n",
       "        vertical-align: top;\n",
       "    }\n",
       "\n",
       "    .dataframe thead th {\n",
       "        text-align: right;\n",
       "    }\n",
       "</style>\n",
       "<table border=\"1\" class=\"dataframe\">\n",
       "  <thead>\n",
       "    <tr style=\"text-align: right;\">\n",
       "      <th></th>\n",
       "      <th>months_as_customer</th>\n",
       "      <th>age</th>\n",
       "      <th>policy_number</th>\n",
       "      <th>policy_bind_date</th>\n",
       "      <th>policy_state</th>\n",
       "      <th>policy_csl</th>\n",
       "      <th>policy_deductable</th>\n",
       "      <th>policy_annual_premium</th>\n",
       "      <th>umbrella_limit</th>\n",
       "      <th>insured_zip</th>\n",
       "      <th>...</th>\n",
       "      <th>witnesses</th>\n",
       "      <th>police_report_available</th>\n",
       "      <th>total_claim_amount</th>\n",
       "      <th>injury_claim</th>\n",
       "      <th>property_claim</th>\n",
       "      <th>vehicle_claim</th>\n",
       "      <th>auto_make</th>\n",
       "      <th>auto_model</th>\n",
       "      <th>auto_year</th>\n",
       "      <th>fraud_reported</th>\n",
       "    </tr>\n",
       "  </thead>\n",
       "  <tbody>\n",
       "    <tr>\n",
       "      <th>0</th>\n",
       "      <td>328</td>\n",
       "      <td>48</td>\n",
       "      <td>521585</td>\n",
       "      <td>2014-10-17</td>\n",
       "      <td>OH</td>\n",
       "      <td>250/500</td>\n",
       "      <td>1000</td>\n",
       "      <td>1406.91</td>\n",
       "      <td>0</td>\n",
       "      <td>466132</td>\n",
       "      <td>...</td>\n",
       "      <td>2</td>\n",
       "      <td>YES</td>\n",
       "      <td>71610</td>\n",
       "      <td>6510</td>\n",
       "      <td>13020</td>\n",
       "      <td>52080</td>\n",
       "      <td>Saab</td>\n",
       "      <td>92x</td>\n",
       "      <td>2004</td>\n",
       "      <td>Y</td>\n",
       "    </tr>\n",
       "    <tr>\n",
       "      <th>1</th>\n",
       "      <td>228</td>\n",
       "      <td>42</td>\n",
       "      <td>342868</td>\n",
       "      <td>2006-06-27</td>\n",
       "      <td>IN</td>\n",
       "      <td>250/500</td>\n",
       "      <td>2000</td>\n",
       "      <td>1197.22</td>\n",
       "      <td>5000000</td>\n",
       "      <td>468176</td>\n",
       "      <td>...</td>\n",
       "      <td>0</td>\n",
       "      <td>?</td>\n",
       "      <td>5070</td>\n",
       "      <td>780</td>\n",
       "      <td>780</td>\n",
       "      <td>3510</td>\n",
       "      <td>Mercedes</td>\n",
       "      <td>E400</td>\n",
       "      <td>2007</td>\n",
       "      <td>Y</td>\n",
       "    </tr>\n",
       "    <tr>\n",
       "      <th>3</th>\n",
       "      <td>256</td>\n",
       "      <td>41</td>\n",
       "      <td>227811</td>\n",
       "      <td>1990-05-25</td>\n",
       "      <td>IL</td>\n",
       "      <td>250/500</td>\n",
       "      <td>2000</td>\n",
       "      <td>1415.74</td>\n",
       "      <td>6000000</td>\n",
       "      <td>608117</td>\n",
       "      <td>...</td>\n",
       "      <td>2</td>\n",
       "      <td>NO</td>\n",
       "      <td>63400</td>\n",
       "      <td>6340</td>\n",
       "      <td>6340</td>\n",
       "      <td>50720</td>\n",
       "      <td>Chevrolet</td>\n",
       "      <td>Tahoe</td>\n",
       "      <td>2014</td>\n",
       "      <td>Y</td>\n",
       "    </tr>\n",
       "    <tr>\n",
       "      <th>5</th>\n",
       "      <td>256</td>\n",
       "      <td>39</td>\n",
       "      <td>104594</td>\n",
       "      <td>2006-10-12</td>\n",
       "      <td>OH</td>\n",
       "      <td>250/500</td>\n",
       "      <td>1000</td>\n",
       "      <td>1351.10</td>\n",
       "      <td>0</td>\n",
       "      <td>478456</td>\n",
       "      <td>...</td>\n",
       "      <td>2</td>\n",
       "      <td>NO</td>\n",
       "      <td>64100</td>\n",
       "      <td>6410</td>\n",
       "      <td>6410</td>\n",
       "      <td>51280</td>\n",
       "      <td>Saab</td>\n",
       "      <td>95</td>\n",
       "      <td>2003</td>\n",
       "      <td>Y</td>\n",
       "    </tr>\n",
       "    <tr>\n",
       "      <th>14</th>\n",
       "      <td>180</td>\n",
       "      <td>38</td>\n",
       "      <td>644081</td>\n",
       "      <td>1998-12-28</td>\n",
       "      <td>OH</td>\n",
       "      <td>250/500</td>\n",
       "      <td>2000</td>\n",
       "      <td>1301.13</td>\n",
       "      <td>0</td>\n",
       "      <td>476685</td>\n",
       "      <td>...</td>\n",
       "      <td>2</td>\n",
       "      <td>YES</td>\n",
       "      <td>46200</td>\n",
       "      <td>4200</td>\n",
       "      <td>8400</td>\n",
       "      <td>33600</td>\n",
       "      <td>Dodge</td>\n",
       "      <td>Neon</td>\n",
       "      <td>2003</td>\n",
       "      <td>Y</td>\n",
       "    </tr>\n",
       "    <tr>\n",
       "      <th>...</th>\n",
       "      <td>...</td>\n",
       "      <td>...</td>\n",
       "      <td>...</td>\n",
       "      <td>...</td>\n",
       "      <td>...</td>\n",
       "      <td>...</td>\n",
       "      <td>...</td>\n",
       "      <td>...</td>\n",
       "      <td>...</td>\n",
       "      <td>...</td>\n",
       "      <td>...</td>\n",
       "      <td>...</td>\n",
       "      <td>...</td>\n",
       "      <td>...</td>\n",
       "      <td>...</td>\n",
       "      <td>...</td>\n",
       "      <td>...</td>\n",
       "      <td>...</td>\n",
       "      <td>...</td>\n",
       "      <td>...</td>\n",
       "      <td>...</td>\n",
       "    </tr>\n",
       "    <tr>\n",
       "      <th>974</th>\n",
       "      <td>234</td>\n",
       "      <td>41</td>\n",
       "      <td>291006</td>\n",
       "      <td>1990-05-16</td>\n",
       "      <td>IN</td>\n",
       "      <td>100/300</td>\n",
       "      <td>500</td>\n",
       "      <td>951.56</td>\n",
       "      <td>0</td>\n",
       "      <td>455426</td>\n",
       "      <td>...</td>\n",
       "      <td>1</td>\n",
       "      <td>?</td>\n",
       "      <td>98280</td>\n",
       "      <td>15120</td>\n",
       "      <td>7560</td>\n",
       "      <td>75600</td>\n",
       "      <td>Chevrolet</td>\n",
       "      <td>Tahoe</td>\n",
       "      <td>2007</td>\n",
       "      <td>Y</td>\n",
       "    </tr>\n",
       "    <tr>\n",
       "      <th>977</th>\n",
       "      <td>266</td>\n",
       "      <td>42</td>\n",
       "      <td>929306</td>\n",
       "      <td>2003-03-06</td>\n",
       "      <td>IN</td>\n",
       "      <td>100/300</td>\n",
       "      <td>500</td>\n",
       "      <td>1093.83</td>\n",
       "      <td>4000000</td>\n",
       "      <td>468454</td>\n",
       "      <td>...</td>\n",
       "      <td>1</td>\n",
       "      <td>NO</td>\n",
       "      <td>53280</td>\n",
       "      <td>4440</td>\n",
       "      <td>8880</td>\n",
       "      <td>39960</td>\n",
       "      <td>Suburu</td>\n",
       "      <td>Impreza</td>\n",
       "      <td>2015</td>\n",
       "      <td>Y</td>\n",
       "    </tr>\n",
       "    <tr>\n",
       "      <th>982</th>\n",
       "      <td>230</td>\n",
       "      <td>43</td>\n",
       "      <td>490514</td>\n",
       "      <td>2007-02-09</td>\n",
       "      <td>IN</td>\n",
       "      <td>500/1000</td>\n",
       "      <td>2000</td>\n",
       "      <td>1101.83</td>\n",
       "      <td>0</td>\n",
       "      <td>451529</td>\n",
       "      <td>...</td>\n",
       "      <td>3</td>\n",
       "      <td>YES</td>\n",
       "      <td>51900</td>\n",
       "      <td>5190</td>\n",
       "      <td>10380</td>\n",
       "      <td>36330</td>\n",
       "      <td>BMW</td>\n",
       "      <td>M5</td>\n",
       "      <td>2011</td>\n",
       "      <td>Y</td>\n",
       "    </tr>\n",
       "    <tr>\n",
       "      <th>986</th>\n",
       "      <td>232</td>\n",
       "      <td>42</td>\n",
       "      <td>182953</td>\n",
       "      <td>2013-04-30</td>\n",
       "      <td>IN</td>\n",
       "      <td>100/300</td>\n",
       "      <td>500</td>\n",
       "      <td>944.03</td>\n",
       "      <td>0</td>\n",
       "      <td>440153</td>\n",
       "      <td>...</td>\n",
       "      <td>3</td>\n",
       "      <td>?</td>\n",
       "      <td>77000</td>\n",
       "      <td>15400</td>\n",
       "      <td>7700</td>\n",
       "      <td>53900</td>\n",
       "      <td>Toyota</td>\n",
       "      <td>Highlander</td>\n",
       "      <td>2015</td>\n",
       "      <td>Y</td>\n",
       "    </tr>\n",
       "    <tr>\n",
       "      <th>987</th>\n",
       "      <td>235</td>\n",
       "      <td>39</td>\n",
       "      <td>836349</td>\n",
       "      <td>2013-05-01</td>\n",
       "      <td>IL</td>\n",
       "      <td>500/1000</td>\n",
       "      <td>2000</td>\n",
       "      <td>1453.61</td>\n",
       "      <td>4000000</td>\n",
       "      <td>619570</td>\n",
       "      <td>...</td>\n",
       "      <td>3</td>\n",
       "      <td>?</td>\n",
       "      <td>60320</td>\n",
       "      <td>9280</td>\n",
       "      <td>9280</td>\n",
       "      <td>41760</td>\n",
       "      <td>Chevrolet</td>\n",
       "      <td>Tahoe</td>\n",
       "      <td>2012</td>\n",
       "      <td>Y</td>\n",
       "    </tr>\n",
       "  </tbody>\n",
       "</table>\n",
       "<p>247 rows × 39 columns</p>\n",
       "</div>"
      ],
      "text/plain": [
       "     months_as_customer  age  policy_number policy_bind_date policy_state  \\\n",
       "0                   328   48         521585       2014-10-17           OH   \n",
       "1                   228   42         342868       2006-06-27           IN   \n",
       "3                   256   41         227811       1990-05-25           IL   \n",
       "5                   256   39         104594       2006-10-12           OH   \n",
       "14                  180   38         644081       1998-12-28           OH   \n",
       "..                  ...  ...            ...              ...          ...   \n",
       "974                 234   41         291006       1990-05-16           IN   \n",
       "977                 266   42         929306       2003-03-06           IN   \n",
       "982                 230   43         490514       2007-02-09           IN   \n",
       "986                 232   42         182953       2013-04-30           IN   \n",
       "987                 235   39         836349       2013-05-01           IL   \n",
       "\n",
       "    policy_csl  policy_deductable  policy_annual_premium  umbrella_limit  \\\n",
       "0      250/500               1000                1406.91               0   \n",
       "1      250/500               2000                1197.22         5000000   \n",
       "3      250/500               2000                1415.74         6000000   \n",
       "5      250/500               1000                1351.10               0   \n",
       "14     250/500               2000                1301.13               0   \n",
       "..         ...                ...                    ...             ...   \n",
       "974    100/300                500                 951.56               0   \n",
       "977    100/300                500                1093.83         4000000   \n",
       "982   500/1000               2000                1101.83               0   \n",
       "986    100/300                500                 944.03               0   \n",
       "987   500/1000               2000                1453.61         4000000   \n",
       "\n",
       "     insured_zip  ... witnesses police_report_available total_claim_amount  \\\n",
       "0         466132  ...         2                     YES              71610   \n",
       "1         468176  ...         0                       ?               5070   \n",
       "3         608117  ...         2                      NO              63400   \n",
       "5         478456  ...         2                      NO              64100   \n",
       "14        476685  ...         2                     YES              46200   \n",
       "..           ...  ...       ...                     ...                ...   \n",
       "974       455426  ...         1                       ?              98280   \n",
       "977       468454  ...         1                      NO              53280   \n",
       "982       451529  ...         3                     YES              51900   \n",
       "986       440153  ...         3                       ?              77000   \n",
       "987       619570  ...         3                       ?              60320   \n",
       "\n",
       "    injury_claim property_claim  vehicle_claim  auto_make  auto_model  \\\n",
       "0           6510          13020          52080       Saab         92x   \n",
       "1            780            780           3510   Mercedes        E400   \n",
       "3           6340           6340          50720  Chevrolet       Tahoe   \n",
       "5           6410           6410          51280       Saab          95   \n",
       "14          4200           8400          33600      Dodge        Neon   \n",
       "..           ...            ...            ...        ...         ...   \n",
       "974        15120           7560          75600  Chevrolet       Tahoe   \n",
       "977         4440           8880          39960     Suburu     Impreza   \n",
       "982         5190          10380          36330        BMW          M5   \n",
       "986        15400           7700          53900     Toyota  Highlander   \n",
       "987         9280           9280          41760  Chevrolet       Tahoe   \n",
       "\n",
       "    auto_year fraud_reported  \n",
       "0        2004              Y  \n",
       "1        2007              Y  \n",
       "3        2014              Y  \n",
       "5        2003              Y  \n",
       "14       2003              Y  \n",
       "..        ...            ...  \n",
       "974      2007              Y  \n",
       "977      2015              Y  \n",
       "982      2011              Y  \n",
       "986      2015              Y  \n",
       "987      2012              Y  \n",
       "\n",
       "[247 rows x 39 columns]"
      ]
     },
     "execution_count": 510,
     "metadata": {},
     "output_type": "execute_result"
    }
   ],
   "source": [
    "df_Y = df[df[\"fraud_reported\"]==\"Y\"]\n",
    "df_Y"
   ]
  },
  {
   "cell_type": "code",
   "execution_count": 511,
   "metadata": {},
   "outputs": [
    {
     "data": {
      "text/html": [
       "<div>\n",
       "<style scoped>\n",
       "    .dataframe tbody tr th:only-of-type {\n",
       "        vertical-align: middle;\n",
       "    }\n",
       "\n",
       "    .dataframe tbody tr th {\n",
       "        vertical-align: top;\n",
       "    }\n",
       "\n",
       "    .dataframe thead th {\n",
       "        text-align: right;\n",
       "    }\n",
       "</style>\n",
       "<table border=\"1\" class=\"dataframe\">\n",
       "  <thead>\n",
       "    <tr style=\"text-align: right;\">\n",
       "      <th>fraud_reported</th>\n",
       "      <th>incident_state</th>\n",
       "      <th>fraud_percent</th>\n",
       "      <th>total</th>\n",
       "      <th>total_fraud</th>\n",
       "    </tr>\n",
       "  </thead>\n",
       "  <tbody>\n",
       "    <tr>\n",
       "      <th>0</th>\n",
       "      <td>NC</td>\n",
       "      <td>30.91</td>\n",
       "      <td>110</td>\n",
       "      <td>34</td>\n",
       "    </tr>\n",
       "    <tr>\n",
       "      <th>1</th>\n",
       "      <td>NY</td>\n",
       "      <td>22.14</td>\n",
       "      <td>262</td>\n",
       "      <td>58</td>\n",
       "    </tr>\n",
       "    <tr>\n",
       "      <th>2</th>\n",
       "      <td>OH</td>\n",
       "      <td>43.48</td>\n",
       "      <td>23</td>\n",
       "      <td>10</td>\n",
       "    </tr>\n",
       "    <tr>\n",
       "      <th>3</th>\n",
       "      <td>PA</td>\n",
       "      <td>26.67</td>\n",
       "      <td>30</td>\n",
       "      <td>8</td>\n",
       "    </tr>\n",
       "    <tr>\n",
       "      <th>4</th>\n",
       "      <td>SC</td>\n",
       "      <td>29.44</td>\n",
       "      <td>248</td>\n",
       "      <td>73</td>\n",
       "    </tr>\n",
       "    <tr>\n",
       "      <th>5</th>\n",
       "      <td>VA</td>\n",
       "      <td>22.73</td>\n",
       "      <td>110</td>\n",
       "      <td>25</td>\n",
       "    </tr>\n",
       "    <tr>\n",
       "      <th>6</th>\n",
       "      <td>WV</td>\n",
       "      <td>17.97</td>\n",
       "      <td>217</td>\n",
       "      <td>39</td>\n",
       "    </tr>\n",
       "  </tbody>\n",
       "</table>\n",
       "</div>"
      ],
      "text/plain": [
       "fraud_reported incident_state  fraud_percent  total  total_fraud\n",
       "0                          NC          30.91    110           34\n",
       "1                          NY          22.14    262           58\n",
       "2                          OH          43.48     23           10\n",
       "3                          PA          26.67     30            8\n",
       "4                          SC          29.44    248           73\n",
       "5                          VA          22.73    110           25\n",
       "6                          WV          17.97    217           39"
      ]
     },
     "execution_count": 511,
     "metadata": {},
     "output_type": "execute_result"
    }
   ],
   "source": [
    "# คำนวณจำนวน fraud และ total ต่อ state\n",
    "fraud_summary = df.groupby('incident_state')['fraud_reported'].value_counts().unstack().fillna(0)\n",
    "fraud_summary['total'] = fraud_summary.sum(axis=1)\n",
    "fraud_summary['fraud_percent'] = (fraud_summary['Y'] / fraud_summary['total'] * 100).round(2)\n",
    "fraud_summary['total_fraud'] = fraud_summary['Y']\n",
    "\n",
    "# สร้าง DataFrame สรุป\n",
    "state_fraud_percent = fraud_summary.reset_index()[['incident_state', 'fraud_percent','total','total_fraud']]\n",
    "state_fraud_percent"
   ]
  },
  {
   "cell_type": "code",
   "execution_count": 512,
   "metadata": {},
   "outputs": [
    {
     "data": {
      "application/vnd.plotly.v1+json": {
       "config": {
        "plotlyServerURL": "https://plot.ly"
       },
       "data": [
        {
         "coloraxis": "coloraxis",
         "customdata": [
          [
           "NC",
           30.91,
           110,
           34
          ],
          [
           "NY",
           22.14,
           262,
           58
          ],
          [
           "OH",
           43.48,
           23,
           10
          ],
          [
           "PA",
           26.67,
           30,
           8
          ],
          [
           "SC",
           29.44,
           248,
           73
          ],
          [
           "VA",
           22.73,
           110,
           25
          ],
          [
           "WV",
           17.97,
           217,
           39
          ]
         ],
         "geo": "geo",
         "hovertemplate": "incident_state=%{customdata[0]}<br>% Fraud=%{z}<br>total=%{customdata[2]}<br>total_fraud=%{customdata[3]}<extra></extra>",
         "locationmode": "USA-states",
         "locations": [
          "NC",
          "NY",
          "OH",
          "PA",
          "SC",
          "VA",
          "WV"
         ],
         "name": "",
         "type": "choropleth",
         "z": [
          30.91,
          22.14,
          43.48,
          26.67,
          29.44,
          22.73,
          17.97
         ]
        }
       ],
       "layout": {
        "coloraxis": {
         "colorbar": {
          "title": {
           "text": "% Fraud"
          }
         },
         "colorscale": [
          [
           0,
           "rgb(255,245,240)"
          ],
          [
           0.125,
           "rgb(254,224,210)"
          ],
          [
           0.25,
           "rgb(252,187,161)"
          ],
          [
           0.375,
           "rgb(252,146,114)"
          ],
          [
           0.5,
           "rgb(251,106,74)"
          ],
          [
           0.625,
           "rgb(239,59,44)"
          ],
          [
           0.75,
           "rgb(203,24,29)"
          ],
          [
           0.875,
           "rgb(165,15,21)"
          ],
          [
           1,
           "rgb(103,0,13)"
          ]
         ]
        },
        "geo": {
         "center": {},
         "domain": {
          "x": [
           0,
           1
          ],
          "y": [
           0,
           1
          ]
         },
         "scope": "usa"
        },
        "legend": {
         "tracegroupgap": 0
        },
        "template": {
         "data": {
          "bar": [
           {
            "error_x": {
             "color": "#2a3f5f"
            },
            "error_y": {
             "color": "#2a3f5f"
            },
            "marker": {
             "line": {
              "color": "#E5ECF6",
              "width": 0.5
             },
             "pattern": {
              "fillmode": "overlay",
              "size": 10,
              "solidity": 0.2
             }
            },
            "type": "bar"
           }
          ],
          "barpolar": [
           {
            "marker": {
             "line": {
              "color": "#E5ECF6",
              "width": 0.5
             },
             "pattern": {
              "fillmode": "overlay",
              "size": 10,
              "solidity": 0.2
             }
            },
            "type": "barpolar"
           }
          ],
          "carpet": [
           {
            "aaxis": {
             "endlinecolor": "#2a3f5f",
             "gridcolor": "white",
             "linecolor": "white",
             "minorgridcolor": "white",
             "startlinecolor": "#2a3f5f"
            },
            "baxis": {
             "endlinecolor": "#2a3f5f",
             "gridcolor": "white",
             "linecolor": "white",
             "minorgridcolor": "white",
             "startlinecolor": "#2a3f5f"
            },
            "type": "carpet"
           }
          ],
          "choropleth": [
           {
            "colorbar": {
             "outlinewidth": 0,
             "ticks": ""
            },
            "type": "choropleth"
           }
          ],
          "contour": [
           {
            "colorbar": {
             "outlinewidth": 0,
             "ticks": ""
            },
            "colorscale": [
             [
              0,
              "#0d0887"
             ],
             [
              0.1111111111111111,
              "#46039f"
             ],
             [
              0.2222222222222222,
              "#7201a8"
             ],
             [
              0.3333333333333333,
              "#9c179e"
             ],
             [
              0.4444444444444444,
              "#bd3786"
             ],
             [
              0.5555555555555556,
              "#d8576b"
             ],
             [
              0.6666666666666666,
              "#ed7953"
             ],
             [
              0.7777777777777778,
              "#fb9f3a"
             ],
             [
              0.8888888888888888,
              "#fdca26"
             ],
             [
              1,
              "#f0f921"
             ]
            ],
            "type": "contour"
           }
          ],
          "contourcarpet": [
           {
            "colorbar": {
             "outlinewidth": 0,
             "ticks": ""
            },
            "type": "contourcarpet"
           }
          ],
          "heatmap": [
           {
            "colorbar": {
             "outlinewidth": 0,
             "ticks": ""
            },
            "colorscale": [
             [
              0,
              "#0d0887"
             ],
             [
              0.1111111111111111,
              "#46039f"
             ],
             [
              0.2222222222222222,
              "#7201a8"
             ],
             [
              0.3333333333333333,
              "#9c179e"
             ],
             [
              0.4444444444444444,
              "#bd3786"
             ],
             [
              0.5555555555555556,
              "#d8576b"
             ],
             [
              0.6666666666666666,
              "#ed7953"
             ],
             [
              0.7777777777777778,
              "#fb9f3a"
             ],
             [
              0.8888888888888888,
              "#fdca26"
             ],
             [
              1,
              "#f0f921"
             ]
            ],
            "type": "heatmap"
           }
          ],
          "heatmapgl": [
           {
            "colorbar": {
             "outlinewidth": 0,
             "ticks": ""
            },
            "colorscale": [
             [
              0,
              "#0d0887"
             ],
             [
              0.1111111111111111,
              "#46039f"
             ],
             [
              0.2222222222222222,
              "#7201a8"
             ],
             [
              0.3333333333333333,
              "#9c179e"
             ],
             [
              0.4444444444444444,
              "#bd3786"
             ],
             [
              0.5555555555555556,
              "#d8576b"
             ],
             [
              0.6666666666666666,
              "#ed7953"
             ],
             [
              0.7777777777777778,
              "#fb9f3a"
             ],
             [
              0.8888888888888888,
              "#fdca26"
             ],
             [
              1,
              "#f0f921"
             ]
            ],
            "type": "heatmapgl"
           }
          ],
          "histogram": [
           {
            "marker": {
             "pattern": {
              "fillmode": "overlay",
              "size": 10,
              "solidity": 0.2
             }
            },
            "type": "histogram"
           }
          ],
          "histogram2d": [
           {
            "colorbar": {
             "outlinewidth": 0,
             "ticks": ""
            },
            "colorscale": [
             [
              0,
              "#0d0887"
             ],
             [
              0.1111111111111111,
              "#46039f"
             ],
             [
              0.2222222222222222,
              "#7201a8"
             ],
             [
              0.3333333333333333,
              "#9c179e"
             ],
             [
              0.4444444444444444,
              "#bd3786"
             ],
             [
              0.5555555555555556,
              "#d8576b"
             ],
             [
              0.6666666666666666,
              "#ed7953"
             ],
             [
              0.7777777777777778,
              "#fb9f3a"
             ],
             [
              0.8888888888888888,
              "#fdca26"
             ],
             [
              1,
              "#f0f921"
             ]
            ],
            "type": "histogram2d"
           }
          ],
          "histogram2dcontour": [
           {
            "colorbar": {
             "outlinewidth": 0,
             "ticks": ""
            },
            "colorscale": [
             [
              0,
              "#0d0887"
             ],
             [
              0.1111111111111111,
              "#46039f"
             ],
             [
              0.2222222222222222,
              "#7201a8"
             ],
             [
              0.3333333333333333,
              "#9c179e"
             ],
             [
              0.4444444444444444,
              "#bd3786"
             ],
             [
              0.5555555555555556,
              "#d8576b"
             ],
             [
              0.6666666666666666,
              "#ed7953"
             ],
             [
              0.7777777777777778,
              "#fb9f3a"
             ],
             [
              0.8888888888888888,
              "#fdca26"
             ],
             [
              1,
              "#f0f921"
             ]
            ],
            "type": "histogram2dcontour"
           }
          ],
          "mesh3d": [
           {
            "colorbar": {
             "outlinewidth": 0,
             "ticks": ""
            },
            "type": "mesh3d"
           }
          ],
          "parcoords": [
           {
            "line": {
             "colorbar": {
              "outlinewidth": 0,
              "ticks": ""
             }
            },
            "type": "parcoords"
           }
          ],
          "pie": [
           {
            "automargin": true,
            "type": "pie"
           }
          ],
          "scatter": [
           {
            "fillpattern": {
             "fillmode": "overlay",
             "size": 10,
             "solidity": 0.2
            },
            "type": "scatter"
           }
          ],
          "scatter3d": [
           {
            "line": {
             "colorbar": {
              "outlinewidth": 0,
              "ticks": ""
             }
            },
            "marker": {
             "colorbar": {
              "outlinewidth": 0,
              "ticks": ""
             }
            },
            "type": "scatter3d"
           }
          ],
          "scattercarpet": [
           {
            "marker": {
             "colorbar": {
              "outlinewidth": 0,
              "ticks": ""
             }
            },
            "type": "scattercarpet"
           }
          ],
          "scattergeo": [
           {
            "marker": {
             "colorbar": {
              "outlinewidth": 0,
              "ticks": ""
             }
            },
            "type": "scattergeo"
           }
          ],
          "scattergl": [
           {
            "marker": {
             "colorbar": {
              "outlinewidth": 0,
              "ticks": ""
             }
            },
            "type": "scattergl"
           }
          ],
          "scattermapbox": [
           {
            "marker": {
             "colorbar": {
              "outlinewidth": 0,
              "ticks": ""
             }
            },
            "type": "scattermapbox"
           }
          ],
          "scatterpolar": [
           {
            "marker": {
             "colorbar": {
              "outlinewidth": 0,
              "ticks": ""
             }
            },
            "type": "scatterpolar"
           }
          ],
          "scatterpolargl": [
           {
            "marker": {
             "colorbar": {
              "outlinewidth": 0,
              "ticks": ""
             }
            },
            "type": "scatterpolargl"
           }
          ],
          "scatterternary": [
           {
            "marker": {
             "colorbar": {
              "outlinewidth": 0,
              "ticks": ""
             }
            },
            "type": "scatterternary"
           }
          ],
          "surface": [
           {
            "colorbar": {
             "outlinewidth": 0,
             "ticks": ""
            },
            "colorscale": [
             [
              0,
              "#0d0887"
             ],
             [
              0.1111111111111111,
              "#46039f"
             ],
             [
              0.2222222222222222,
              "#7201a8"
             ],
             [
              0.3333333333333333,
              "#9c179e"
             ],
             [
              0.4444444444444444,
              "#bd3786"
             ],
             [
              0.5555555555555556,
              "#d8576b"
             ],
             [
              0.6666666666666666,
              "#ed7953"
             ],
             [
              0.7777777777777778,
              "#fb9f3a"
             ],
             [
              0.8888888888888888,
              "#fdca26"
             ],
             [
              1,
              "#f0f921"
             ]
            ],
            "type": "surface"
           }
          ],
          "table": [
           {
            "cells": {
             "fill": {
              "color": "#EBF0F8"
             },
             "line": {
              "color": "white"
             }
            },
            "header": {
             "fill": {
              "color": "#C8D4E3"
             },
             "line": {
              "color": "white"
             }
            },
            "type": "table"
           }
          ]
         },
         "layout": {
          "annotationdefaults": {
           "arrowcolor": "#2a3f5f",
           "arrowhead": 0,
           "arrowwidth": 1
          },
          "autotypenumbers": "strict",
          "coloraxis": {
           "colorbar": {
            "outlinewidth": 0,
            "ticks": ""
           }
          },
          "colorscale": {
           "diverging": [
            [
             0,
             "#8e0152"
            ],
            [
             0.1,
             "#c51b7d"
            ],
            [
             0.2,
             "#de77ae"
            ],
            [
             0.3,
             "#f1b6da"
            ],
            [
             0.4,
             "#fde0ef"
            ],
            [
             0.5,
             "#f7f7f7"
            ],
            [
             0.6,
             "#e6f5d0"
            ],
            [
             0.7,
             "#b8e186"
            ],
            [
             0.8,
             "#7fbc41"
            ],
            [
             0.9,
             "#4d9221"
            ],
            [
             1,
             "#276419"
            ]
           ],
           "sequential": [
            [
             0,
             "#0d0887"
            ],
            [
             0.1111111111111111,
             "#46039f"
            ],
            [
             0.2222222222222222,
             "#7201a8"
            ],
            [
             0.3333333333333333,
             "#9c179e"
            ],
            [
             0.4444444444444444,
             "#bd3786"
            ],
            [
             0.5555555555555556,
             "#d8576b"
            ],
            [
             0.6666666666666666,
             "#ed7953"
            ],
            [
             0.7777777777777778,
             "#fb9f3a"
            ],
            [
             0.8888888888888888,
             "#fdca26"
            ],
            [
             1,
             "#f0f921"
            ]
           ],
           "sequentialminus": [
            [
             0,
             "#0d0887"
            ],
            [
             0.1111111111111111,
             "#46039f"
            ],
            [
             0.2222222222222222,
             "#7201a8"
            ],
            [
             0.3333333333333333,
             "#9c179e"
            ],
            [
             0.4444444444444444,
             "#bd3786"
            ],
            [
             0.5555555555555556,
             "#d8576b"
            ],
            [
             0.6666666666666666,
             "#ed7953"
            ],
            [
             0.7777777777777778,
             "#fb9f3a"
            ],
            [
             0.8888888888888888,
             "#fdca26"
            ],
            [
             1,
             "#f0f921"
            ]
           ]
          },
          "colorway": [
           "#636efa",
           "#EF553B",
           "#00cc96",
           "#ab63fa",
           "#FFA15A",
           "#19d3f3",
           "#FF6692",
           "#B6E880",
           "#FF97FF",
           "#FECB52"
          ],
          "font": {
           "color": "#2a3f5f"
          },
          "geo": {
           "bgcolor": "white",
           "lakecolor": "white",
           "landcolor": "#E5ECF6",
           "showlakes": true,
           "showland": true,
           "subunitcolor": "white"
          },
          "hoverlabel": {
           "align": "left"
          },
          "hovermode": "closest",
          "mapbox": {
           "style": "light"
          },
          "paper_bgcolor": "white",
          "plot_bgcolor": "#E5ECF6",
          "polar": {
           "angularaxis": {
            "gridcolor": "white",
            "linecolor": "white",
            "ticks": ""
           },
           "bgcolor": "#E5ECF6",
           "radialaxis": {
            "gridcolor": "white",
            "linecolor": "white",
            "ticks": ""
           }
          },
          "scene": {
           "xaxis": {
            "backgroundcolor": "#E5ECF6",
            "gridcolor": "white",
            "gridwidth": 2,
            "linecolor": "white",
            "showbackground": true,
            "ticks": "",
            "zerolinecolor": "white"
           },
           "yaxis": {
            "backgroundcolor": "#E5ECF6",
            "gridcolor": "white",
            "gridwidth": 2,
            "linecolor": "white",
            "showbackground": true,
            "ticks": "",
            "zerolinecolor": "white"
           },
           "zaxis": {
            "backgroundcolor": "#E5ECF6",
            "gridcolor": "white",
            "gridwidth": 2,
            "linecolor": "white",
            "showbackground": true,
            "ticks": "",
            "zerolinecolor": "white"
           }
          },
          "shapedefaults": {
           "line": {
            "color": "#2a3f5f"
           }
          },
          "ternary": {
           "aaxis": {
            "gridcolor": "white",
            "linecolor": "white",
            "ticks": ""
           },
           "baxis": {
            "gridcolor": "white",
            "linecolor": "white",
            "ticks": ""
           },
           "bgcolor": "#E5ECF6",
           "caxis": {
            "gridcolor": "white",
            "linecolor": "white",
            "ticks": ""
           }
          },
          "title": {
           "x": 0.05
          },
          "xaxis": {
           "automargin": true,
           "gridcolor": "white",
           "linecolor": "white",
           "ticks": "",
           "title": {
            "standoff": 15
           },
           "zerolinecolor": "white",
           "zerolinewidth": 2
          },
          "yaxis": {
           "automargin": true,
           "gridcolor": "white",
           "linecolor": "white",
           "ticks": "",
           "title": {
            "standoff": 15
           },
           "zerolinecolor": "white",
           "zerolinewidth": 2
          }
         }
        },
        "title": {
         "text": "Fraud % by Incident State"
        }
       }
      }
     },
     "metadata": {},
     "output_type": "display_data"
    }
   ],
   "source": [
    "fig = px.choropleth(state_fraud_percent,\n",
    "                    locations='incident_state',         # รหัสรัฐ เช่น 'NY', 'PA'\n",
    "                    locationmode='USA-states',\n",
    "                    color='fraud_percent',              # ใช้ % แทน count\n",
    "                    color_continuous_scale='Reds',\n",
    "                    scope='usa',\n",
    "                    labels={'fraud_percent': '% Fraud'},\n",
    "                    title='Fraud % by Incident State',\n",
    "                    hover_data={'incident_state': True, 'fraud_percent': True, 'total': True,'total_fraud':True})\n",
    "fig.show()\n"
   ]
  },
  {
   "cell_type": "code",
   "execution_count": 513,
   "metadata": {},
   "outputs": [
    {
     "data": {
      "application/vnd.plotly.v1+json": {
       "config": {
        "plotlyServerURL": "https://plot.ly"
       },
       "data": [
        {
         "coloraxis": "coloraxis",
         "hovertemplate": "x: %{x}<br>y: %{y}<br>color: %{z}<extra></extra>",
         "name": "0",
         "texttemplate": "%{z}",
         "type": "heatmap",
         "x": [
          "months_as_customer",
          "age",
          "policy_number",
          "policy_deductable",
          "umbrella_limit",
          "insured_zip",
          "capital-gains",
          "capital-loss",
          "incident_hour_of_the_day",
          "number_of_vehicles_involved",
          "bodily_injuries",
          "witnesses",
          "total_claim_amount",
          "injury_claim",
          "property_claim",
          "vehicle_claim",
          "auto_year"
         ],
         "xaxis": "x",
         "y": [
          "months_as_customer",
          "age",
          "policy_number",
          "policy_deductable",
          "umbrella_limit",
          "insured_zip",
          "capital-gains",
          "capital-loss",
          "incident_hour_of_the_day",
          "number_of_vehicles_involved",
          "bodily_injuries",
          "witnesses",
          "total_claim_amount",
          "injury_claim",
          "property_claim",
          "vehicle_claim",
          "auto_year"
         ],
         "yaxis": "y",
         "z": [
          [
           1,
           0.9220983225789802,
           0.057555032987646325,
           0.026807402564926454,
           0.015498439716200945,
           0.01789476100522015,
           0.00639931870605462,
           0.020209212437198525,
           0.07063925305066995,
           0.014735895488254448,
           -0.010161564419988969,
           0.058382787390061835,
           0.06210799657596277,
           0.06532878550954264,
           0.03493981037217865,
           0.061012878785769345,
           -0.000292365415334852
          ],
          [
           0.9220983225789802,
           1,
           0.05941347834135288,
           0.02918762192051158,
           0.018126265491994257,
           0.025604175773753363,
           -0.0070750775485629155,
           0.007367735506389649,
           0.08716147803802224,
           0.022102111689942482,
           -0.01567908679535216,
           0.05235872140228032,
           0.0698626257760996,
           0.07552225887201744,
           0.060897526299827885,
           0.06258764198000882,
           0.0013536080590677822
          ],
          [
           0.057555032987646325,
           0.05941347834135288,
           1,
           -0.006737531771920841,
           0.008967542636962136,
           0.007083205914392941,
           0.009802475318884063,
           -0.005669096583837332,
           0.0001126629422990589,
           0.013431800457437982,
           -0.004558466822736939,
           -0.012661444423098772,
           -0.018009441683099602,
           -0.008761632000269089,
           -0.010678058694566582,
           -0.020183625688946372,
           -0.00018299186471679206
          ],
          [
           0.026807402564926454,
           0.02918762192051158,
           -0.006737531771920841,
           1,
           0.010869501472358165,
           0.004544834139489211,
           0.03521171886594882,
           -0.02354407556380287,
           0.060935086661888294,
           0.05121441060019422,
           -0.022764582228023814,
           0.06663852026929619,
           0.02283931723945643,
           0.03910677219707254,
           0.06479153061791916,
           0.005269087867678773,
           0.026104560848340428
          ],
          [
           0.015498439716200945,
           0.018126265491994257,
           0.008967542636962136,
           0.010869501472358165,
           1,
           0.019671367162017107,
           -0.047268244636851746,
           -0.02405564178860638,
           -0.023256881108310985,
           -0.021270148466107686,
           0.02274261371933084,
           -0.006738319975039306,
           -0.040344089217602866,
           -0.045411623240228294,
           -0.023790306669919336,
           -0.03858426298870231,
           0.009893273786611475
          ],
          [
           0.01789476100522015,
           0.025604175773753363,
           0.007083205914392941,
           0.004544834139489211,
           0.019671367162017107,
           1,
           0.006302848314510394,
           0.04937189842504385,
           0.008274120992348472,
           0.02744805825717744,
           0.028695457404241297,
           0.0198052940345807,
           -0.03387335772186119,
           -0.017494816666049542,
           -0.006840626169814886,
           -0.041083484191105205,
           -0.03273570131321112
          ],
          [
           0.00639931870605462,
           -0.0070750775485629155,
           0.009802475318884063,
           0.03521171886594882,
           -0.047268244636851746,
           0.006302848314510394,
           1,
           -0.04690444654009019,
           -0.016405612704074403,
           0.06164259934237781,
           0.05582919447467856,
           -0.017651375847817778,
           0.015980468068589077,
           0.025933696371508733,
           -0.0007790445414113298,
           0.015836196466461255,
           0.03139806185259942
          ],
          [
           0.020209212437198525,
           0.007367735506389649,
           -0.005669096583837332,
           -0.02354407556380287,
           -0.02405564178860638,
           0.04937189842504385,
           -0.04690444654009019,
           1,
           -0.025053748051420598,
           -0.014894936765822084,
           -0.024418153824373668,
           -0.04132987270040406,
           -0.0360603038918521,
           -0.04605990630975066,
           -0.022863440817917028,
           -0.03266509704302511,
           -0.05661502265542575
          ],
          [
           0.07063925305066995,
           0.08716147803802224,
           0.0001126629422990589,
           0.060935086661888294,
           -0.023256881108310985,
           0.008274120992348472,
           -0.016405612704074403,
           -0.025053748051420598,
           1,
           0.12079426662323117,
           -0.034563182099989986,
           0.006526916000822264,
           0.21770238703252143,
           0.1657679104500261,
           0.17953586162350574,
           0.2156256330226426,
           0.02136761790601619
          ],
          [
           0.014735895488254448,
           0.022102111689942482,
           0.013431800457437982,
           0.05121441060019422,
           -0.021270148466107686,
           0.02744805825717744,
           0.06164259934237781,
           -0.014894936765822084,
           0.12079426662323117,
           1,
           0.014030113641081468,
           -0.014668684044923512,
           0.2742776826593699,
           0.22464992102091874,
           0.21908411197188973,
           0.26939303800142583,
           0.03455368145676585
          ],
          [
           -0.010161564419988969,
           -0.01567908679535216,
           -0.004558466822736939,
           -0.022764582228023814,
           0.02274261371933084,
           0.028695457404241297,
           0.05582919447467856,
           -0.024418153824373668,
           -0.034563182099989986,
           0.014030113641081468,
           1,
           -0.005605558277451302,
           0.04709293514376219,
           0.04731868943801603,
           0.039749368467209056,
           0.043448831873998076,
           -0.02052735653074016
          ],
          [
           0.058382787390061835,
           0.05235872140228032,
           -0.012661444423098772,
           0.06663852026929619,
           -0.006738319975039306,
           0.0198052940345807,
           -0.017651375847817778,
           -0.04132987270040406,
           0.006526916000822264,
           -0.014668684044923512,
           -0.005605558277451302,
           1,
           -0.01111418775731516,
           -0.024843475493272656,
           0.05264034683856342,
           -0.022563874954604168,
           0.04579146108177308
          ],
          [
           0.06210799657596277,
           0.0698626257760996,
           -0.018009441683099602,
           0.02283931723945643,
           -0.040344089217602866,
           -0.03387335772186119,
           0.015980468068589077,
           -0.0360603038918521,
           0.21770238703252143,
           0.2742776826593699,
           0.04709293514376219,
           -0.01111418775731516,
           1,
           0.8050253630561807,
           0.810686495122973,
           0.9827731790805574,
           -0.035780936862704955
          ],
          [
           0.06532878550954264,
           0.07552225887201744,
           -0.008761632000269089,
           0.03910677219707254,
           -0.045411623240228294,
           -0.017494816666049542,
           0.025933696371508733,
           -0.04605990630975066,
           0.1657679104500261,
           0.22464992102091874,
           0.04731868943801603,
           -0.024843475493272656,
           0.8050253630561807,
           1,
           0.5638659408577098,
           0.722877814857129,
           -0.013718057474875927
          ],
          [
           0.03493981037217865,
           0.060897526299827885,
           -0.010678058694566582,
           0.06479153061791916,
           -0.023790306669919336,
           -0.006840626169814886,
           -0.0007790445414113298,
           -0.022863440817917028,
           0.17953586162350574,
           0.21908411197188973,
           0.039749368467209056,
           0.05264034683856342,
           0.810686495122973,
           0.5638659408577098,
           1,
           0.7320900444571772,
           -0.014507787063594627
          ],
          [
           0.061012878785769345,
           0.06258764198000882,
           -0.020183625688946372,
           0.005269087867678773,
           -0.03858426298870231,
           -0.041083484191105205,
           0.015836196466461255,
           -0.03266509704302511,
           0.2156256330226426,
           0.26939303800142583,
           0.043448831873998076,
           -0.022563874954604168,
           0.9827731790805574,
           0.722877814857129,
           0.7320900444571772,
           1,
           -0.04276752612754683
          ],
          [
           -0.000292365415334852,
           0.0013536080590677822,
           -0.00018299186471679206,
           0.026104560848340428,
           0.009893273786611475,
           -0.03273570131321112,
           0.03139806185259942,
           -0.05661502265542575,
           0.02136761790601619,
           0.03455368145676585,
           -0.02052735653074016,
           0.04579146108177308,
           -0.035780936862704955,
           -0.013718057474875927,
           -0.014507787063594627,
           -0.04276752612754683,
           1
          ]
         ]
        }
       ],
       "layout": {
        "coloraxis": {
         "cmax": 1,
         "cmin": -1,
         "colorscale": [
          [
           0,
           "rgb(5,48,97)"
          ],
          [
           0.1,
           "rgb(33,102,172)"
          ],
          [
           0.2,
           "rgb(67,147,195)"
          ],
          [
           0.3,
           "rgb(146,197,222)"
          ],
          [
           0.4,
           "rgb(209,229,240)"
          ],
          [
           0.5,
           "rgb(247,247,247)"
          ],
          [
           0.6,
           "rgb(253,219,199)"
          ],
          [
           0.7,
           "rgb(244,165,130)"
          ],
          [
           0.8,
           "rgb(214,96,77)"
          ],
          [
           0.9,
           "rgb(178,24,43)"
          ],
          [
           1,
           "rgb(103,0,31)"
          ]
         ]
        },
        "template": {
         "data": {
          "bar": [
           {
            "error_x": {
             "color": "#2a3f5f"
            },
            "error_y": {
             "color": "#2a3f5f"
            },
            "marker": {
             "line": {
              "color": "#E5ECF6",
              "width": 0.5
             },
             "pattern": {
              "fillmode": "overlay",
              "size": 10,
              "solidity": 0.2
             }
            },
            "type": "bar"
           }
          ],
          "barpolar": [
           {
            "marker": {
             "line": {
              "color": "#E5ECF6",
              "width": 0.5
             },
             "pattern": {
              "fillmode": "overlay",
              "size": 10,
              "solidity": 0.2
             }
            },
            "type": "barpolar"
           }
          ],
          "carpet": [
           {
            "aaxis": {
             "endlinecolor": "#2a3f5f",
             "gridcolor": "white",
             "linecolor": "white",
             "minorgridcolor": "white",
             "startlinecolor": "#2a3f5f"
            },
            "baxis": {
             "endlinecolor": "#2a3f5f",
             "gridcolor": "white",
             "linecolor": "white",
             "minorgridcolor": "white",
             "startlinecolor": "#2a3f5f"
            },
            "type": "carpet"
           }
          ],
          "choropleth": [
           {
            "colorbar": {
             "outlinewidth": 0,
             "ticks": ""
            },
            "type": "choropleth"
           }
          ],
          "contour": [
           {
            "colorbar": {
             "outlinewidth": 0,
             "ticks": ""
            },
            "colorscale": [
             [
              0,
              "#0d0887"
             ],
             [
              0.1111111111111111,
              "#46039f"
             ],
             [
              0.2222222222222222,
              "#7201a8"
             ],
             [
              0.3333333333333333,
              "#9c179e"
             ],
             [
              0.4444444444444444,
              "#bd3786"
             ],
             [
              0.5555555555555556,
              "#d8576b"
             ],
             [
              0.6666666666666666,
              "#ed7953"
             ],
             [
              0.7777777777777778,
              "#fb9f3a"
             ],
             [
              0.8888888888888888,
              "#fdca26"
             ],
             [
              1,
              "#f0f921"
             ]
            ],
            "type": "contour"
           }
          ],
          "contourcarpet": [
           {
            "colorbar": {
             "outlinewidth": 0,
             "ticks": ""
            },
            "type": "contourcarpet"
           }
          ],
          "heatmap": [
           {
            "colorbar": {
             "outlinewidth": 0,
             "ticks": ""
            },
            "colorscale": [
             [
              0,
              "#0d0887"
             ],
             [
              0.1111111111111111,
              "#46039f"
             ],
             [
              0.2222222222222222,
              "#7201a8"
             ],
             [
              0.3333333333333333,
              "#9c179e"
             ],
             [
              0.4444444444444444,
              "#bd3786"
             ],
             [
              0.5555555555555556,
              "#d8576b"
             ],
             [
              0.6666666666666666,
              "#ed7953"
             ],
             [
              0.7777777777777778,
              "#fb9f3a"
             ],
             [
              0.8888888888888888,
              "#fdca26"
             ],
             [
              1,
              "#f0f921"
             ]
            ],
            "type": "heatmap"
           }
          ],
          "heatmapgl": [
           {
            "colorbar": {
             "outlinewidth": 0,
             "ticks": ""
            },
            "colorscale": [
             [
              0,
              "#0d0887"
             ],
             [
              0.1111111111111111,
              "#46039f"
             ],
             [
              0.2222222222222222,
              "#7201a8"
             ],
             [
              0.3333333333333333,
              "#9c179e"
             ],
             [
              0.4444444444444444,
              "#bd3786"
             ],
             [
              0.5555555555555556,
              "#d8576b"
             ],
             [
              0.6666666666666666,
              "#ed7953"
             ],
             [
              0.7777777777777778,
              "#fb9f3a"
             ],
             [
              0.8888888888888888,
              "#fdca26"
             ],
             [
              1,
              "#f0f921"
             ]
            ],
            "type": "heatmapgl"
           }
          ],
          "histogram": [
           {
            "marker": {
             "pattern": {
              "fillmode": "overlay",
              "size": 10,
              "solidity": 0.2
             }
            },
            "type": "histogram"
           }
          ],
          "histogram2d": [
           {
            "colorbar": {
             "outlinewidth": 0,
             "ticks": ""
            },
            "colorscale": [
             [
              0,
              "#0d0887"
             ],
             [
              0.1111111111111111,
              "#46039f"
             ],
             [
              0.2222222222222222,
              "#7201a8"
             ],
             [
              0.3333333333333333,
              "#9c179e"
             ],
             [
              0.4444444444444444,
              "#bd3786"
             ],
             [
              0.5555555555555556,
              "#d8576b"
             ],
             [
              0.6666666666666666,
              "#ed7953"
             ],
             [
              0.7777777777777778,
              "#fb9f3a"
             ],
             [
              0.8888888888888888,
              "#fdca26"
             ],
             [
              1,
              "#f0f921"
             ]
            ],
            "type": "histogram2d"
           }
          ],
          "histogram2dcontour": [
           {
            "colorbar": {
             "outlinewidth": 0,
             "ticks": ""
            },
            "colorscale": [
             [
              0,
              "#0d0887"
             ],
             [
              0.1111111111111111,
              "#46039f"
             ],
             [
              0.2222222222222222,
              "#7201a8"
             ],
             [
              0.3333333333333333,
              "#9c179e"
             ],
             [
              0.4444444444444444,
              "#bd3786"
             ],
             [
              0.5555555555555556,
              "#d8576b"
             ],
             [
              0.6666666666666666,
              "#ed7953"
             ],
             [
              0.7777777777777778,
              "#fb9f3a"
             ],
             [
              0.8888888888888888,
              "#fdca26"
             ],
             [
              1,
              "#f0f921"
             ]
            ],
            "type": "histogram2dcontour"
           }
          ],
          "mesh3d": [
           {
            "colorbar": {
             "outlinewidth": 0,
             "ticks": ""
            },
            "type": "mesh3d"
           }
          ],
          "parcoords": [
           {
            "line": {
             "colorbar": {
              "outlinewidth": 0,
              "ticks": ""
             }
            },
            "type": "parcoords"
           }
          ],
          "pie": [
           {
            "automargin": true,
            "type": "pie"
           }
          ],
          "scatter": [
           {
            "fillpattern": {
             "fillmode": "overlay",
             "size": 10,
             "solidity": 0.2
            },
            "type": "scatter"
           }
          ],
          "scatter3d": [
           {
            "line": {
             "colorbar": {
              "outlinewidth": 0,
              "ticks": ""
             }
            },
            "marker": {
             "colorbar": {
              "outlinewidth": 0,
              "ticks": ""
             }
            },
            "type": "scatter3d"
           }
          ],
          "scattercarpet": [
           {
            "marker": {
             "colorbar": {
              "outlinewidth": 0,
              "ticks": ""
             }
            },
            "type": "scattercarpet"
           }
          ],
          "scattergeo": [
           {
            "marker": {
             "colorbar": {
              "outlinewidth": 0,
              "ticks": ""
             }
            },
            "type": "scattergeo"
           }
          ],
          "scattergl": [
           {
            "marker": {
             "colorbar": {
              "outlinewidth": 0,
              "ticks": ""
             }
            },
            "type": "scattergl"
           }
          ],
          "scattermapbox": [
           {
            "marker": {
             "colorbar": {
              "outlinewidth": 0,
              "ticks": ""
             }
            },
            "type": "scattermapbox"
           }
          ],
          "scatterpolar": [
           {
            "marker": {
             "colorbar": {
              "outlinewidth": 0,
              "ticks": ""
             }
            },
            "type": "scatterpolar"
           }
          ],
          "scatterpolargl": [
           {
            "marker": {
             "colorbar": {
              "outlinewidth": 0,
              "ticks": ""
             }
            },
            "type": "scatterpolargl"
           }
          ],
          "scatterternary": [
           {
            "marker": {
             "colorbar": {
              "outlinewidth": 0,
              "ticks": ""
             }
            },
            "type": "scatterternary"
           }
          ],
          "surface": [
           {
            "colorbar": {
             "outlinewidth": 0,
             "ticks": ""
            },
            "colorscale": [
             [
              0,
              "#0d0887"
             ],
             [
              0.1111111111111111,
              "#46039f"
             ],
             [
              0.2222222222222222,
              "#7201a8"
             ],
             [
              0.3333333333333333,
              "#9c179e"
             ],
             [
              0.4444444444444444,
              "#bd3786"
             ],
             [
              0.5555555555555556,
              "#d8576b"
             ],
             [
              0.6666666666666666,
              "#ed7953"
             ],
             [
              0.7777777777777778,
              "#fb9f3a"
             ],
             [
              0.8888888888888888,
              "#fdca26"
             ],
             [
              1,
              "#f0f921"
             ]
            ],
            "type": "surface"
           }
          ],
          "table": [
           {
            "cells": {
             "fill": {
              "color": "#EBF0F8"
             },
             "line": {
              "color": "white"
             }
            },
            "header": {
             "fill": {
              "color": "#C8D4E3"
             },
             "line": {
              "color": "white"
             }
            },
            "type": "table"
           }
          ]
         },
         "layout": {
          "annotationdefaults": {
           "arrowcolor": "#2a3f5f",
           "arrowhead": 0,
           "arrowwidth": 1
          },
          "autotypenumbers": "strict",
          "coloraxis": {
           "colorbar": {
            "outlinewidth": 0,
            "ticks": ""
           }
          },
          "colorscale": {
           "diverging": [
            [
             0,
             "#8e0152"
            ],
            [
             0.1,
             "#c51b7d"
            ],
            [
             0.2,
             "#de77ae"
            ],
            [
             0.3,
             "#f1b6da"
            ],
            [
             0.4,
             "#fde0ef"
            ],
            [
             0.5,
             "#f7f7f7"
            ],
            [
             0.6,
             "#e6f5d0"
            ],
            [
             0.7,
             "#b8e186"
            ],
            [
             0.8,
             "#7fbc41"
            ],
            [
             0.9,
             "#4d9221"
            ],
            [
             1,
             "#276419"
            ]
           ],
           "sequential": [
            [
             0,
             "#0d0887"
            ],
            [
             0.1111111111111111,
             "#46039f"
            ],
            [
             0.2222222222222222,
             "#7201a8"
            ],
            [
             0.3333333333333333,
             "#9c179e"
            ],
            [
             0.4444444444444444,
             "#bd3786"
            ],
            [
             0.5555555555555556,
             "#d8576b"
            ],
            [
             0.6666666666666666,
             "#ed7953"
            ],
            [
             0.7777777777777778,
             "#fb9f3a"
            ],
            [
             0.8888888888888888,
             "#fdca26"
            ],
            [
             1,
             "#f0f921"
            ]
           ],
           "sequentialminus": [
            [
             0,
             "#0d0887"
            ],
            [
             0.1111111111111111,
             "#46039f"
            ],
            [
             0.2222222222222222,
             "#7201a8"
            ],
            [
             0.3333333333333333,
             "#9c179e"
            ],
            [
             0.4444444444444444,
             "#bd3786"
            ],
            [
             0.5555555555555556,
             "#d8576b"
            ],
            [
             0.6666666666666666,
             "#ed7953"
            ],
            [
             0.7777777777777778,
             "#fb9f3a"
            ],
            [
             0.8888888888888888,
             "#fdca26"
            ],
            [
             1,
             "#f0f921"
            ]
           ]
          },
          "colorway": [
           "#636efa",
           "#EF553B",
           "#00cc96",
           "#ab63fa",
           "#FFA15A",
           "#19d3f3",
           "#FF6692",
           "#B6E880",
           "#FF97FF",
           "#FECB52"
          ],
          "font": {
           "color": "#2a3f5f"
          },
          "geo": {
           "bgcolor": "white",
           "lakecolor": "white",
           "landcolor": "#E5ECF6",
           "showlakes": true,
           "showland": true,
           "subunitcolor": "white"
          },
          "hoverlabel": {
           "align": "left"
          },
          "hovermode": "closest",
          "mapbox": {
           "style": "light"
          },
          "paper_bgcolor": "white",
          "plot_bgcolor": "#E5ECF6",
          "polar": {
           "angularaxis": {
            "gridcolor": "white",
            "linecolor": "white",
            "ticks": ""
           },
           "bgcolor": "#E5ECF6",
           "radialaxis": {
            "gridcolor": "white",
            "linecolor": "white",
            "ticks": ""
           }
          },
          "scene": {
           "xaxis": {
            "backgroundcolor": "#E5ECF6",
            "gridcolor": "white",
            "gridwidth": 2,
            "linecolor": "white",
            "showbackground": true,
            "ticks": "",
            "zerolinecolor": "white"
           },
           "yaxis": {
            "backgroundcolor": "#E5ECF6",
            "gridcolor": "white",
            "gridwidth": 2,
            "linecolor": "white",
            "showbackground": true,
            "ticks": "",
            "zerolinecolor": "white"
           },
           "zaxis": {
            "backgroundcolor": "#E5ECF6",
            "gridcolor": "white",
            "gridwidth": 2,
            "linecolor": "white",
            "showbackground": true,
            "ticks": "",
            "zerolinecolor": "white"
           }
          },
          "shapedefaults": {
           "line": {
            "color": "#2a3f5f"
           }
          },
          "ternary": {
           "aaxis": {
            "gridcolor": "white",
            "linecolor": "white",
            "ticks": ""
           },
           "baxis": {
            "gridcolor": "white",
            "linecolor": "white",
            "ticks": ""
           },
           "bgcolor": "#E5ECF6",
           "caxis": {
            "gridcolor": "white",
            "linecolor": "white",
            "ticks": ""
           }
          },
          "title": {
           "x": 0.05
          },
          "xaxis": {
           "automargin": true,
           "gridcolor": "white",
           "linecolor": "white",
           "ticks": "",
           "title": {
            "standoff": 15
           },
           "zerolinecolor": "white",
           "zerolinewidth": 2
          },
          "yaxis": {
           "automargin": true,
           "gridcolor": "white",
           "linecolor": "white",
           "ticks": "",
           "title": {
            "standoff": 15
           },
           "zerolinecolor": "white",
           "zerolinewidth": 2
          }
         }
        },
        "title": {
         "text": "Correlation Matrix of Integer Columns"
        },
        "xaxis": {
         "anchor": "y",
         "constrain": "domain",
         "domain": [
          0,
          1
         ],
         "scaleanchor": "y"
        },
        "yaxis": {
         "anchor": "x",
         "autorange": "reversed",
         "constrain": "domain",
         "domain": [
          0,
          1
         ]
        }
       }
      }
     },
     "metadata": {},
     "output_type": "display_data"
    }
   ],
   "source": [
    "# เลือกเฉพาะคอลัมน์ที่เป็น int\n",
    "df_int = df.select_dtypes(include='int')\n",
    "\n",
    "# คำนวณ correlation\n",
    "corr_matrix = df_int.corr()\n",
    "\n",
    "# แสดงผล\n",
    "\n",
    "\n",
    "fig = px.imshow(corr_matrix,\n",
    "                text_auto=True,\n",
    "                title=\"Correlation Matrix of Integer Columns\",\n",
    "                color_continuous_scale='RdBu_r',\n",
    "                zmin=-1, zmax=1)\n",
    "fig.show()\n"
   ]
  },
  {
   "cell_type": "markdown",
   "metadata": {},
   "source": [
    "# EDA func isnull"
   ]
  },
  {
   "cell_type": "code",
   "execution_count": 514,
   "metadata": {},
   "outputs": [
    {
     "data": {
      "text/html": [
       "<div>\n",
       "<style scoped>\n",
       "    .dataframe tbody tr th:only-of-type {\n",
       "        vertical-align: middle;\n",
       "    }\n",
       "\n",
       "    .dataframe tbody tr th {\n",
       "        vertical-align: top;\n",
       "    }\n",
       "\n",
       "    .dataframe thead th {\n",
       "        text-align: right;\n",
       "    }\n",
       "</style>\n",
       "<table border=\"1\" class=\"dataframe\">\n",
       "  <thead>\n",
       "    <tr style=\"text-align: right;\">\n",
       "      <th></th>\n",
       "      <th>months_as_customer</th>\n",
       "      <th>age</th>\n",
       "      <th>policy_number</th>\n",
       "      <th>policy_bind_date</th>\n",
       "      <th>policy_state</th>\n",
       "      <th>policy_csl</th>\n",
       "      <th>policy_deductable</th>\n",
       "      <th>policy_annual_premium</th>\n",
       "      <th>umbrella_limit</th>\n",
       "      <th>insured_zip</th>\n",
       "      <th>...</th>\n",
       "      <th>witnesses</th>\n",
       "      <th>police_report_available</th>\n",
       "      <th>total_claim_amount</th>\n",
       "      <th>injury_claim</th>\n",
       "      <th>property_claim</th>\n",
       "      <th>vehicle_claim</th>\n",
       "      <th>auto_make</th>\n",
       "      <th>auto_model</th>\n",
       "      <th>auto_year</th>\n",
       "      <th>fraud_reported</th>\n",
       "    </tr>\n",
       "  </thead>\n",
       "  <tbody>\n",
       "    <tr>\n",
       "      <th>0</th>\n",
       "      <td>328</td>\n",
       "      <td>48</td>\n",
       "      <td>521585</td>\n",
       "      <td>2014-10-17 00:00:00</td>\n",
       "      <td>OH</td>\n",
       "      <td>250/500</td>\n",
       "      <td>1000</td>\n",
       "      <td>1406.91</td>\n",
       "      <td>0</td>\n",
       "      <td>466132</td>\n",
       "      <td>...</td>\n",
       "      <td>2</td>\n",
       "      <td>YES</td>\n",
       "      <td>71610</td>\n",
       "      <td>6510</td>\n",
       "      <td>13020</td>\n",
       "      <td>52080</td>\n",
       "      <td>Saab</td>\n",
       "      <td>92x</td>\n",
       "      <td>2004</td>\n",
       "      <td>Y</td>\n",
       "    </tr>\n",
       "    <tr>\n",
       "      <th>1</th>\n",
       "      <td>228</td>\n",
       "      <td>42</td>\n",
       "      <td>342868</td>\n",
       "      <td>2006-06-27 00:00:00</td>\n",
       "      <td>IN</td>\n",
       "      <td>250/500</td>\n",
       "      <td>2000</td>\n",
       "      <td>1197.22</td>\n",
       "      <td>5000000</td>\n",
       "      <td>468176</td>\n",
       "      <td>...</td>\n",
       "      <td>0</td>\n",
       "      <td>?</td>\n",
       "      <td>5070</td>\n",
       "      <td>780</td>\n",
       "      <td>780</td>\n",
       "      <td>3510</td>\n",
       "      <td>Mercedes</td>\n",
       "      <td>E400</td>\n",
       "      <td>2007</td>\n",
       "      <td>Y</td>\n",
       "    </tr>\n",
       "    <tr>\n",
       "      <th>2</th>\n",
       "      <td>134</td>\n",
       "      <td>29</td>\n",
       "      <td>687698</td>\n",
       "      <td>2000-09-06 00:00:00</td>\n",
       "      <td>OH</td>\n",
       "      <td>100/300</td>\n",
       "      <td>2000</td>\n",
       "      <td>1413.14</td>\n",
       "      <td>5000000</td>\n",
       "      <td>430632</td>\n",
       "      <td>...</td>\n",
       "      <td>3</td>\n",
       "      <td>NO</td>\n",
       "      <td>34650</td>\n",
       "      <td>7700</td>\n",
       "      <td>3850</td>\n",
       "      <td>23100</td>\n",
       "      <td>Dodge</td>\n",
       "      <td>RAM</td>\n",
       "      <td>2007</td>\n",
       "      <td>N</td>\n",
       "    </tr>\n",
       "    <tr>\n",
       "      <th>3</th>\n",
       "      <td>256</td>\n",
       "      <td>41</td>\n",
       "      <td>227811</td>\n",
       "      <td>1990-05-25 00:00:00</td>\n",
       "      <td>IL</td>\n",
       "      <td>250/500</td>\n",
       "      <td>2000</td>\n",
       "      <td>1415.74</td>\n",
       "      <td>6000000</td>\n",
       "      <td>608117</td>\n",
       "      <td>...</td>\n",
       "      <td>2</td>\n",
       "      <td>NO</td>\n",
       "      <td>63400</td>\n",
       "      <td>6340</td>\n",
       "      <td>6340</td>\n",
       "      <td>50720</td>\n",
       "      <td>Chevrolet</td>\n",
       "      <td>Tahoe</td>\n",
       "      <td>2014</td>\n",
       "      <td>Y</td>\n",
       "    </tr>\n",
       "    <tr>\n",
       "      <th>4</th>\n",
       "      <td>228</td>\n",
       "      <td>44</td>\n",
       "      <td>367455</td>\n",
       "      <td>2014-06-06 00:00:00</td>\n",
       "      <td>IL</td>\n",
       "      <td>500/1000</td>\n",
       "      <td>1000</td>\n",
       "      <td>1583.91</td>\n",
       "      <td>6000000</td>\n",
       "      <td>610706</td>\n",
       "      <td>...</td>\n",
       "      <td>1</td>\n",
       "      <td>NO</td>\n",
       "      <td>6500</td>\n",
       "      <td>1300</td>\n",
       "      <td>650</td>\n",
       "      <td>4550</td>\n",
       "      <td>Accura</td>\n",
       "      <td>RSX</td>\n",
       "      <td>2009</td>\n",
       "      <td>N</td>\n",
       "    </tr>\n",
       "  </tbody>\n",
       "</table>\n",
       "<p>5 rows × 39 columns</p>\n",
       "</div>"
      ],
      "text/plain": [
       "  months_as_customer age policy_number     policy_bind_date policy_state  \\\n",
       "0                328  48        521585  2014-10-17 00:00:00           OH   \n",
       "1                228  42        342868  2006-06-27 00:00:00           IN   \n",
       "2                134  29        687698  2000-09-06 00:00:00           OH   \n",
       "3                256  41        227811  1990-05-25 00:00:00           IL   \n",
       "4                228  44        367455  2014-06-06 00:00:00           IL   \n",
       "\n",
       "  policy_csl policy_deductable policy_annual_premium umbrella_limit  \\\n",
       "0    250/500              1000               1406.91              0   \n",
       "1    250/500              2000               1197.22        5000000   \n",
       "2    100/300              2000               1413.14        5000000   \n",
       "3    250/500              2000               1415.74        6000000   \n",
       "4   500/1000              1000               1583.91        6000000   \n",
       "\n",
       "  insured_zip  ... witnesses police_report_available total_claim_amount  \\\n",
       "0      466132  ...         2                     YES              71610   \n",
       "1      468176  ...         0                       ?               5070   \n",
       "2      430632  ...         3                      NO              34650   \n",
       "3      608117  ...         2                      NO              63400   \n",
       "4      610706  ...         1                      NO               6500   \n",
       "\n",
       "  injury_claim property_claim vehicle_claim  auto_make auto_model auto_year  \\\n",
       "0         6510          13020         52080       Saab        92x      2004   \n",
       "1          780            780          3510   Mercedes       E400      2007   \n",
       "2         7700           3850         23100      Dodge        RAM      2007   \n",
       "3         6340           6340         50720  Chevrolet      Tahoe      2014   \n",
       "4         1300            650          4550     Accura        RSX      2009   \n",
       "\n",
       "  fraud_reported  \n",
       "0              Y  \n",
       "1              Y  \n",
       "2              N  \n",
       "3              Y  \n",
       "4              N  \n",
       "\n",
       "[5 rows x 39 columns]"
      ]
     },
     "execution_count": 514,
     "metadata": {},
     "output_type": "execute_result"
    }
   ],
   "source": [
    "df = pd.read_excel(\"Worksheet in Case Study question 2.xlsx\", dtype=str)\n",
    "\n",
    "df.head()"
   ]
  },
  {
   "cell_type": "code",
   "execution_count": 515,
   "metadata": {},
   "outputs": [
    {
     "name": "stdout",
     "output_type": "stream",
     "text": [
      "[]\n"
     ]
    }
   ],
   "source": [
    "num_cols = df.select_dtypes(include=['int', 'float']).columns.tolist()\n",
    "print(num_cols)\n"
   ]
  },
  {
   "cell_type": "code",
   "execution_count": 516,
   "metadata": {},
   "outputs": [
    {
     "name": "stdout",
     "output_type": "stream",
     "text": [
      "<class 'pandas.core.frame.DataFrame'>\n",
      "RangeIndex: 1000 entries, 0 to 999\n",
      "Data columns (total 39 columns):\n",
      " #   Column                       Non-Null Count  Dtype \n",
      "---  ------                       --------------  ----- \n",
      " 0   months_as_customer           1000 non-null   object\n",
      " 1   age                          1000 non-null   object\n",
      " 2   policy_number                1000 non-null   object\n",
      " 3   policy_bind_date             1000 non-null   object\n",
      " 4   policy_state                 1000 non-null   object\n",
      " 5   policy_csl                   1000 non-null   object\n",
      " 6   policy_deductable            1000 non-null   object\n",
      " 7   policy_annual_premium        1000 non-null   object\n",
      " 8   umbrella_limit               1000 non-null   object\n",
      " 9   insured_zip                  1000 non-null   object\n",
      " 10  insured_sex                  1000 non-null   object\n",
      " 11  insured_education_level      1000 non-null   object\n",
      " 12  insured_occupation           1000 non-null   object\n",
      " 13  insured_hobbies              1000 non-null   object\n",
      " 14  insured_relationship         1000 non-null   object\n",
      " 15  capital-gains                1000 non-null   object\n",
      " 16  capital-loss                 1000 non-null   object\n",
      " 17  incident_date                1000 non-null   object\n",
      " 18  incident_type                1000 non-null   object\n",
      " 19  collision_type               1000 non-null   object\n",
      " 20  incident_severity            1000 non-null   object\n",
      " 21  authorities_contacted        909 non-null    object\n",
      " 22  incident_state               1000 non-null   object\n",
      " 23  incident_city                1000 non-null   object\n",
      " 24  incident_location            1000 non-null   object\n",
      " 25  incident_hour_of_the_day     1000 non-null   object\n",
      " 26  number_of_vehicles_involved  1000 non-null   object\n",
      " 27  property_damage              1000 non-null   object\n",
      " 28  bodily_injuries              1000 non-null   object\n",
      " 29  witnesses                    1000 non-null   object\n",
      " 30  police_report_available      1000 non-null   object\n",
      " 31  total_claim_amount           1000 non-null   object\n",
      " 32  injury_claim                 1000 non-null   object\n",
      " 33  property_claim               1000 non-null   object\n",
      " 34  vehicle_claim                1000 non-null   object\n",
      " 35  auto_make                    1000 non-null   object\n",
      " 36  auto_model                   1000 non-null   object\n",
      " 37  auto_year                    1000 non-null   object\n",
      " 38  fraud_reported               1000 non-null   object\n",
      "dtypes: object(39)\n",
      "memory usage: 304.8+ KB\n"
     ]
    }
   ],
   "source": [
    "df.info()"
   ]
  },
  {
   "cell_type": "markdown",
   "metadata": {},
   "source": [
    "func ckeck info"
   ]
  },
  {
   "cell_type": "code",
   "execution_count": 517,
   "metadata": {},
   "outputs": [],
   "source": [
    "def check_df_info(df):\n",
    "    total_rows = len(df)\n",
    "    null_counts = df.isnull().sum()\n",
    "    outlier_counts = []\n",
    "\n",
    "    for col in df.columns:\n",
    "        if pd.api.types.is_numeric_dtype(df[col]):\n",
    "            q1 = df[col].quantile(0.25)\n",
    "            q3 = df[col].quantile(0.75)\n",
    "            iqr = q3 - q1\n",
    "            lower = q1 - 1.5 * iqr\n",
    "            upper = q3 + 1.5 * iqr\n",
    "            outliers = df[(df[col] < lower) | (df[col] > upper)][col]\n",
    "            outlier_counts.append(len(outliers))\n",
    "        else:\n",
    "            outlier_counts.append(None)\n",
    "\n",
    "    info_table = pd.DataFrame({\n",
    "        'column': df.columns,\n",
    "        'dtype': df.dtypes.values,\n",
    "        'null_count': null_counts.values,\n",
    "        'null_percent': (null_counts.values / total_rows * 100).round(2),\n",
    "        'total_rows': total_rows,\n",
    "        'outlier_count': outlier_counts\n",
    "    })\n",
    "\n",
    "    return info_table\n"
   ]
  },
  {
   "cell_type": "code",
   "execution_count": 518,
   "metadata": {},
   "outputs": [
    {
     "data": {
      "text/html": [
       "<div>\n",
       "<style scoped>\n",
       "    .dataframe tbody tr th:only-of-type {\n",
       "        vertical-align: middle;\n",
       "    }\n",
       "\n",
       "    .dataframe tbody tr th {\n",
       "        vertical-align: top;\n",
       "    }\n",
       "\n",
       "    .dataframe thead th {\n",
       "        text-align: right;\n",
       "    }\n",
       "</style>\n",
       "<table border=\"1\" class=\"dataframe\">\n",
       "  <thead>\n",
       "    <tr style=\"text-align: right;\">\n",
       "      <th></th>\n",
       "      <th>column</th>\n",
       "      <th>dtype</th>\n",
       "      <th>null_count</th>\n",
       "      <th>null_percent</th>\n",
       "      <th>total_rows</th>\n",
       "      <th>outlier_count</th>\n",
       "    </tr>\n",
       "  </thead>\n",
       "  <tbody>\n",
       "    <tr>\n",
       "      <th>0</th>\n",
       "      <td>months_as_customer</td>\n",
       "      <td>object</td>\n",
       "      <td>0</td>\n",
       "      <td>0.0</td>\n",
       "      <td>1000</td>\n",
       "      <td>None</td>\n",
       "    </tr>\n",
       "    <tr>\n",
       "      <th>1</th>\n",
       "      <td>age</td>\n",
       "      <td>object</td>\n",
       "      <td>0</td>\n",
       "      <td>0.0</td>\n",
       "      <td>1000</td>\n",
       "      <td>None</td>\n",
       "    </tr>\n",
       "    <tr>\n",
       "      <th>2</th>\n",
       "      <td>policy_number</td>\n",
       "      <td>object</td>\n",
       "      <td>0</td>\n",
       "      <td>0.0</td>\n",
       "      <td>1000</td>\n",
       "      <td>None</td>\n",
       "    </tr>\n",
       "    <tr>\n",
       "      <th>3</th>\n",
       "      <td>policy_bind_date</td>\n",
       "      <td>object</td>\n",
       "      <td>0</td>\n",
       "      <td>0.0</td>\n",
       "      <td>1000</td>\n",
       "      <td>None</td>\n",
       "    </tr>\n",
       "    <tr>\n",
       "      <th>4</th>\n",
       "      <td>policy_state</td>\n",
       "      <td>object</td>\n",
       "      <td>0</td>\n",
       "      <td>0.0</td>\n",
       "      <td>1000</td>\n",
       "      <td>None</td>\n",
       "    </tr>\n",
       "    <tr>\n",
       "      <th>5</th>\n",
       "      <td>policy_csl</td>\n",
       "      <td>object</td>\n",
       "      <td>0</td>\n",
       "      <td>0.0</td>\n",
       "      <td>1000</td>\n",
       "      <td>None</td>\n",
       "    </tr>\n",
       "    <tr>\n",
       "      <th>6</th>\n",
       "      <td>policy_deductable</td>\n",
       "      <td>object</td>\n",
       "      <td>0</td>\n",
       "      <td>0.0</td>\n",
       "      <td>1000</td>\n",
       "      <td>None</td>\n",
       "    </tr>\n",
       "    <tr>\n",
       "      <th>7</th>\n",
       "      <td>policy_annual_premium</td>\n",
       "      <td>object</td>\n",
       "      <td>0</td>\n",
       "      <td>0.0</td>\n",
       "      <td>1000</td>\n",
       "      <td>None</td>\n",
       "    </tr>\n",
       "    <tr>\n",
       "      <th>8</th>\n",
       "      <td>umbrella_limit</td>\n",
       "      <td>object</td>\n",
       "      <td>0</td>\n",
       "      <td>0.0</td>\n",
       "      <td>1000</td>\n",
       "      <td>None</td>\n",
       "    </tr>\n",
       "    <tr>\n",
       "      <th>9</th>\n",
       "      <td>insured_zip</td>\n",
       "      <td>object</td>\n",
       "      <td>0</td>\n",
       "      <td>0.0</td>\n",
       "      <td>1000</td>\n",
       "      <td>None</td>\n",
       "    </tr>\n",
       "    <tr>\n",
       "      <th>10</th>\n",
       "      <td>insured_sex</td>\n",
       "      <td>object</td>\n",
       "      <td>0</td>\n",
       "      <td>0.0</td>\n",
       "      <td>1000</td>\n",
       "      <td>None</td>\n",
       "    </tr>\n",
       "    <tr>\n",
       "      <th>11</th>\n",
       "      <td>insured_education_level</td>\n",
       "      <td>object</td>\n",
       "      <td>0</td>\n",
       "      <td>0.0</td>\n",
       "      <td>1000</td>\n",
       "      <td>None</td>\n",
       "    </tr>\n",
       "    <tr>\n",
       "      <th>12</th>\n",
       "      <td>insured_occupation</td>\n",
       "      <td>object</td>\n",
       "      <td>0</td>\n",
       "      <td>0.0</td>\n",
       "      <td>1000</td>\n",
       "      <td>None</td>\n",
       "    </tr>\n",
       "    <tr>\n",
       "      <th>13</th>\n",
       "      <td>insured_hobbies</td>\n",
       "      <td>object</td>\n",
       "      <td>0</td>\n",
       "      <td>0.0</td>\n",
       "      <td>1000</td>\n",
       "      <td>None</td>\n",
       "    </tr>\n",
       "    <tr>\n",
       "      <th>14</th>\n",
       "      <td>insured_relationship</td>\n",
       "      <td>object</td>\n",
       "      <td>0</td>\n",
       "      <td>0.0</td>\n",
       "      <td>1000</td>\n",
       "      <td>None</td>\n",
       "    </tr>\n",
       "    <tr>\n",
       "      <th>15</th>\n",
       "      <td>capital-gains</td>\n",
       "      <td>object</td>\n",
       "      <td>0</td>\n",
       "      <td>0.0</td>\n",
       "      <td>1000</td>\n",
       "      <td>None</td>\n",
       "    </tr>\n",
       "    <tr>\n",
       "      <th>16</th>\n",
       "      <td>capital-loss</td>\n",
       "      <td>object</td>\n",
       "      <td>0</td>\n",
       "      <td>0.0</td>\n",
       "      <td>1000</td>\n",
       "      <td>None</td>\n",
       "    </tr>\n",
       "    <tr>\n",
       "      <th>17</th>\n",
       "      <td>incident_date</td>\n",
       "      <td>object</td>\n",
       "      <td>0</td>\n",
       "      <td>0.0</td>\n",
       "      <td>1000</td>\n",
       "      <td>None</td>\n",
       "    </tr>\n",
       "    <tr>\n",
       "      <th>18</th>\n",
       "      <td>incident_type</td>\n",
       "      <td>object</td>\n",
       "      <td>0</td>\n",
       "      <td>0.0</td>\n",
       "      <td>1000</td>\n",
       "      <td>None</td>\n",
       "    </tr>\n",
       "    <tr>\n",
       "      <th>19</th>\n",
       "      <td>collision_type</td>\n",
       "      <td>object</td>\n",
       "      <td>0</td>\n",
       "      <td>0.0</td>\n",
       "      <td>1000</td>\n",
       "      <td>None</td>\n",
       "    </tr>\n",
       "    <tr>\n",
       "      <th>20</th>\n",
       "      <td>incident_severity</td>\n",
       "      <td>object</td>\n",
       "      <td>0</td>\n",
       "      <td>0.0</td>\n",
       "      <td>1000</td>\n",
       "      <td>None</td>\n",
       "    </tr>\n",
       "    <tr>\n",
       "      <th>21</th>\n",
       "      <td>authorities_contacted</td>\n",
       "      <td>object</td>\n",
       "      <td>91</td>\n",
       "      <td>9.1</td>\n",
       "      <td>1000</td>\n",
       "      <td>None</td>\n",
       "    </tr>\n",
       "    <tr>\n",
       "      <th>22</th>\n",
       "      <td>incident_state</td>\n",
       "      <td>object</td>\n",
       "      <td>0</td>\n",
       "      <td>0.0</td>\n",
       "      <td>1000</td>\n",
       "      <td>None</td>\n",
       "    </tr>\n",
       "    <tr>\n",
       "      <th>23</th>\n",
       "      <td>incident_city</td>\n",
       "      <td>object</td>\n",
       "      <td>0</td>\n",
       "      <td>0.0</td>\n",
       "      <td>1000</td>\n",
       "      <td>None</td>\n",
       "    </tr>\n",
       "    <tr>\n",
       "      <th>24</th>\n",
       "      <td>incident_location</td>\n",
       "      <td>object</td>\n",
       "      <td>0</td>\n",
       "      <td>0.0</td>\n",
       "      <td>1000</td>\n",
       "      <td>None</td>\n",
       "    </tr>\n",
       "    <tr>\n",
       "      <th>25</th>\n",
       "      <td>incident_hour_of_the_day</td>\n",
       "      <td>object</td>\n",
       "      <td>0</td>\n",
       "      <td>0.0</td>\n",
       "      <td>1000</td>\n",
       "      <td>None</td>\n",
       "    </tr>\n",
       "    <tr>\n",
       "      <th>26</th>\n",
       "      <td>number_of_vehicles_involved</td>\n",
       "      <td>object</td>\n",
       "      <td>0</td>\n",
       "      <td>0.0</td>\n",
       "      <td>1000</td>\n",
       "      <td>None</td>\n",
       "    </tr>\n",
       "    <tr>\n",
       "      <th>27</th>\n",
       "      <td>property_damage</td>\n",
       "      <td>object</td>\n",
       "      <td>0</td>\n",
       "      <td>0.0</td>\n",
       "      <td>1000</td>\n",
       "      <td>None</td>\n",
       "    </tr>\n",
       "    <tr>\n",
       "      <th>28</th>\n",
       "      <td>bodily_injuries</td>\n",
       "      <td>object</td>\n",
       "      <td>0</td>\n",
       "      <td>0.0</td>\n",
       "      <td>1000</td>\n",
       "      <td>None</td>\n",
       "    </tr>\n",
       "    <tr>\n",
       "      <th>29</th>\n",
       "      <td>witnesses</td>\n",
       "      <td>object</td>\n",
       "      <td>0</td>\n",
       "      <td>0.0</td>\n",
       "      <td>1000</td>\n",
       "      <td>None</td>\n",
       "    </tr>\n",
       "    <tr>\n",
       "      <th>30</th>\n",
       "      <td>police_report_available</td>\n",
       "      <td>object</td>\n",
       "      <td>0</td>\n",
       "      <td>0.0</td>\n",
       "      <td>1000</td>\n",
       "      <td>None</td>\n",
       "    </tr>\n",
       "    <tr>\n",
       "      <th>31</th>\n",
       "      <td>total_claim_amount</td>\n",
       "      <td>object</td>\n",
       "      <td>0</td>\n",
       "      <td>0.0</td>\n",
       "      <td>1000</td>\n",
       "      <td>None</td>\n",
       "    </tr>\n",
       "    <tr>\n",
       "      <th>32</th>\n",
       "      <td>injury_claim</td>\n",
       "      <td>object</td>\n",
       "      <td>0</td>\n",
       "      <td>0.0</td>\n",
       "      <td>1000</td>\n",
       "      <td>None</td>\n",
       "    </tr>\n",
       "    <tr>\n",
       "      <th>33</th>\n",
       "      <td>property_claim</td>\n",
       "      <td>object</td>\n",
       "      <td>0</td>\n",
       "      <td>0.0</td>\n",
       "      <td>1000</td>\n",
       "      <td>None</td>\n",
       "    </tr>\n",
       "    <tr>\n",
       "      <th>34</th>\n",
       "      <td>vehicle_claim</td>\n",
       "      <td>object</td>\n",
       "      <td>0</td>\n",
       "      <td>0.0</td>\n",
       "      <td>1000</td>\n",
       "      <td>None</td>\n",
       "    </tr>\n",
       "    <tr>\n",
       "      <th>35</th>\n",
       "      <td>auto_make</td>\n",
       "      <td>object</td>\n",
       "      <td>0</td>\n",
       "      <td>0.0</td>\n",
       "      <td>1000</td>\n",
       "      <td>None</td>\n",
       "    </tr>\n",
       "    <tr>\n",
       "      <th>36</th>\n",
       "      <td>auto_model</td>\n",
       "      <td>object</td>\n",
       "      <td>0</td>\n",
       "      <td>0.0</td>\n",
       "      <td>1000</td>\n",
       "      <td>None</td>\n",
       "    </tr>\n",
       "    <tr>\n",
       "      <th>37</th>\n",
       "      <td>auto_year</td>\n",
       "      <td>object</td>\n",
       "      <td>0</td>\n",
       "      <td>0.0</td>\n",
       "      <td>1000</td>\n",
       "      <td>None</td>\n",
       "    </tr>\n",
       "    <tr>\n",
       "      <th>38</th>\n",
       "      <td>fraud_reported</td>\n",
       "      <td>object</td>\n",
       "      <td>0</td>\n",
       "      <td>0.0</td>\n",
       "      <td>1000</td>\n",
       "      <td>None</td>\n",
       "    </tr>\n",
       "  </tbody>\n",
       "</table>\n",
       "</div>"
      ],
      "text/plain": [
       "                         column   dtype  null_count  null_percent  total_rows  \\\n",
       "0            months_as_customer  object           0           0.0        1000   \n",
       "1                           age  object           0           0.0        1000   \n",
       "2                 policy_number  object           0           0.0        1000   \n",
       "3              policy_bind_date  object           0           0.0        1000   \n",
       "4                  policy_state  object           0           0.0        1000   \n",
       "5                    policy_csl  object           0           0.0        1000   \n",
       "6             policy_deductable  object           0           0.0        1000   \n",
       "7         policy_annual_premium  object           0           0.0        1000   \n",
       "8                umbrella_limit  object           0           0.0        1000   \n",
       "9                   insured_zip  object           0           0.0        1000   \n",
       "10                  insured_sex  object           0           0.0        1000   \n",
       "11      insured_education_level  object           0           0.0        1000   \n",
       "12           insured_occupation  object           0           0.0        1000   \n",
       "13              insured_hobbies  object           0           0.0        1000   \n",
       "14         insured_relationship  object           0           0.0        1000   \n",
       "15                capital-gains  object           0           0.0        1000   \n",
       "16                 capital-loss  object           0           0.0        1000   \n",
       "17                incident_date  object           0           0.0        1000   \n",
       "18                incident_type  object           0           0.0        1000   \n",
       "19               collision_type  object           0           0.0        1000   \n",
       "20            incident_severity  object           0           0.0        1000   \n",
       "21        authorities_contacted  object          91           9.1        1000   \n",
       "22               incident_state  object           0           0.0        1000   \n",
       "23                incident_city  object           0           0.0        1000   \n",
       "24            incident_location  object           0           0.0        1000   \n",
       "25     incident_hour_of_the_day  object           0           0.0        1000   \n",
       "26  number_of_vehicles_involved  object           0           0.0        1000   \n",
       "27              property_damage  object           0           0.0        1000   \n",
       "28              bodily_injuries  object           0           0.0        1000   \n",
       "29                    witnesses  object           0           0.0        1000   \n",
       "30      police_report_available  object           0           0.0        1000   \n",
       "31           total_claim_amount  object           0           0.0        1000   \n",
       "32                 injury_claim  object           0           0.0        1000   \n",
       "33               property_claim  object           0           0.0        1000   \n",
       "34                vehicle_claim  object           0           0.0        1000   \n",
       "35                    auto_make  object           0           0.0        1000   \n",
       "36                   auto_model  object           0           0.0        1000   \n",
       "37                    auto_year  object           0           0.0        1000   \n",
       "38               fraud_reported  object           0           0.0        1000   \n",
       "\n",
       "   outlier_count  \n",
       "0           None  \n",
       "1           None  \n",
       "2           None  \n",
       "3           None  \n",
       "4           None  \n",
       "5           None  \n",
       "6           None  \n",
       "7           None  \n",
       "8           None  \n",
       "9           None  \n",
       "10          None  \n",
       "11          None  \n",
       "12          None  \n",
       "13          None  \n",
       "14          None  \n",
       "15          None  \n",
       "16          None  \n",
       "17          None  \n",
       "18          None  \n",
       "19          None  \n",
       "20          None  \n",
       "21          None  \n",
       "22          None  \n",
       "23          None  \n",
       "24          None  \n",
       "25          None  \n",
       "26          None  \n",
       "27          None  \n",
       "28          None  \n",
       "29          None  \n",
       "30          None  \n",
       "31          None  \n",
       "32          None  \n",
       "33          None  \n",
       "34          None  \n",
       "35          None  \n",
       "36          None  \n",
       "37          None  \n",
       "38          None  "
      ]
     },
     "execution_count": 518,
     "metadata": {},
     "output_type": "execute_result"
    }
   ],
   "source": [
    "summary = check_df_info(df)\n",
    "summary"
   ]
  },
  {
   "cell_type": "markdown",
   "metadata": {},
   "source": [
    "check duplicates"
   ]
  },
  {
   "cell_type": "code",
   "execution_count": 519,
   "metadata": {},
   "outputs": [],
   "source": [
    "def check_duplicates(df, subset=None, keep='first', show_sample=True):\n",
    "    \"\"\"\n",
    "    ตรวจสอบค่าซ้ำใน DataFrame\n",
    "    - subset: ระบุคอลัมน์ที่ต้องการตรวจซ้ำ (ถ้าไม่ระบุ จะตรวจทั้งแถว)\n",
    "    - keep: เลือกว่าจะเก็บแถวไหน ('first', 'last', False)\n",
    "    - show_sample: แสดงตัวอย่างค่าซ้ำหรือไม่\n",
    "    \n",
    "    Return: dict สรุปผล\n",
    "    \"\"\"\n",
    "    dup_mask = df.duplicated(subset=subset, keep=keep)\n",
    "    dup_df = df[dup_mask]\n",
    "    \n",
    "    result = {\n",
    "        'total_duplicates': dup_mask.sum(),\n",
    "        'duplicate_rows': dup_df if show_sample else None,\n",
    "        'columns_checked': subset if subset else 'all columns'\n",
    "    }\n",
    "    \n",
    "    return result\n"
   ]
  },
  {
   "cell_type": "code",
   "execution_count": 520,
   "metadata": {},
   "outputs": [
    {
     "name": "stdout",
     "output_type": "stream",
     "text": [
      "จำนวนแถวซ้ำ: 0\n",
      "ตรวจจากคอลัมน์: all columns\n"
     ]
    }
   ],
   "source": [
    "dup_info = check_duplicates(df)\n",
    "print(\"จำนวนแถวซ้ำ:\", dup_info['total_duplicates'])\n",
    "print(\"ตรวจจากคอลัมน์:\", dup_info['columns_checked'])\n",
    "\n"
   ]
  },
  {
   "cell_type": "markdown",
   "metadata": {},
   "source": [
    "select and convert to int "
   ]
  },
  {
   "cell_type": "code",
   "execution_count": 521,
   "metadata": {},
   "outputs": [],
   "source": [
    "def filter_and_convert_columns(df):\n",
    "    # แยกคอลัมน์ตามชนิดข้อมูลที่ต้องการ\n",
    "    int_columns = [\n",
    "        'months_as_customer', 'age', 'policy_deductable',\n",
    "        'umbrella_limit', 'insured_zip', 'capital-gains', 'capital-loss',\n",
    "        'incident_hour_of_the_day', 'number_of_vehicles_involved',\n",
    "        'bodily_injuries', 'witnesses', 'injury_claim',\n",
    "        'property_claim', 'vehicle_claim', 'auto_year'\n",
    "    ]\n",
    "\n",
    "    float_columns = ['policy_annual_premium']\n",
    "\n",
    "    all_columns = int_columns + float_columns\n",
    "\n",
    "    # คัดเฉพาะคอลัมน์ที่มีอยู่จริงใน df\n",
    "    existing_columns = [col for col in all_columns if col in df.columns]\n",
    "\n",
    "    # เลือกเฉพาะคอลัมน์ที่ต้องการ\n",
    "    df = df[existing_columns].copy()\n",
    "\n",
    "    # แปลงชนิดข้อมูล\n",
    "    df[int_columns] = df[int_columns].fillna(0).astype(int)\n",
    "    df[float_columns] = df[float_columns].fillna(0.0).astype(float)\n",
    "\n",
    "    return df\n",
    "\n"
   ]
  },
  {
   "cell_type": "code",
   "execution_count": 522,
   "metadata": {},
   "outputs": [
    {
     "data": {
      "text/html": [
       "<div>\n",
       "<style scoped>\n",
       "    .dataframe tbody tr th:only-of-type {\n",
       "        vertical-align: middle;\n",
       "    }\n",
       "\n",
       "    .dataframe tbody tr th {\n",
       "        vertical-align: top;\n",
       "    }\n",
       "\n",
       "    .dataframe thead th {\n",
       "        text-align: right;\n",
       "    }\n",
       "</style>\n",
       "<table border=\"1\" class=\"dataframe\">\n",
       "  <thead>\n",
       "    <tr style=\"text-align: right;\">\n",
       "      <th></th>\n",
       "      <th>column</th>\n",
       "      <th>dtype</th>\n",
       "      <th>null_count</th>\n",
       "      <th>null_percent</th>\n",
       "      <th>total_rows</th>\n",
       "      <th>outlier_count</th>\n",
       "    </tr>\n",
       "  </thead>\n",
       "  <tbody>\n",
       "    <tr>\n",
       "      <th>0</th>\n",
       "      <td>months_as_customer</td>\n",
       "      <td>int64</td>\n",
       "      <td>0</td>\n",
       "      <td>0.0</td>\n",
       "      <td>1000</td>\n",
       "      <td>0</td>\n",
       "    </tr>\n",
       "    <tr>\n",
       "      <th>1</th>\n",
       "      <td>age</td>\n",
       "      <td>int64</td>\n",
       "      <td>0</td>\n",
       "      <td>0.0</td>\n",
       "      <td>1000</td>\n",
       "      <td>4</td>\n",
       "    </tr>\n",
       "    <tr>\n",
       "      <th>2</th>\n",
       "      <td>policy_deductable</td>\n",
       "      <td>int64</td>\n",
       "      <td>0</td>\n",
       "      <td>0.0</td>\n",
       "      <td>1000</td>\n",
       "      <td>0</td>\n",
       "    </tr>\n",
       "    <tr>\n",
       "      <th>3</th>\n",
       "      <td>umbrella_limit</td>\n",
       "      <td>int64</td>\n",
       "      <td>0</td>\n",
       "      <td>0.0</td>\n",
       "      <td>1000</td>\n",
       "      <td>202</td>\n",
       "    </tr>\n",
       "    <tr>\n",
       "      <th>4</th>\n",
       "      <td>insured_zip</td>\n",
       "      <td>int64</td>\n",
       "      <td>0</td>\n",
       "      <td>0.0</td>\n",
       "      <td>1000</td>\n",
       "      <td>0</td>\n",
       "    </tr>\n",
       "    <tr>\n",
       "      <th>5</th>\n",
       "      <td>capital-gains</td>\n",
       "      <td>int64</td>\n",
       "      <td>0</td>\n",
       "      <td>0.0</td>\n",
       "      <td>1000</td>\n",
       "      <td>0</td>\n",
       "    </tr>\n",
       "    <tr>\n",
       "      <th>6</th>\n",
       "      <td>capital-loss</td>\n",
       "      <td>int64</td>\n",
       "      <td>0</td>\n",
       "      <td>0.0</td>\n",
       "      <td>1000</td>\n",
       "      <td>0</td>\n",
       "    </tr>\n",
       "    <tr>\n",
       "      <th>7</th>\n",
       "      <td>incident_hour_of_the_day</td>\n",
       "      <td>int64</td>\n",
       "      <td>0</td>\n",
       "      <td>0.0</td>\n",
       "      <td>1000</td>\n",
       "      <td>0</td>\n",
       "    </tr>\n",
       "    <tr>\n",
       "      <th>8</th>\n",
       "      <td>number_of_vehicles_involved</td>\n",
       "      <td>int64</td>\n",
       "      <td>0</td>\n",
       "      <td>0.0</td>\n",
       "      <td>1000</td>\n",
       "      <td>0</td>\n",
       "    </tr>\n",
       "    <tr>\n",
       "      <th>9</th>\n",
       "      <td>bodily_injuries</td>\n",
       "      <td>int64</td>\n",
       "      <td>0</td>\n",
       "      <td>0.0</td>\n",
       "      <td>1000</td>\n",
       "      <td>0</td>\n",
       "    </tr>\n",
       "    <tr>\n",
       "      <th>10</th>\n",
       "      <td>witnesses</td>\n",
       "      <td>int64</td>\n",
       "      <td>0</td>\n",
       "      <td>0.0</td>\n",
       "      <td>1000</td>\n",
       "      <td>0</td>\n",
       "    </tr>\n",
       "    <tr>\n",
       "      <th>11</th>\n",
       "      <td>injury_claim</td>\n",
       "      <td>int64</td>\n",
       "      <td>0</td>\n",
       "      <td>0.0</td>\n",
       "      <td>1000</td>\n",
       "      <td>0</td>\n",
       "    </tr>\n",
       "    <tr>\n",
       "      <th>12</th>\n",
       "      <td>property_claim</td>\n",
       "      <td>int64</td>\n",
       "      <td>0</td>\n",
       "      <td>0.0</td>\n",
       "      <td>1000</td>\n",
       "      <td>6</td>\n",
       "    </tr>\n",
       "    <tr>\n",
       "      <th>13</th>\n",
       "      <td>vehicle_claim</td>\n",
       "      <td>int64</td>\n",
       "      <td>0</td>\n",
       "      <td>0.0</td>\n",
       "      <td>1000</td>\n",
       "      <td>0</td>\n",
       "    </tr>\n",
       "    <tr>\n",
       "      <th>14</th>\n",
       "      <td>auto_year</td>\n",
       "      <td>int64</td>\n",
       "      <td>0</td>\n",
       "      <td>0.0</td>\n",
       "      <td>1000</td>\n",
       "      <td>0</td>\n",
       "    </tr>\n",
       "    <tr>\n",
       "      <th>15</th>\n",
       "      <td>policy_annual_premium</td>\n",
       "      <td>float64</td>\n",
       "      <td>0</td>\n",
       "      <td>0.0</td>\n",
       "      <td>1000</td>\n",
       "      <td>9</td>\n",
       "    </tr>\n",
       "  </tbody>\n",
       "</table>\n",
       "</div>"
      ],
      "text/plain": [
       "                         column    dtype  null_count  null_percent  \\\n",
       "0            months_as_customer    int64           0           0.0   \n",
       "1                           age    int64           0           0.0   \n",
       "2             policy_deductable    int64           0           0.0   \n",
       "3                umbrella_limit    int64           0           0.0   \n",
       "4                   insured_zip    int64           0           0.0   \n",
       "5                 capital-gains    int64           0           0.0   \n",
       "6                  capital-loss    int64           0           0.0   \n",
       "7      incident_hour_of_the_day    int64           0           0.0   \n",
       "8   number_of_vehicles_involved    int64           0           0.0   \n",
       "9               bodily_injuries    int64           0           0.0   \n",
       "10                    witnesses    int64           0           0.0   \n",
       "11                 injury_claim    int64           0           0.0   \n",
       "12               property_claim    int64           0           0.0   \n",
       "13                vehicle_claim    int64           0           0.0   \n",
       "14                    auto_year    int64           0           0.0   \n",
       "15        policy_annual_premium  float64           0           0.0   \n",
       "\n",
       "    total_rows  outlier_count  \n",
       "0         1000              0  \n",
       "1         1000              4  \n",
       "2         1000              0  \n",
       "3         1000            202  \n",
       "4         1000              0  \n",
       "5         1000              0  \n",
       "6         1000              0  \n",
       "7         1000              0  \n",
       "8         1000              0  \n",
       "9         1000              0  \n",
       "10        1000              0  \n",
       "11        1000              0  \n",
       "12        1000              6  \n",
       "13        1000              0  \n",
       "14        1000              0  \n",
       "15        1000              9  "
      ]
     },
     "execution_count": 522,
     "metadata": {},
     "output_type": "execute_result"
    }
   ],
   "source": [
    "df_select_int = filter_and_convert_columns(df)\n",
    "summary = check_df_info(df_select_int)\n",
    "summary"
   ]
  },
  {
   "cell_type": "markdown",
   "metadata": {},
   "source": [
    "mockup data to drop nan ,dup ,outliers"
   ]
  },
  {
   "cell_type": "code",
   "execution_count": 523,
   "metadata": {},
   "outputs": [
    {
     "data": {
      "text/html": [
       "<div>\n",
       "<style scoped>\n",
       "    .dataframe tbody tr th:only-of-type {\n",
       "        vertical-align: middle;\n",
       "    }\n",
       "\n",
       "    .dataframe tbody tr th {\n",
       "        vertical-align: top;\n",
       "    }\n",
       "\n",
       "    .dataframe thead th {\n",
       "        text-align: right;\n",
       "    }\n",
       "</style>\n",
       "<table border=\"1\" class=\"dataframe\">\n",
       "  <thead>\n",
       "    <tr style=\"text-align: right;\">\n",
       "      <th></th>\n",
       "      <th>months_as_customer</th>\n",
       "      <th>age</th>\n",
       "      <th>policy_deductable</th>\n",
       "      <th>umbrella_limit</th>\n",
       "      <th>insured_zip</th>\n",
       "      <th>capital-gains</th>\n",
       "      <th>capital-loss</th>\n",
       "      <th>incident_hour_of_the_day</th>\n",
       "      <th>number_of_vehicles_involved</th>\n",
       "      <th>bodily_injuries</th>\n",
       "      <th>witnesses</th>\n",
       "      <th>injury_claim</th>\n",
       "      <th>property_claim</th>\n",
       "      <th>vehicle_claim</th>\n",
       "      <th>auto_year</th>\n",
       "      <th>policy_annual_premium</th>\n",
       "    </tr>\n",
       "  </thead>\n",
       "  <tbody>\n",
       "    <tr>\n",
       "      <th>0</th>\n",
       "      <td>112.0</td>\n",
       "      <td>565.0</td>\n",
       "      <td>743.0</td>\n",
       "      <td>256.0</td>\n",
       "      <td>NaN</td>\n",
       "      <td>635.0</td>\n",
       "      <td>NaN</td>\n",
       "      <td>586.0</td>\n",
       "      <td>900.0</td>\n",
       "      <td>943.0</td>\n",
       "      <td>186.0</td>\n",
       "      <td>490.0</td>\n",
       "      <td>NaN</td>\n",
       "      <td>146.0</td>\n",
       "      <td>927.0</td>\n",
       "      <td>333.0</td>\n",
       "    </tr>\n",
       "    <tr>\n",
       "      <th>1</th>\n",
       "      <td>445.0</td>\n",
       "      <td>171.0</td>\n",
       "      <td>494.0</td>\n",
       "      <td>845.0</td>\n",
       "      <td>870.0</td>\n",
       "      <td>297.0</td>\n",
       "      <td>483.0</td>\n",
       "      <td>426.0</td>\n",
       "      <td>478.0</td>\n",
       "      <td>126.0</td>\n",
       "      <td>788.0</td>\n",
       "      <td>993.0</td>\n",
       "      <td>312.0</td>\n",
       "      <td>768.0</td>\n",
       "      <td>581.0</td>\n",
       "      <td>853.0</td>\n",
       "    </tr>\n",
       "    <tr>\n",
       "      <th>2</th>\n",
       "      <td>870.0</td>\n",
       "      <td>211.0</td>\n",
       "      <td>416.0</td>\n",
       "      <td>448.0</td>\n",
       "      <td>923.0</td>\n",
       "      <td>952.0</td>\n",
       "      <td>126.0</td>\n",
       "      <td>177.0</td>\n",
       "      <td>NaN</td>\n",
       "      <td>143.0</td>\n",
       "      <td>862.0</td>\n",
       "      <td>344.0</td>\n",
       "      <td>648.0</td>\n",
       "      <td>908.0</td>\n",
       "      <td>841.0</td>\n",
       "      <td>694.0</td>\n",
       "    </tr>\n",
       "    <tr>\n",
       "      <th>3</th>\n",
       "      <td>280.0</td>\n",
       "      <td>967.0</td>\n",
       "      <td>240.0</td>\n",
       "      <td>212.0</td>\n",
       "      <td>905.0</td>\n",
       "      <td>863.0</td>\n",
       "      <td>839.0</td>\n",
       "      <td>851.0</td>\n",
       "      <td>574.0</td>\n",
       "      <td>67.0</td>\n",
       "      <td>291.0</td>\n",
       "      <td>551.0</td>\n",
       "      <td>65.0</td>\n",
       "      <td>252.0</td>\n",
       "      <td>NaN</td>\n",
       "      <td>139.0</td>\n",
       "    </tr>\n",
       "    <tr>\n",
       "      <th>4</th>\n",
       "      <td>116.0</td>\n",
       "      <td>279.0</td>\n",
       "      <td>758.0</td>\n",
       "      <td>193.0</td>\n",
       "      <td>887.0</td>\n",
       "      <td>672.0</td>\n",
       "      <td>800.0</td>\n",
       "      <td>52.0</td>\n",
       "      <td>160.0</td>\n",
       "      <td>565.0</td>\n",
       "      <td>72.0</td>\n",
       "      <td>768.0</td>\n",
       "      <td>735.0</td>\n",
       "      <td>552.0</td>\n",
       "      <td>849.0</td>\n",
       "      <td>420.0</td>\n",
       "    </tr>\n",
       "    <tr>\n",
       "      <th>...</th>\n",
       "      <td>...</td>\n",
       "      <td>...</td>\n",
       "      <td>...</td>\n",
       "      <td>...</td>\n",
       "      <td>...</td>\n",
       "      <td>...</td>\n",
       "      <td>...</td>\n",
       "      <td>...</td>\n",
       "      <td>...</td>\n",
       "      <td>...</td>\n",
       "      <td>...</td>\n",
       "      <td>...</td>\n",
       "      <td>...</td>\n",
       "      <td>...</td>\n",
       "      <td>...</td>\n",
       "      <td>...</td>\n",
       "    </tr>\n",
       "    <tr>\n",
       "      <th>98</th>\n",
       "      <td>411.0</td>\n",
       "      <td>105.0</td>\n",
       "      <td>719.0</td>\n",
       "      <td>482.0</td>\n",
       "      <td>695.0</td>\n",
       "      <td>960.0</td>\n",
       "      <td>277.0</td>\n",
       "      <td>34.0</td>\n",
       "      <td>833.0</td>\n",
       "      <td>233.0</td>\n",
       "      <td>258.0</td>\n",
       "      <td>262.0</td>\n",
       "      <td>673.0</td>\n",
       "      <td>305.0</td>\n",
       "      <td>166.0</td>\n",
       "      <td>427.0</td>\n",
       "    </tr>\n",
       "    <tr>\n",
       "      <th>99</th>\n",
       "      <td>NaN</td>\n",
       "      <td>909.0</td>\n",
       "      <td>NaN</td>\n",
       "      <td>108.0</td>\n",
       "      <td>801.0</td>\n",
       "      <td>355.0</td>\n",
       "      <td>844.0</td>\n",
       "      <td>957.0</td>\n",
       "      <td>938.0</td>\n",
       "      <td>248.0</td>\n",
       "      <td>175.0</td>\n",
       "      <td>701.0</td>\n",
       "      <td>832.0</td>\n",
       "      <td>329.0</td>\n",
       "      <td>56.0</td>\n",
       "      <td>NaN</td>\n",
       "    </tr>\n",
       "    <tr>\n",
       "      <th>100</th>\n",
       "      <td>112.0</td>\n",
       "      <td>565.0</td>\n",
       "      <td>743.0</td>\n",
       "      <td>256.0</td>\n",
       "      <td>NaN</td>\n",
       "      <td>635.0</td>\n",
       "      <td>NaN</td>\n",
       "      <td>586.0</td>\n",
       "      <td>900.0</td>\n",
       "      <td>943.0</td>\n",
       "      <td>186.0</td>\n",
       "      <td>490.0</td>\n",
       "      <td>NaN</td>\n",
       "      <td>146.0</td>\n",
       "      <td>927.0</td>\n",
       "      <td>333.0</td>\n",
       "    </tr>\n",
       "    <tr>\n",
       "      <th>101</th>\n",
       "      <td>445.0</td>\n",
       "      <td>171.0</td>\n",
       "      <td>494.0</td>\n",
       "      <td>845.0</td>\n",
       "      <td>870.0</td>\n",
       "      <td>297.0</td>\n",
       "      <td>483.0</td>\n",
       "      <td>426.0</td>\n",
       "      <td>478.0</td>\n",
       "      <td>126.0</td>\n",
       "      <td>788.0</td>\n",
       "      <td>993.0</td>\n",
       "      <td>312.0</td>\n",
       "      <td>768.0</td>\n",
       "      <td>581.0</td>\n",
       "      <td>853.0</td>\n",
       "    </tr>\n",
       "    <tr>\n",
       "      <th>102</th>\n",
       "      <td>870.0</td>\n",
       "      <td>211.0</td>\n",
       "      <td>416.0</td>\n",
       "      <td>448.0</td>\n",
       "      <td>923.0</td>\n",
       "      <td>952.0</td>\n",
       "      <td>126.0</td>\n",
       "      <td>177.0</td>\n",
       "      <td>NaN</td>\n",
       "      <td>143.0</td>\n",
       "      <td>862.0</td>\n",
       "      <td>344.0</td>\n",
       "      <td>648.0</td>\n",
       "      <td>908.0</td>\n",
       "      <td>841.0</td>\n",
       "      <td>694.0</td>\n",
       "    </tr>\n",
       "  </tbody>\n",
       "</table>\n",
       "<p>103 rows × 16 columns</p>\n",
       "</div>"
      ],
      "text/plain": [
       "     months_as_customer    age  policy_deductable  umbrella_limit  \\\n",
       "0                 112.0  565.0              743.0           256.0   \n",
       "1                 445.0  171.0              494.0           845.0   \n",
       "2                 870.0  211.0              416.0           448.0   \n",
       "3                 280.0  967.0              240.0           212.0   \n",
       "4                 116.0  279.0              758.0           193.0   \n",
       "..                  ...    ...                ...             ...   \n",
       "98                411.0  105.0              719.0           482.0   \n",
       "99                  NaN  909.0                NaN           108.0   \n",
       "100               112.0  565.0              743.0           256.0   \n",
       "101               445.0  171.0              494.0           845.0   \n",
       "102               870.0  211.0              416.0           448.0   \n",
       "\n",
       "     insured_zip  capital-gains  capital-loss  incident_hour_of_the_day  \\\n",
       "0            NaN          635.0           NaN                     586.0   \n",
       "1          870.0          297.0         483.0                     426.0   \n",
       "2          923.0          952.0         126.0                     177.0   \n",
       "3          905.0          863.0         839.0                     851.0   \n",
       "4          887.0          672.0         800.0                      52.0   \n",
       "..           ...            ...           ...                       ...   \n",
       "98         695.0          960.0         277.0                      34.0   \n",
       "99         801.0          355.0         844.0                     957.0   \n",
       "100          NaN          635.0           NaN                     586.0   \n",
       "101        870.0          297.0         483.0                     426.0   \n",
       "102        923.0          952.0         126.0                     177.0   \n",
       "\n",
       "     number_of_vehicles_involved  bodily_injuries  witnesses  injury_claim  \\\n",
       "0                          900.0            943.0      186.0         490.0   \n",
       "1                          478.0            126.0      788.0         993.0   \n",
       "2                            NaN            143.0      862.0         344.0   \n",
       "3                          574.0             67.0      291.0         551.0   \n",
       "4                          160.0            565.0       72.0         768.0   \n",
       "..                           ...              ...        ...           ...   \n",
       "98                         833.0            233.0      258.0         262.0   \n",
       "99                         938.0            248.0      175.0         701.0   \n",
       "100                        900.0            943.0      186.0         490.0   \n",
       "101                        478.0            126.0      788.0         993.0   \n",
       "102                          NaN            143.0      862.0         344.0   \n",
       "\n",
       "     property_claim  vehicle_claim  auto_year  policy_annual_premium  \n",
       "0               NaN          146.0      927.0                  333.0  \n",
       "1             312.0          768.0      581.0                  853.0  \n",
       "2             648.0          908.0      841.0                  694.0  \n",
       "3              65.0          252.0        NaN                  139.0  \n",
       "4             735.0          552.0      849.0                  420.0  \n",
       "..              ...            ...        ...                    ...  \n",
       "98            673.0          305.0      166.0                  427.0  \n",
       "99            832.0          329.0       56.0                    NaN  \n",
       "100             NaN          146.0      927.0                  333.0  \n",
       "101           312.0          768.0      581.0                  853.0  \n",
       "102           648.0          908.0      841.0                  694.0  \n",
       "\n",
       "[103 rows x 16 columns]"
      ]
     },
     "execution_count": 523,
     "metadata": {},
     "output_type": "execute_result"
    }
   ],
   "source": [
    "# โหลดชื่อคอลัมน์จากไฟล์\n",
    "columns = pd.read_csv('int_to_mockup.csv', dtype=str).columns.tolist()\n",
    "\n",
    "# สร้าง mockup ข้อมูลพื้นฐาน\n",
    "np.random.seed(42)\n",
    "n = 100  # จำนวน row\n",
    "df_mockup = pd.DataFrame({col: np.random.randint(10, 1000, n) for col in columns})\n",
    "\n",
    "#  1. แทรก NaN 5% ในแต่ละคอลัมน์\n",
    "for col in df_mockup.columns:\n",
    "    nan_indices = np.random.choice(df_mockup.index, size=int(0.05 * n), replace=False)\n",
    "    df_mockup.loc[nan_indices, col] = np.nan\n",
    "\n",
    "#  2. เพิ่ม duplicated row (เช่น 3 rows)\n",
    "df_mockup = pd.concat([df_mockup, df_mockup.iloc[:3]], ignore_index=True)\n",
    "\n",
    "#  3. แทรก outlier: คูณบางค่าด้วย 10 ในบางคอลัมน์\n",
    "for col in df_mockup.columns[:3]:  # ทำแค่บางคอลัมน์แรก\n",
    "    outlier_indices = np.random.choice(df_mockup.index, size=2, replace=False)\n",
    "    df_mockup.loc[outlier_indices, col] = df_mockup[col].max() * 10\n",
    "\n",
    "df_mockup.reset_index(drop=True, inplace=True)\n",
    "df_mockup\n"
   ]
  },
  {
   "cell_type": "markdown",
   "metadata": {},
   "source": [
    "drop nan ,dup"
   ]
  },
  {
   "cell_type": "code",
   "execution_count": 524,
   "metadata": {},
   "outputs": [],
   "source": [
    "def clean_dataframe(df, outlier_cols=None):\n",
    "    \"\"\"\n",
    "    ลบ missing values, duplicated rows, และ outliers (แบบ IQR) จาก DataFrame\n",
    "    - outlier_cols: รายชื่อคอลัมน์ที่ต้องการตรวจ outlier (ถ้า None จะใช้ numeric ทั้งหมด)\n",
    "    \"\"\"\n",
    "    df_clean = df.copy()\n",
    "\n",
    "    # 1. ลบ NaN\n",
    "    df_clean.dropna(inplace=True)\n",
    "\n",
    "    # 2. ลบ duplicated rows\n",
    "    df_clean.drop_duplicates(inplace=True)\n",
    "\n",
    "    # 3. ลบ outliers (ใช้ IQR)\n",
    "    # if outlier_cols is None:\n",
    "    #     outlier_cols = df_clean.select_dtypes(include=['int', 'float']).columns.tolist()\n",
    "\n",
    "    # for col in outlier_cols:\n",
    "    #     q1 = df_clean[col].quantile(0.25)\n",
    "    #     q3 = df_clean[col].quantile(0.75)\n",
    "    #     iqr = q3 - q1\n",
    "    #     lower = q1 - 1.5 * iqr\n",
    "    #     upper = q3 + 1.5 * iqr\n",
    "    #     df_clean = df_clean[(df_clean[col] >= lower) & (df_clean[col] <= upper)]\n",
    "\n",
    "    return df_clean\n"
   ]
  },
  {
   "cell_type": "code",
   "execution_count": 525,
   "metadata": {},
   "outputs": [
    {
     "data": {
      "text/html": [
       "<div>\n",
       "<style scoped>\n",
       "    .dataframe tbody tr th:only-of-type {\n",
       "        vertical-align: middle;\n",
       "    }\n",
       "\n",
       "    .dataframe tbody tr th {\n",
       "        vertical-align: top;\n",
       "    }\n",
       "\n",
       "    .dataframe thead th {\n",
       "        text-align: right;\n",
       "    }\n",
       "</style>\n",
       "<table border=\"1\" class=\"dataframe\">\n",
       "  <thead>\n",
       "    <tr style=\"text-align: right;\">\n",
       "      <th></th>\n",
       "      <th>column</th>\n",
       "      <th>dtype</th>\n",
       "      <th>null_count</th>\n",
       "      <th>null_percent</th>\n",
       "      <th>total_rows</th>\n",
       "      <th>outlier_count</th>\n",
       "    </tr>\n",
       "  </thead>\n",
       "  <tbody>\n",
       "    <tr>\n",
       "      <th>0</th>\n",
       "      <td>months_as_customer</td>\n",
       "      <td>float64</td>\n",
       "      <td>5</td>\n",
       "      <td>4.85</td>\n",
       "      <td>103</td>\n",
       "      <td>2</td>\n",
       "    </tr>\n",
       "    <tr>\n",
       "      <th>1</th>\n",
       "      <td>age</td>\n",
       "      <td>float64</td>\n",
       "      <td>5</td>\n",
       "      <td>4.85</td>\n",
       "      <td>103</td>\n",
       "      <td>2</td>\n",
       "    </tr>\n",
       "    <tr>\n",
       "      <th>2</th>\n",
       "      <td>policy_deductable</td>\n",
       "      <td>float64</td>\n",
       "      <td>5</td>\n",
       "      <td>4.85</td>\n",
       "      <td>103</td>\n",
       "      <td>2</td>\n",
       "    </tr>\n",
       "    <tr>\n",
       "      <th>3</th>\n",
       "      <td>umbrella_limit</td>\n",
       "      <td>float64</td>\n",
       "      <td>5</td>\n",
       "      <td>4.85</td>\n",
       "      <td>103</td>\n",
       "      <td>0</td>\n",
       "    </tr>\n",
       "    <tr>\n",
       "      <th>4</th>\n",
       "      <td>insured_zip</td>\n",
       "      <td>float64</td>\n",
       "      <td>6</td>\n",
       "      <td>5.83</td>\n",
       "      <td>103</td>\n",
       "      <td>0</td>\n",
       "    </tr>\n",
       "    <tr>\n",
       "      <th>5</th>\n",
       "      <td>capital-gains</td>\n",
       "      <td>float64</td>\n",
       "      <td>5</td>\n",
       "      <td>4.85</td>\n",
       "      <td>103</td>\n",
       "      <td>0</td>\n",
       "    </tr>\n",
       "    <tr>\n",
       "      <th>6</th>\n",
       "      <td>capital-loss</td>\n",
       "      <td>float64</td>\n",
       "      <td>6</td>\n",
       "      <td>5.83</td>\n",
       "      <td>103</td>\n",
       "      <td>0</td>\n",
       "    </tr>\n",
       "    <tr>\n",
       "      <th>7</th>\n",
       "      <td>incident_hour_of_the_day</td>\n",
       "      <td>float64</td>\n",
       "      <td>5</td>\n",
       "      <td>4.85</td>\n",
       "      <td>103</td>\n",
       "      <td>0</td>\n",
       "    </tr>\n",
       "    <tr>\n",
       "      <th>8</th>\n",
       "      <td>number_of_vehicles_involved</td>\n",
       "      <td>float64</td>\n",
       "      <td>6</td>\n",
       "      <td>5.83</td>\n",
       "      <td>103</td>\n",
       "      <td>0</td>\n",
       "    </tr>\n",
       "    <tr>\n",
       "      <th>9</th>\n",
       "      <td>bodily_injuries</td>\n",
       "      <td>float64</td>\n",
       "      <td>5</td>\n",
       "      <td>4.85</td>\n",
       "      <td>103</td>\n",
       "      <td>0</td>\n",
       "    </tr>\n",
       "    <tr>\n",
       "      <th>10</th>\n",
       "      <td>witnesses</td>\n",
       "      <td>float64</td>\n",
       "      <td>5</td>\n",
       "      <td>4.85</td>\n",
       "      <td>103</td>\n",
       "      <td>0</td>\n",
       "    </tr>\n",
       "    <tr>\n",
       "      <th>11</th>\n",
       "      <td>injury_claim</td>\n",
       "      <td>float64</td>\n",
       "      <td>5</td>\n",
       "      <td>4.85</td>\n",
       "      <td>103</td>\n",
       "      <td>0</td>\n",
       "    </tr>\n",
       "    <tr>\n",
       "      <th>12</th>\n",
       "      <td>property_claim</td>\n",
       "      <td>float64</td>\n",
       "      <td>6</td>\n",
       "      <td>5.83</td>\n",
       "      <td>103</td>\n",
       "      <td>0</td>\n",
       "    </tr>\n",
       "    <tr>\n",
       "      <th>13</th>\n",
       "      <td>vehicle_claim</td>\n",
       "      <td>float64</td>\n",
       "      <td>5</td>\n",
       "      <td>4.85</td>\n",
       "      <td>103</td>\n",
       "      <td>0</td>\n",
       "    </tr>\n",
       "    <tr>\n",
       "      <th>14</th>\n",
       "      <td>auto_year</td>\n",
       "      <td>float64</td>\n",
       "      <td>5</td>\n",
       "      <td>4.85</td>\n",
       "      <td>103</td>\n",
       "      <td>0</td>\n",
       "    </tr>\n",
       "    <tr>\n",
       "      <th>15</th>\n",
       "      <td>policy_annual_premium</td>\n",
       "      <td>float64</td>\n",
       "      <td>5</td>\n",
       "      <td>4.85</td>\n",
       "      <td>103</td>\n",
       "      <td>0</td>\n",
       "    </tr>\n",
       "  </tbody>\n",
       "</table>\n",
       "</div>"
      ],
      "text/plain": [
       "                         column    dtype  null_count  null_percent  \\\n",
       "0            months_as_customer  float64           5          4.85   \n",
       "1                           age  float64           5          4.85   \n",
       "2             policy_deductable  float64           5          4.85   \n",
       "3                umbrella_limit  float64           5          4.85   \n",
       "4                   insured_zip  float64           6          5.83   \n",
       "5                 capital-gains  float64           5          4.85   \n",
       "6                  capital-loss  float64           6          5.83   \n",
       "7      incident_hour_of_the_day  float64           5          4.85   \n",
       "8   number_of_vehicles_involved  float64           6          5.83   \n",
       "9               bodily_injuries  float64           5          4.85   \n",
       "10                    witnesses  float64           5          4.85   \n",
       "11                 injury_claim  float64           5          4.85   \n",
       "12               property_claim  float64           6          5.83   \n",
       "13                vehicle_claim  float64           5          4.85   \n",
       "14                    auto_year  float64           5          4.85   \n",
       "15        policy_annual_premium  float64           5          4.85   \n",
       "\n",
       "    total_rows  outlier_count  \n",
       "0          103              2  \n",
       "1          103              2  \n",
       "2          103              2  \n",
       "3          103              0  \n",
       "4          103              0  \n",
       "5          103              0  \n",
       "6          103              0  \n",
       "7          103              0  \n",
       "8          103              0  \n",
       "9          103              0  \n",
       "10         103              0  \n",
       "11         103              0  \n",
       "12         103              0  \n",
       "13         103              0  \n",
       "14         103              0  \n",
       "15         103              0  "
      ]
     },
     "execution_count": 525,
     "metadata": {},
     "output_type": "execute_result"
    }
   ],
   "source": [
    "summary = check_df_info(df_mockup)\n",
    "summary"
   ]
  },
  {
   "cell_type": "code",
   "execution_count": 526,
   "metadata": {},
   "outputs": [
    {
     "data": {
      "text/html": [
       "<div>\n",
       "<style scoped>\n",
       "    .dataframe tbody tr th:only-of-type {\n",
       "        vertical-align: middle;\n",
       "    }\n",
       "\n",
       "    .dataframe tbody tr th {\n",
       "        vertical-align: top;\n",
       "    }\n",
       "\n",
       "    .dataframe thead th {\n",
       "        text-align: right;\n",
       "    }\n",
       "</style>\n",
       "<table border=\"1\" class=\"dataframe\">\n",
       "  <thead>\n",
       "    <tr style=\"text-align: right;\">\n",
       "      <th></th>\n",
       "      <th>column</th>\n",
       "      <th>dtype</th>\n",
       "      <th>null_count</th>\n",
       "      <th>null_percent</th>\n",
       "      <th>total_rows</th>\n",
       "      <th>outlier_count</th>\n",
       "    </tr>\n",
       "  </thead>\n",
       "  <tbody>\n",
       "    <tr>\n",
       "      <th>0</th>\n",
       "      <td>months_as_customer</td>\n",
       "      <td>float64</td>\n",
       "      <td>0</td>\n",
       "      <td>0.0</td>\n",
       "      <td>50</td>\n",
       "      <td>1</td>\n",
       "    </tr>\n",
       "    <tr>\n",
       "      <th>1</th>\n",
       "      <td>age</td>\n",
       "      <td>float64</td>\n",
       "      <td>0</td>\n",
       "      <td>0.0</td>\n",
       "      <td>50</td>\n",
       "      <td>0</td>\n",
       "    </tr>\n",
       "    <tr>\n",
       "      <th>2</th>\n",
       "      <td>policy_deductable</td>\n",
       "      <td>float64</td>\n",
       "      <td>0</td>\n",
       "      <td>0.0</td>\n",
       "      <td>50</td>\n",
       "      <td>1</td>\n",
       "    </tr>\n",
       "    <tr>\n",
       "      <th>3</th>\n",
       "      <td>umbrella_limit</td>\n",
       "      <td>float64</td>\n",
       "      <td>0</td>\n",
       "      <td>0.0</td>\n",
       "      <td>50</td>\n",
       "      <td>0</td>\n",
       "    </tr>\n",
       "    <tr>\n",
       "      <th>4</th>\n",
       "      <td>insured_zip</td>\n",
       "      <td>float64</td>\n",
       "      <td>0</td>\n",
       "      <td>0.0</td>\n",
       "      <td>50</td>\n",
       "      <td>0</td>\n",
       "    </tr>\n",
       "    <tr>\n",
       "      <th>5</th>\n",
       "      <td>capital-gains</td>\n",
       "      <td>float64</td>\n",
       "      <td>0</td>\n",
       "      <td>0.0</td>\n",
       "      <td>50</td>\n",
       "      <td>0</td>\n",
       "    </tr>\n",
       "    <tr>\n",
       "      <th>6</th>\n",
       "      <td>capital-loss</td>\n",
       "      <td>float64</td>\n",
       "      <td>0</td>\n",
       "      <td>0.0</td>\n",
       "      <td>50</td>\n",
       "      <td>0</td>\n",
       "    </tr>\n",
       "    <tr>\n",
       "      <th>7</th>\n",
       "      <td>incident_hour_of_the_day</td>\n",
       "      <td>float64</td>\n",
       "      <td>0</td>\n",
       "      <td>0.0</td>\n",
       "      <td>50</td>\n",
       "      <td>0</td>\n",
       "    </tr>\n",
       "    <tr>\n",
       "      <th>8</th>\n",
       "      <td>number_of_vehicles_involved</td>\n",
       "      <td>float64</td>\n",
       "      <td>0</td>\n",
       "      <td>0.0</td>\n",
       "      <td>50</td>\n",
       "      <td>0</td>\n",
       "    </tr>\n",
       "    <tr>\n",
       "      <th>9</th>\n",
       "      <td>bodily_injuries</td>\n",
       "      <td>float64</td>\n",
       "      <td>0</td>\n",
       "      <td>0.0</td>\n",
       "      <td>50</td>\n",
       "      <td>0</td>\n",
       "    </tr>\n",
       "    <tr>\n",
       "      <th>10</th>\n",
       "      <td>witnesses</td>\n",
       "      <td>float64</td>\n",
       "      <td>0</td>\n",
       "      <td>0.0</td>\n",
       "      <td>50</td>\n",
       "      <td>0</td>\n",
       "    </tr>\n",
       "    <tr>\n",
       "      <th>11</th>\n",
       "      <td>injury_claim</td>\n",
       "      <td>float64</td>\n",
       "      <td>0</td>\n",
       "      <td>0.0</td>\n",
       "      <td>50</td>\n",
       "      <td>0</td>\n",
       "    </tr>\n",
       "    <tr>\n",
       "      <th>12</th>\n",
       "      <td>property_claim</td>\n",
       "      <td>float64</td>\n",
       "      <td>0</td>\n",
       "      <td>0.0</td>\n",
       "      <td>50</td>\n",
       "      <td>0</td>\n",
       "    </tr>\n",
       "    <tr>\n",
       "      <th>13</th>\n",
       "      <td>vehicle_claim</td>\n",
       "      <td>float64</td>\n",
       "      <td>0</td>\n",
       "      <td>0.0</td>\n",
       "      <td>50</td>\n",
       "      <td>0</td>\n",
       "    </tr>\n",
       "    <tr>\n",
       "      <th>14</th>\n",
       "      <td>auto_year</td>\n",
       "      <td>float64</td>\n",
       "      <td>0</td>\n",
       "      <td>0.0</td>\n",
       "      <td>50</td>\n",
       "      <td>0</td>\n",
       "    </tr>\n",
       "    <tr>\n",
       "      <th>15</th>\n",
       "      <td>policy_annual_premium</td>\n",
       "      <td>float64</td>\n",
       "      <td>0</td>\n",
       "      <td>0.0</td>\n",
       "      <td>50</td>\n",
       "      <td>0</td>\n",
       "    </tr>\n",
       "  </tbody>\n",
       "</table>\n",
       "</div>"
      ],
      "text/plain": [
       "                         column    dtype  null_count  null_percent  \\\n",
       "0            months_as_customer  float64           0           0.0   \n",
       "1                           age  float64           0           0.0   \n",
       "2             policy_deductable  float64           0           0.0   \n",
       "3                umbrella_limit  float64           0           0.0   \n",
       "4                   insured_zip  float64           0           0.0   \n",
       "5                 capital-gains  float64           0           0.0   \n",
       "6                  capital-loss  float64           0           0.0   \n",
       "7      incident_hour_of_the_day  float64           0           0.0   \n",
       "8   number_of_vehicles_involved  float64           0           0.0   \n",
       "9               bodily_injuries  float64           0           0.0   \n",
       "10                    witnesses  float64           0           0.0   \n",
       "11                 injury_claim  float64           0           0.0   \n",
       "12               property_claim  float64           0           0.0   \n",
       "13                vehicle_claim  float64           0           0.0   \n",
       "14                    auto_year  float64           0           0.0   \n",
       "15        policy_annual_premium  float64           0           0.0   \n",
       "\n",
       "    total_rows  outlier_count  \n",
       "0           50              1  \n",
       "1           50              0  \n",
       "2           50              1  \n",
       "3           50              0  \n",
       "4           50              0  \n",
       "5           50              0  \n",
       "6           50              0  \n",
       "7           50              0  \n",
       "8           50              0  \n",
       "9           50              0  \n",
       "10          50              0  \n",
       "11          50              0  \n",
       "12          50              0  \n",
       "13          50              0  \n",
       "14          50              0  \n",
       "15          50              0  "
      ]
     },
     "execution_count": 526,
     "metadata": {},
     "output_type": "execute_result"
    }
   ],
   "source": [
    "df_cleaned_mockup = clean_dataframe(df_mockup)\n",
    "summary = check_df_info(df_cleaned_mockup)\n",
    "summary"
   ]
  },
  {
   "cell_type": "markdown",
   "metadata": {},
   "source": [
    "clean raw data"
   ]
  },
  {
   "cell_type": "code",
   "execution_count": 527,
   "metadata": {},
   "outputs": [
    {
     "data": {
      "text/html": [
       "<div>\n",
       "<style scoped>\n",
       "    .dataframe tbody tr th:only-of-type {\n",
       "        vertical-align: middle;\n",
       "    }\n",
       "\n",
       "    .dataframe tbody tr th {\n",
       "        vertical-align: top;\n",
       "    }\n",
       "\n",
       "    .dataframe thead th {\n",
       "        text-align: right;\n",
       "    }\n",
       "</style>\n",
       "<table border=\"1\" class=\"dataframe\">\n",
       "  <thead>\n",
       "    <tr style=\"text-align: right;\">\n",
       "      <th></th>\n",
       "      <th>column</th>\n",
       "      <th>dtype</th>\n",
       "      <th>null_count</th>\n",
       "      <th>null_percent</th>\n",
       "      <th>total_rows</th>\n",
       "      <th>outlier_count</th>\n",
       "    </tr>\n",
       "  </thead>\n",
       "  <tbody>\n",
       "    <tr>\n",
       "      <th>0</th>\n",
       "      <td>months_as_customer</td>\n",
       "      <td>int64</td>\n",
       "      <td>0</td>\n",
       "      <td>0.0</td>\n",
       "      <td>1000</td>\n",
       "      <td>0</td>\n",
       "    </tr>\n",
       "    <tr>\n",
       "      <th>1</th>\n",
       "      <td>age</td>\n",
       "      <td>int64</td>\n",
       "      <td>0</td>\n",
       "      <td>0.0</td>\n",
       "      <td>1000</td>\n",
       "      <td>4</td>\n",
       "    </tr>\n",
       "    <tr>\n",
       "      <th>2</th>\n",
       "      <td>policy_deductable</td>\n",
       "      <td>int64</td>\n",
       "      <td>0</td>\n",
       "      <td>0.0</td>\n",
       "      <td>1000</td>\n",
       "      <td>0</td>\n",
       "    </tr>\n",
       "    <tr>\n",
       "      <th>3</th>\n",
       "      <td>umbrella_limit</td>\n",
       "      <td>int64</td>\n",
       "      <td>0</td>\n",
       "      <td>0.0</td>\n",
       "      <td>1000</td>\n",
       "      <td>202</td>\n",
       "    </tr>\n",
       "    <tr>\n",
       "      <th>4</th>\n",
       "      <td>insured_zip</td>\n",
       "      <td>int64</td>\n",
       "      <td>0</td>\n",
       "      <td>0.0</td>\n",
       "      <td>1000</td>\n",
       "      <td>0</td>\n",
       "    </tr>\n",
       "    <tr>\n",
       "      <th>5</th>\n",
       "      <td>capital-gains</td>\n",
       "      <td>int64</td>\n",
       "      <td>0</td>\n",
       "      <td>0.0</td>\n",
       "      <td>1000</td>\n",
       "      <td>0</td>\n",
       "    </tr>\n",
       "    <tr>\n",
       "      <th>6</th>\n",
       "      <td>capital-loss</td>\n",
       "      <td>int64</td>\n",
       "      <td>0</td>\n",
       "      <td>0.0</td>\n",
       "      <td>1000</td>\n",
       "      <td>0</td>\n",
       "    </tr>\n",
       "    <tr>\n",
       "      <th>7</th>\n",
       "      <td>incident_hour_of_the_day</td>\n",
       "      <td>int64</td>\n",
       "      <td>0</td>\n",
       "      <td>0.0</td>\n",
       "      <td>1000</td>\n",
       "      <td>0</td>\n",
       "    </tr>\n",
       "    <tr>\n",
       "      <th>8</th>\n",
       "      <td>number_of_vehicles_involved</td>\n",
       "      <td>int64</td>\n",
       "      <td>0</td>\n",
       "      <td>0.0</td>\n",
       "      <td>1000</td>\n",
       "      <td>0</td>\n",
       "    </tr>\n",
       "    <tr>\n",
       "      <th>9</th>\n",
       "      <td>bodily_injuries</td>\n",
       "      <td>int64</td>\n",
       "      <td>0</td>\n",
       "      <td>0.0</td>\n",
       "      <td>1000</td>\n",
       "      <td>0</td>\n",
       "    </tr>\n",
       "    <tr>\n",
       "      <th>10</th>\n",
       "      <td>witnesses</td>\n",
       "      <td>int64</td>\n",
       "      <td>0</td>\n",
       "      <td>0.0</td>\n",
       "      <td>1000</td>\n",
       "      <td>0</td>\n",
       "    </tr>\n",
       "    <tr>\n",
       "      <th>11</th>\n",
       "      <td>injury_claim</td>\n",
       "      <td>int64</td>\n",
       "      <td>0</td>\n",
       "      <td>0.0</td>\n",
       "      <td>1000</td>\n",
       "      <td>0</td>\n",
       "    </tr>\n",
       "    <tr>\n",
       "      <th>12</th>\n",
       "      <td>property_claim</td>\n",
       "      <td>int64</td>\n",
       "      <td>0</td>\n",
       "      <td>0.0</td>\n",
       "      <td>1000</td>\n",
       "      <td>6</td>\n",
       "    </tr>\n",
       "    <tr>\n",
       "      <th>13</th>\n",
       "      <td>vehicle_claim</td>\n",
       "      <td>int64</td>\n",
       "      <td>0</td>\n",
       "      <td>0.0</td>\n",
       "      <td>1000</td>\n",
       "      <td>0</td>\n",
       "    </tr>\n",
       "    <tr>\n",
       "      <th>14</th>\n",
       "      <td>auto_year</td>\n",
       "      <td>int64</td>\n",
       "      <td>0</td>\n",
       "      <td>0.0</td>\n",
       "      <td>1000</td>\n",
       "      <td>0</td>\n",
       "    </tr>\n",
       "    <tr>\n",
       "      <th>15</th>\n",
       "      <td>policy_annual_premium</td>\n",
       "      <td>float64</td>\n",
       "      <td>0</td>\n",
       "      <td>0.0</td>\n",
       "      <td>1000</td>\n",
       "      <td>9</td>\n",
       "    </tr>\n",
       "  </tbody>\n",
       "</table>\n",
       "</div>"
      ],
      "text/plain": [
       "                         column    dtype  null_count  null_percent  \\\n",
       "0            months_as_customer    int64           0           0.0   \n",
       "1                           age    int64           0           0.0   \n",
       "2             policy_deductable    int64           0           0.0   \n",
       "3                umbrella_limit    int64           0           0.0   \n",
       "4                   insured_zip    int64           0           0.0   \n",
       "5                 capital-gains    int64           0           0.0   \n",
       "6                  capital-loss    int64           0           0.0   \n",
       "7      incident_hour_of_the_day    int64           0           0.0   \n",
       "8   number_of_vehicles_involved    int64           0           0.0   \n",
       "9               bodily_injuries    int64           0           0.0   \n",
       "10                    witnesses    int64           0           0.0   \n",
       "11                 injury_claim    int64           0           0.0   \n",
       "12               property_claim    int64           0           0.0   \n",
       "13                vehicle_claim    int64           0           0.0   \n",
       "14                    auto_year    int64           0           0.0   \n",
       "15        policy_annual_premium  float64           0           0.0   \n",
       "\n",
       "    total_rows  outlier_count  \n",
       "0         1000              0  \n",
       "1         1000              4  \n",
       "2         1000              0  \n",
       "3         1000            202  \n",
       "4         1000              0  \n",
       "5         1000              0  \n",
       "6         1000              0  \n",
       "7         1000              0  \n",
       "8         1000              0  \n",
       "9         1000              0  \n",
       "10        1000              0  \n",
       "11        1000              0  \n",
       "12        1000              6  \n",
       "13        1000              0  \n",
       "14        1000              0  \n",
       "15        1000              9  "
      ]
     },
     "execution_count": 527,
     "metadata": {},
     "output_type": "execute_result"
    }
   ],
   "source": [
    "df_cleaned = clean_dataframe(df_select_int)\n",
    "summary = check_df_info(df_cleaned)\n",
    "summary"
   ]
  }
 ],
 "metadata": {
  "kernelspec": {
   "display_name": "Python 3.12.7 ('base')",
   "language": "python",
   "name": "python3"
  },
  "language_info": {
   "codemirror_mode": {
    "name": "ipython",
    "version": 3
   },
   "file_extension": ".py",
   "mimetype": "text/x-python",
   "name": "python",
   "nbconvert_exporter": "python",
   "pygments_lexer": "ipython3",
   "version": "3.12.7"
  },
  "orig_nbformat": 4,
  "vscode": {
   "interpreter": {
    "hash": "40d3a090f54c6569ab1632332b64b2c03c39dcf918b08424e98f38b5ae0af88f"
   }
  }
 },
 "nbformat": 4,
 "nbformat_minor": 2
}
